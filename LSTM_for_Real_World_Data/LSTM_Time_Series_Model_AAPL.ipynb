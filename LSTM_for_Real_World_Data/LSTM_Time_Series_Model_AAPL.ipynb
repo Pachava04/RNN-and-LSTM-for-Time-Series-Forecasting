{
  "cells": [
    {
      "cell_type": "code",
      "execution_count": null,
      "id": "141b4f34-70b6-4f78-8e31-fa260215b02d",
      "metadata": {
        "tags": [],
        "id": "141b4f34-70b6-4f78-8e31-fa260215b02d"
      },
      "outputs": [],
      "source": [
        "## IMPORT BASIC LIBRARIES\n",
        "#pvg7698\n",
        "import pandas as pd\n",
        "import numpy as np\n",
        "%matplotlib inline\n",
        "import matplotlib.pyplot as plt\n"
      ]
    },
    {
      "cell_type": "code",
      "execution_count": null,
      "id": "a004ba2c-ba90-45cf-b33d-58dff40ae868",
      "metadata": {
        "tags": [],
        "id": "a004ba2c-ba90-45cf-b33d-58dff40ae868",
        "outputId": "6aeb5ede-ac0c-4940-d479-595207d5a6e2"
      },
      "outputs": [
        {
          "name": "stderr",
          "output_type": "stream",
          "text": [
            "2024-11-21 02:29:14.271427: E external/local_xla/xla/stream_executor/cuda/cuda_fft.cc:485] Unable to register cuFFT factory: Attempting to register factory for plugin cuFFT when one has already been registered\n",
            "2024-11-21 02:29:14.295649: E external/local_xla/xla/stream_executor/cuda/cuda_dnn.cc:8454] Unable to register cuDNN factory: Attempting to register factory for plugin cuDNN when one has already been registered\n",
            "2024-11-21 02:29:14.302951: E external/local_xla/xla/stream_executor/cuda/cuda_blas.cc:1452] Unable to register cuBLAS factory: Attempting to register factory for plugin cuBLAS when one has already been registered\n",
            "2024-11-21 02:29:14.321193: I tensorflow/core/platform/cpu_feature_guard.cc:210] This TensorFlow binary is optimized to use available CPU instructions in performance-critical operations.\n",
            "To enable the following instructions: AVX2 FMA, in other operations, rebuild TensorFlow with the appropriate compiler flags.\n",
            "2024-11-21 02:29:15.696038: W tensorflow/compiler/tf2tensorrt/utils/py_utils.cc:38] TF-TRT Warning: Could not find TensorRT\n"
          ]
        }
      ],
      "source": [
        "# For timeseries RNN LSTM neural network\n",
        "#pvg7698\n",
        "from tensorflow. keras.models import Sequential\n",
        "from tensorflow. keras.layers import LSTM\n",
        "from tensorflow.keras.layers import Dropout\n",
        "from tensorflow.keras.layers import Dense"
      ]
    },
    {
      "cell_type": "code",
      "execution_count": null,
      "id": "b2fa0a28-edcd-42a5-a4ec-c128b1ca6d46",
      "metadata": {
        "tags": [],
        "id": "b2fa0a28-edcd-42a5-a4ec-c128b1ca6d46"
      },
      "outputs": [],
      "source": [
        "# IMPORT KERAS: Timeseries Generator\n",
        "# This class produces time series batches used on training/testing the model\n",
        "#pvg7698\n",
        "from tensorflow.keras.preprocessing.sequence import TimeseriesGenerator"
      ]
    },
    {
      "cell_type": "code",
      "execution_count": null,
      "id": "0506c29d-4e6b-4072-8285-2f4dc2683f99",
      "metadata": {
        "tags": [],
        "id": "0506c29d-4e6b-4072-8285-2f4dc2683f99"
      },
      "outputs": [],
      "source": [
        "# IMPORT KERAS: MinMaxScaler\n",
        "# This class is used to preprocess (scale) the data\n",
        "#pvg7698\n",
        "from sklearn.preprocessing import MinMaxScaler"
      ]
    },
    {
      "cell_type": "markdown",
      "id": "afd98368-b745-4e6d-b22f-d2fe3a55ebc5",
      "metadata": {
        "id": "afd98368-b745-4e6d-b22f-d2fe3a55ebc5"
      },
      "source": [
        "## Data Set: APPL"
      ]
    },
    {
      "cell_type": "code",
      "execution_count": null,
      "id": "9c6e70ac-1d7b-4def-8aca-1245a03ef61e",
      "metadata": {
        "tags": [],
        "id": "9c6e70ac-1d7b-4def-8aca-1245a03ef61e"
      },
      "outputs": [],
      "source": [
        "#pvg7698\n",
        "dir_path_dataset_1 = 'AAPL .csv'"
      ]
    },
    {
      "cell_type": "markdown",
      "id": "4231c8fb-cc5f-45eb-a5ac-8647466f3e1c",
      "metadata": {
        "id": "4231c8fb-cc5f-45eb-a5ac-8647466f3e1c"
      },
      "source": [
        "### Load Dataset"
      ]
    },
    {
      "cell_type": "code",
      "execution_count": null,
      "id": "a315a3c2-bcc7-4e0a-9113-dd5946c20fb8",
      "metadata": {
        "tags": [],
        "id": "a315a3c2-bcc7-4e0a-9113-dd5946c20fb8"
      },
      "outputs": [],
      "source": [
        "#pvg7698\n",
        "df_ALL = pd.read_csv(dir_path_dataset_1)"
      ]
    },
    {
      "cell_type": "code",
      "execution_count": null,
      "id": "15490dfa-86f9-41da-9532-f570088cca06",
      "metadata": {
        "tags": [],
        "id": "15490dfa-86f9-41da-9532-f570088cca06",
        "outputId": "57a259e2-b631-4cc6-de6d-1f90699196d1"
      },
      "outputs": [
        {
          "data": {
            "text/html": [
              "<div>\n",
              "<style scoped>\n",
              "    .dataframe tbody tr th:only-of-type {\n",
              "        vertical-align: middle;\n",
              "    }\n",
              "\n",
              "    .dataframe tbody tr th {\n",
              "        vertical-align: top;\n",
              "    }\n",
              "\n",
              "    .dataframe thead th {\n",
              "        text-align: right;\n",
              "    }\n",
              "</style>\n",
              "<table border=\"1\" class=\"dataframe\">\n",
              "  <thead>\n",
              "    <tr style=\"text-align: right;\">\n",
              "      <th></th>\n",
              "      <th>Date</th>\n",
              "      <th>Open</th>\n",
              "      <th>High</th>\n",
              "      <th>Low</th>\n",
              "      <th>Close</th>\n",
              "      <th>Adj Close</th>\n",
              "      <th>Volume</th>\n",
              "    </tr>\n",
              "  </thead>\n",
              "  <tbody>\n",
              "    <tr>\n",
              "      <th>0</th>\n",
              "      <td>21-08-2019</td>\n",
              "      <td>53.247501</td>\n",
              "      <td>53.412498</td>\n",
              "      <td>52.900002</td>\n",
              "      <td>53.160000</td>\n",
              "      <td>51.439957</td>\n",
              "      <td>86141600</td>\n",
              "    </tr>\n",
              "    <tr>\n",
              "      <th>1</th>\n",
              "      <td>22-08-2019</td>\n",
              "      <td>53.297501</td>\n",
              "      <td>53.610001</td>\n",
              "      <td>52.687500</td>\n",
              "      <td>53.115002</td>\n",
              "      <td>51.396408</td>\n",
              "      <td>89014800</td>\n",
              "    </tr>\n",
              "    <tr>\n",
              "      <th>2</th>\n",
              "      <td>23-08-2019</td>\n",
              "      <td>52.357498</td>\n",
              "      <td>53.012501</td>\n",
              "      <td>50.250000</td>\n",
              "      <td>50.660000</td>\n",
              "      <td>49.020855</td>\n",
              "      <td>187272000</td>\n",
              "    </tr>\n",
              "    <tr>\n",
              "      <th>3</th>\n",
              "      <td>26-08-2019</td>\n",
              "      <td>51.465000</td>\n",
              "      <td>51.797501</td>\n",
              "      <td>51.264999</td>\n",
              "      <td>51.622501</td>\n",
              "      <td>49.952206</td>\n",
              "      <td>104174400</td>\n",
              "    </tr>\n",
              "    <tr>\n",
              "      <th>4</th>\n",
              "      <td>27-08-2019</td>\n",
              "      <td>51.965000</td>\n",
              "      <td>52.137501</td>\n",
              "      <td>50.882500</td>\n",
              "      <td>51.040001</td>\n",
              "      <td>49.388554</td>\n",
              "      <td>103493200</td>\n",
              "    </tr>\n",
              "  </tbody>\n",
              "</table>\n",
              "</div>"
            ],
            "text/plain": [
              "         Date       Open       High        Low      Close  Adj Close  \\\n",
              "0  21-08-2019  53.247501  53.412498  52.900002  53.160000  51.439957   \n",
              "1  22-08-2019  53.297501  53.610001  52.687500  53.115002  51.396408   \n",
              "2  23-08-2019  52.357498  53.012501  50.250000  50.660000  49.020855   \n",
              "3  26-08-2019  51.465000  51.797501  51.264999  51.622501  49.952206   \n",
              "4  27-08-2019  51.965000  52.137501  50.882500  51.040001  49.388554   \n",
              "\n",
              "      Volume  \n",
              "0   86141600  \n",
              "1   89014800  \n",
              "2  187272000  \n",
              "3  104174400  \n",
              "4  103493200  "
            ]
          },
          "execution_count": 7,
          "metadata": {},
          "output_type": "execute_result"
        }
      ],
      "source": [
        "#pvg7698\n",
        "df_ALL.head()"
      ]
    },
    {
      "cell_type": "code",
      "execution_count": null,
      "id": "fe4d8ac4-1d0b-439c-ab3b-150930667747",
      "metadata": {
        "tags": [],
        "id": "fe4d8ac4-1d0b-439c-ab3b-150930667747",
        "outputId": "90895501-2319-4df9-f4c9-9701c7c1a24a"
      },
      "outputs": [
        {
          "name": "stdout",
          "output_type": "stream",
          "text": [
            "        Date        Open        High         Low       Close   Adj Close  \\\n",
            "0 2021-01-04  133.520004  133.610001  126.760002  129.410004  126.683441   \n",
            "1 2021-01-05  128.889999  131.740005  128.429993  131.009995  128.249710   \n",
            "2 2021-01-06  127.720001  131.050003  126.379997  126.599998  123.932640   \n",
            "3 2021-01-07  128.360001  131.630005  127.860001  130.919998  128.161621   \n",
            "4 2021-01-08  132.429993  132.630005  130.229996  132.050003  129.267822   \n",
            "\n",
            "      Volume  \n",
            "0  143301900  \n",
            "1   97664900  \n",
            "2  155088000  \n",
            "3  109578200  \n",
            "4  105158200  \n"
          ]
        }
      ],
      "source": [
        "# Convert the 'Date' column to datetime\n",
        "df_ALL['Date'] = pd.to_datetime(df_ALL['Date'], format='%d-%m-%Y')\n",
        "\n",
        "# Filter data for the year 2021\n",
        "df_2021 = df_ALL[df_ALL['Date'].dt.year >= 2021]\n",
        "\n",
        "# Reset the index\n",
        "df_2021 = df_2021.reset_index(drop=True)\n",
        "\n",
        "# Display the first few rows of the filtered data\n",
        "print(df_2021.head())"
      ]
    },
    {
      "cell_type": "code",
      "execution_count": null,
      "id": "ee1a3e8b-0e9f-4285-baec-1cb518850084",
      "metadata": {
        "tags": [],
        "id": "ee1a3e8b-0e9f-4285-baec-1cb518850084"
      },
      "outputs": [],
      "source": [
        "#pvg7698\n",
        "df_ALL = df_2021"
      ]
    },
    {
      "cell_type": "code",
      "execution_count": null,
      "id": "1859933d-84ec-42de-8826-94301a062563",
      "metadata": {
        "tags": [],
        "id": "1859933d-84ec-42de-8826-94301a062563",
        "outputId": "de614811-24ab-43b1-90da-c39402755689"
      },
      "outputs": [
        {
          "data": {
            "text/html": [
              "<div>\n",
              "<style scoped>\n",
              "    .dataframe tbody tr th:only-of-type {\n",
              "        vertical-align: middle;\n",
              "    }\n",
              "\n",
              "    .dataframe tbody tr th {\n",
              "        vertical-align: top;\n",
              "    }\n",
              "\n",
              "    .dataframe thead th {\n",
              "        text-align: right;\n",
              "    }\n",
              "</style>\n",
              "<table border=\"1\" class=\"dataframe\">\n",
              "  <thead>\n",
              "    <tr style=\"text-align: right;\">\n",
              "      <th></th>\n",
              "      <th>Date</th>\n",
              "      <th>Open</th>\n",
              "      <th>High</th>\n",
              "      <th>Low</th>\n",
              "      <th>Close</th>\n",
              "      <th>Adj Close</th>\n",
              "      <th>Volume</th>\n",
              "    </tr>\n",
              "  </thead>\n",
              "  <tbody>\n",
              "    <tr>\n",
              "      <th>909</th>\n",
              "      <td>2024-08-15</td>\n",
              "      <td>224.600006</td>\n",
              "      <td>225.350006</td>\n",
              "      <td>222.759995</td>\n",
              "      <td>224.720001</td>\n",
              "      <td>224.720001</td>\n",
              "      <td>46414000</td>\n",
              "    </tr>\n",
              "    <tr>\n",
              "      <th>910</th>\n",
              "      <td>2024-08-16</td>\n",
              "      <td>223.919998</td>\n",
              "      <td>226.830002</td>\n",
              "      <td>223.649994</td>\n",
              "      <td>226.050003</td>\n",
              "      <td>226.050003</td>\n",
              "      <td>44340200</td>\n",
              "    </tr>\n",
              "    <tr>\n",
              "      <th>911</th>\n",
              "      <td>2024-08-19</td>\n",
              "      <td>225.720001</td>\n",
              "      <td>225.990005</td>\n",
              "      <td>223.039993</td>\n",
              "      <td>225.889999</td>\n",
              "      <td>225.889999</td>\n",
              "      <td>40687800</td>\n",
              "    </tr>\n",
              "    <tr>\n",
              "      <th>912</th>\n",
              "      <td>2024-08-20</td>\n",
              "      <td>225.770004</td>\n",
              "      <td>227.169998</td>\n",
              "      <td>225.449997</td>\n",
              "      <td>226.509995</td>\n",
              "      <td>226.509995</td>\n",
              "      <td>30241200</td>\n",
              "    </tr>\n",
              "    <tr>\n",
              "      <th>913</th>\n",
              "      <td>2024-08-21</td>\n",
              "      <td>226.490005</td>\n",
              "      <td>227.979996</td>\n",
              "      <td>225.634995</td>\n",
              "      <td>225.901199</td>\n",
              "      <td>225.901199</td>\n",
              "      <td>17963441</td>\n",
              "    </tr>\n",
              "  </tbody>\n",
              "</table>\n",
              "</div>"
            ],
            "text/plain": [
              "          Date        Open        High         Low       Close   Adj Close  \\\n",
              "909 2024-08-15  224.600006  225.350006  222.759995  224.720001  224.720001   \n",
              "910 2024-08-16  223.919998  226.830002  223.649994  226.050003  226.050003   \n",
              "911 2024-08-19  225.720001  225.990005  223.039993  225.889999  225.889999   \n",
              "912 2024-08-20  225.770004  227.169998  225.449997  226.509995  226.509995   \n",
              "913 2024-08-21  226.490005  227.979996  225.634995  225.901199  225.901199   \n",
              "\n",
              "       Volume  \n",
              "909  46414000  \n",
              "910  44340200  \n",
              "911  40687800  \n",
              "912  30241200  \n",
              "913  17963441  "
            ]
          },
          "execution_count": 10,
          "metadata": {},
          "output_type": "execute_result"
        }
      ],
      "source": [
        "#pvg7698\n",
        "df_ALL.tail()"
      ]
    },
    {
      "cell_type": "markdown",
      "id": "b0574e3f-eb6f-42ea-8087-7faee2e3f436",
      "metadata": {
        "tags": [],
        "id": "b0574e3f-eb6f-42ea-8087-7faee2e3f436"
      },
      "source": [
        "### Brief Exploratory Data Analysis (EDA)"
      ]
    },
    {
      "cell_type": "code",
      "execution_count": null,
      "id": "78101029-94ae-4c12-83f4-67d08c7996b1",
      "metadata": {
        "tags": [],
        "id": "78101029-94ae-4c12-83f4-67d08c7996b1",
        "outputId": "36d257d7-bd43-48e4-fd69-64ff223ca09d"
      },
      "outputs": [
        {
          "data": {
            "text/plain": [
              "(914, 7)"
            ]
          },
          "execution_count": 11,
          "metadata": {},
          "output_type": "execute_result"
        }
      ],
      "source": [
        "#pvg7698\n",
        "df_ALL.shape"
      ]
    },
    {
      "cell_type": "code",
      "execution_count": null,
      "id": "e6eaceea-aa61-4e67-97ce-702fc26d5ce5",
      "metadata": {
        "tags": [],
        "id": "e6eaceea-aa61-4e67-97ce-702fc26d5ce5",
        "outputId": "2b1a5797-70f3-4d5e-84f8-61240ca224ef"
      },
      "outputs": [
        {
          "data": {
            "text/plain": [
              "Date         datetime64[ns]\n",
              "Open                float64\n",
              "High                float64\n",
              "Low                 float64\n",
              "Close               float64\n",
              "Adj Close           float64\n",
              "Volume                int64\n",
              "dtype: object"
            ]
          },
          "execution_count": 12,
          "metadata": {},
          "output_type": "execute_result"
        }
      ],
      "source": [
        "#pvg7698\n",
        "df_ALL.dtypes"
      ]
    },
    {
      "cell_type": "code",
      "execution_count": null,
      "id": "fb74997f-2097-48ec-ad3a-a63ee5f63fd1",
      "metadata": {
        "tags": [],
        "id": "fb74997f-2097-48ec-ad3a-a63ee5f63fd1",
        "outputId": "69cd788e-0f44-4aeb-9ee0-3b0c2645f368"
      },
      "outputs": [
        {
          "data": {
            "text/html": [
              "<div>\n",
              "<style scoped>\n",
              "    .dataframe tbody tr th:only-of-type {\n",
              "        vertical-align: middle;\n",
              "    }\n",
              "\n",
              "    .dataframe tbody tr th {\n",
              "        vertical-align: top;\n",
              "    }\n",
              "\n",
              "    .dataframe thead th {\n",
              "        text-align: right;\n",
              "    }\n",
              "</style>\n",
              "<table border=\"1\" class=\"dataframe\">\n",
              "  <thead>\n",
              "    <tr style=\"text-align: right;\">\n",
              "      <th></th>\n",
              "      <th>Date</th>\n",
              "      <th>Open</th>\n",
              "      <th>High</th>\n",
              "      <th>Low</th>\n",
              "      <th>Close</th>\n",
              "      <th>Adj Close</th>\n",
              "      <th>Volume</th>\n",
              "    </tr>\n",
              "  </thead>\n",
              "  <tbody>\n",
              "    <tr>\n",
              "      <th>count</th>\n",
              "      <td>914</td>\n",
              "      <td>914.000000</td>\n",
              "      <td>914.000000</td>\n",
              "      <td>914.000000</td>\n",
              "      <td>914.000000</td>\n",
              "      <td>914.000000</td>\n",
              "      <td>9.140000e+02</td>\n",
              "    </tr>\n",
              "    <tr>\n",
              "      <th>mean</th>\n",
              "      <td>2022-10-27 02:31:14.835886336</td>\n",
              "      <td>162.425372</td>\n",
              "      <td>164.191466</td>\n",
              "      <td>160.812347</td>\n",
              "      <td>162.576872</td>\n",
              "      <td>161.007665</td>\n",
              "      <td>7.629856e+07</td>\n",
              "    </tr>\n",
              "    <tr>\n",
              "      <th>min</th>\n",
              "      <td>2021-01-04 00:00:00</td>\n",
              "      <td>119.029999</td>\n",
              "      <td>120.400002</td>\n",
              "      <td>116.209999</td>\n",
              "      <td>116.360001</td>\n",
              "      <td>114.078583</td>\n",
              "      <td>1.796344e+07</td>\n",
              "    </tr>\n",
              "    <tr>\n",
              "      <th>25%</th>\n",
              "      <td>2021-11-29 06:00:00</td>\n",
              "      <td>144.040001</td>\n",
              "      <td>146.474998</td>\n",
              "      <td>142.652496</td>\n",
              "      <td>144.810001</td>\n",
              "      <td>142.812573</td>\n",
              "      <td>5.493328e+07</td>\n",
              "    </tr>\n",
              "    <tr>\n",
              "      <th>50%</th>\n",
              "      <td>2022-10-25 12:00:00</td>\n",
              "      <td>161.504998</td>\n",
              "      <td>164.229996</td>\n",
              "      <td>159.680000</td>\n",
              "      <td>161.985001</td>\n",
              "      <td>159.789917</td>\n",
              "      <td>7.058735e+07</td>\n",
              "    </tr>\n",
              "    <tr>\n",
              "      <th>75%</th>\n",
              "      <td>2023-09-24 06:00:00</td>\n",
              "      <td>178.059997</td>\n",
              "      <td>179.715000</td>\n",
              "      <td>176.744996</td>\n",
              "      <td>178.427501</td>\n",
              "      <td>176.806893</td>\n",
              "      <td>9.037148e+07</td>\n",
              "    </tr>\n",
              "    <tr>\n",
              "      <th>max</th>\n",
              "      <td>2024-08-21 00:00:00</td>\n",
              "      <td>236.479996</td>\n",
              "      <td>237.229996</td>\n",
              "      <td>233.089996</td>\n",
              "      <td>234.820007</td>\n",
              "      <td>234.548523</td>\n",
              "      <td>2.464214e+08</td>\n",
              "    </tr>\n",
              "    <tr>\n",
              "      <th>std</th>\n",
              "      <td>NaN</td>\n",
              "      <td>24.289371</td>\n",
              "      <td>24.377250</td>\n",
              "      <td>24.235904</td>\n",
              "      <td>24.320293</td>\n",
              "      <td>24.876434</td>\n",
              "      <td>2.869910e+07</td>\n",
              "    </tr>\n",
              "  </tbody>\n",
              "</table>\n",
              "</div>"
            ],
            "text/plain": [
              "                                Date        Open        High         Low  \\\n",
              "count                            914  914.000000  914.000000  914.000000   \n",
              "mean   2022-10-27 02:31:14.835886336  162.425372  164.191466  160.812347   \n",
              "min              2021-01-04 00:00:00  119.029999  120.400002  116.209999   \n",
              "25%              2021-11-29 06:00:00  144.040001  146.474998  142.652496   \n",
              "50%              2022-10-25 12:00:00  161.504998  164.229996  159.680000   \n",
              "75%              2023-09-24 06:00:00  178.059997  179.715000  176.744996   \n",
              "max              2024-08-21 00:00:00  236.479996  237.229996  233.089996   \n",
              "std                              NaN   24.289371   24.377250   24.235904   \n",
              "\n",
              "            Close   Adj Close        Volume  \n",
              "count  914.000000  914.000000  9.140000e+02  \n",
              "mean   162.576872  161.007665  7.629856e+07  \n",
              "min    116.360001  114.078583  1.796344e+07  \n",
              "25%    144.810001  142.812573  5.493328e+07  \n",
              "50%    161.985001  159.789917  7.058735e+07  \n",
              "75%    178.427501  176.806893  9.037148e+07  \n",
              "max    234.820007  234.548523  2.464214e+08  \n",
              "std     24.320293   24.876434  2.869910e+07  "
            ]
          },
          "execution_count": 13,
          "metadata": {},
          "output_type": "execute_result"
        }
      ],
      "source": [
        "#pvg7698\n",
        "df_ALL.describe()"
      ]
    },
    {
      "cell_type": "markdown",
      "id": "e53be66a-d152-4ff3-a491-5613ece6ab09",
      "metadata": {
        "id": "e53be66a-d152-4ff3-a491-5613ece6ab09"
      },
      "source": [
        "### Keeping only 'Close' and filtering out rest all other attributes"
      ]
    },
    {
      "cell_type": "code",
      "execution_count": null,
      "id": "cba488de-5596-4073-ac95-fd1e31406bdb",
      "metadata": {
        "tags": [],
        "id": "cba488de-5596-4073-ac95-fd1e31406bdb"
      },
      "outputs": [],
      "source": [
        "#pvg7698\n",
        "df = df_ALL.iloc[:,4:5]"
      ]
    },
    {
      "cell_type": "code",
      "execution_count": null,
      "id": "f788cdcc-aab5-457f-9b77-97d8653c44e1",
      "metadata": {
        "tags": [],
        "id": "f788cdcc-aab5-457f-9b77-97d8653c44e1",
        "outputId": "a41b32c9-6bd3-42d1-819f-89b7e60f83b3"
      },
      "outputs": [
        {
          "data": {
            "text/html": [
              "<div>\n",
              "<style scoped>\n",
              "    .dataframe tbody tr th:only-of-type {\n",
              "        vertical-align: middle;\n",
              "    }\n",
              "\n",
              "    .dataframe tbody tr th {\n",
              "        vertical-align: top;\n",
              "    }\n",
              "\n",
              "    .dataframe thead th {\n",
              "        text-align: right;\n",
              "    }\n",
              "</style>\n",
              "<table border=\"1\" class=\"dataframe\">\n",
              "  <thead>\n",
              "    <tr style=\"text-align: right;\">\n",
              "      <th></th>\n",
              "      <th>Close</th>\n",
              "    </tr>\n",
              "  </thead>\n",
              "  <tbody>\n",
              "    <tr>\n",
              "      <th>909</th>\n",
              "      <td>224.720001</td>\n",
              "    </tr>\n",
              "    <tr>\n",
              "      <th>910</th>\n",
              "      <td>226.050003</td>\n",
              "    </tr>\n",
              "    <tr>\n",
              "      <th>911</th>\n",
              "      <td>225.889999</td>\n",
              "    </tr>\n",
              "    <tr>\n",
              "      <th>912</th>\n",
              "      <td>226.509995</td>\n",
              "    </tr>\n",
              "    <tr>\n",
              "      <th>913</th>\n",
              "      <td>225.901199</td>\n",
              "    </tr>\n",
              "  </tbody>\n",
              "</table>\n",
              "</div>"
            ],
            "text/plain": [
              "          Close\n",
              "909  224.720001\n",
              "910  226.050003\n",
              "911  225.889999\n",
              "912  226.509995\n",
              "913  225.901199"
            ]
          },
          "execution_count": 15,
          "metadata": {},
          "output_type": "execute_result"
        }
      ],
      "source": [
        "#pvg7698\n",
        "df.tail()"
      ]
    },
    {
      "cell_type": "code",
      "execution_count": null,
      "id": "bb94ccd5-a91c-4b1e-8f03-f76b0f24234f",
      "metadata": {
        "tags": [],
        "id": "bb94ccd5-a91c-4b1e-8f03-f76b0f24234f",
        "outputId": "62e3a6ff-ddd0-4cae-9091-f378c5041a78"
      },
      "outputs": [
        {
          "data": {
            "text/plain": [
              "<Axes: >"
            ]
          },
          "execution_count": 16,
          "metadata": {},
          "output_type": "execute_result"
        },
        {
          "data": {
            "image/png": "[encoded data removed]",
            "text/plain": [
              "<Figure size 1200x800 with 1 Axes>"
            ]
          },
          "metadata": {},
          "output_type": "display_data"
        }
      ],
      "source": [
        "#pvg7698\n",
        "df.plot(figsize=(12,8))"
      ]
    },
    {
      "cell_type": "markdown",
      "id": "e16e8225-c888-4620-ad51-728b20f89ac2",
      "metadata": {
        "id": "e16e8225-c888-4620-ad51-728b20f89ac2"
      },
      "source": [
        "### Length of Input Time Series - Number of Input Time Steps\n",
        "#pvg7698\n"
      ]
    },
    {
      "cell_type": "code",
      "execution_count": null,
      "id": "ec150bd7-223d-4a47-a46c-8a3e349d5f3a",
      "metadata": {
        "tags": [],
        "id": "ec150bd7-223d-4a47-a46c-8a3e349d5f3a"
      },
      "outputs": [],
      "source": [
        "# Set the length of the input sequence\n",
        "#i.e., the number of time series steps that are used to predict the future one\n",
        "# Currently use 60 historical data points to predict the next one\n",
        "# It means that 60 consecutive closing prices will be used to predict the next one\n",
        "length60 = 60\n"
      ]
    },
    {
      "cell_type": "code",
      "execution_count": null,
      "id": "aea579f3-9a3f-467b-b47c-e07526ffcb9d",
      "metadata": {
        "tags": [],
        "id": "aea579f3-9a3f-467b-b47c-e07526ffcb9d",
        "outputId": "f4572d3f-19c0-48eb-e5b5-a55b3f91f663"
      },
      "outputs": [
        {
          "data": {
            "text/plain": [
              "60"
            ]
          },
          "execution_count": 18,
          "metadata": {},
          "output_type": "execute_result"
        }
      ],
      "source": [
        "#pvg7698\n",
        "length60"
      ]
    },
    {
      "cell_type": "markdown",
      "id": "828d45d6-a11e-485e-a32c-2f19c26be4b5",
      "metadata": {
        "id": "828d45d6-a11e-485e-a32c-2f19c26be4b5"
      },
      "source": [
        "### Time Series Dataset: Train/test Split\n"
      ]
    },
    {
      "cell_type": "code",
      "execution_count": null,
      "id": "00747ea5-a550-4c31-b3f9-7a8a4e6bc990",
      "metadata": {
        "tags": [],
        "id": "00747ea5-a550-4c31-b3f9-7a8a4e6bc990",
        "outputId": "b9cf9ea2-1117-48f6-9a54-f50a76a77c7e"
      },
      "outputs": [
        {
          "data": {
            "text/plain": [
              "914"
            ]
          },
          "execution_count": 19,
          "metadata": {},
          "output_type": "execute_result"
        }
      ],
      "source": [
        "#pvg7698\n",
        "len(df)\n"
      ]
    },
    {
      "cell_type": "code",
      "execution_count": null,
      "id": "6b904dc6-338b-48de-9d17-1c3c7a3f43e0",
      "metadata": {
        "tags": [],
        "id": "6b904dc6-338b-48de-9d17-1c3c7a3f43e0"
      },
      "outputs": [],
      "source": [
        "#Set percentage of data used for testing\n",
        "test_percent=0.1"
      ]
    },
    {
      "cell_type": "code",
      "execution_count": null,
      "id": "20d3fdaa-58c3-475d-8401-141c1fa85587",
      "metadata": {
        "tags": [],
        "id": "20d3fdaa-58c3-475d-8401-141c1fa85587",
        "outputId": "b5f754b2-3d35-4c03-db6f-b42fc017754f"
      },
      "outputs": [
        {
          "data": {
            "text/plain": [
              "91.4"
            ]
          },
          "execution_count": 21,
          "metadata": {},
          "output_type": "execute_result"
        }
      ],
      "source": [
        "# Number of data points reserved for testing the model\n",
        "# 20% of the original dataset\n",
        "#pvg7698\n",
        "len(df)*test_percent"
      ]
    },
    {
      "cell_type": "markdown",
      "id": "0037591d-112c-411f-a817-9a02fb769a00",
      "metadata": {
        "id": "0037591d-112c-411f-a817-9a02fb769a00"
      },
      "source": [
        "### Spliting data ---> Train/Test"
      ]
    },
    {
      "cell_type": "code",
      "execution_count": null,
      "id": "6d7d85ab-6f4c-472e-a6bf-787d52efcf18",
      "metadata": {
        "tags": [],
        "id": "6d7d85ab-6f4c-472e-a6bf-787d52efcf18",
        "outputId": "3c6bdb3b-e93d-4d61-b348-8a7cd8c36c22"
      },
      "outputs": [
        {
          "data": {
            "text/plain": [
              "91.0"
            ]
          },
          "execution_count": 22,
          "metadata": {},
          "output_type": "execute_result"
        }
      ],
      "source": [
        "#Need to find the length (number of data points) of the testing dataset\n",
        "# It has been found (above) that around 205 data points are used for testing\n",
        "#pvg7698\n",
        "test_length = np.round(len(df)*test_percent)\n",
        "test_length"
      ]
    },
    {
      "cell_type": "code",
      "execution_count": null,
      "id": "c133b14f-81f4-4e45-ae8f-5cf713bb0b8c",
      "metadata": {
        "tags": [],
        "id": "c133b14f-81f4-4e45-ae8f-5cf713bb0b8c",
        "outputId": "394d13f7-39bb-49c2-f9f7-2315db106dc4"
      },
      "outputs": [
        {
          "data": {
            "text/plain": [
              "823"
            ]
          },
          "execution_count": 23,
          "metadata": {},
          "output_type": "execute_result"
        }
      ],
      "source": [
        "# The testing data set starts at this index\n",
        "#test_start_index = int(len(df) test_length)\n",
        "#pvg7698\n",
        "split_index =int(len(df)-test_length)\n",
        "split_index"
      ]
    },
    {
      "cell_type": "code",
      "execution_count": null,
      "id": "ab7aca7c-fec7-4b3f-af4b-1372689ee2fe",
      "metadata": {
        "tags": [],
        "id": "ab7aca7c-fec7-4b3f-af4b-1372689ee2fe"
      },
      "outputs": [],
      "source": [
        "# Create separate trainging / testing datasets\n",
        "# Training dataset: All the indices from start to split_index\n",
        "# (excluding split index)\n",
        "\n",
        "data_train = df.iloc[: split_index]\n",
        "\n",
        "# Testing dataset:\n",
        "#--) All the indices from (split_index - Length60) to the end of the dataframe\n",
        "#--) split_index length60: Need the last 60 historical data points (belong to data_train)\n",
        "# to predict the first data point of the data_test\n",
        "\n",
        "data_test = df.iloc[split_index - length60 :]"
      ]
    },
    {
      "cell_type": "code",
      "execution_count": null,
      "id": "c49cd0e9-db08-401c-8f8a-614d1fc0eae5",
      "metadata": {
        "tags": [],
        "id": "c49cd0e9-db08-401c-8f8a-614d1fc0eae5",
        "outputId": "4446db8f-02a7-4008-d3ac-72d8859f4119"
      },
      "outputs": [
        {
          "data": {
            "text/html": [
              "<div>\n",
              "<style scoped>\n",
              "    .dataframe tbody tr th:only-of-type {\n",
              "        vertical-align: middle;\n",
              "    }\n",
              "\n",
              "    .dataframe tbody tr th {\n",
              "        vertical-align: top;\n",
              "    }\n",
              "\n",
              "    .dataframe thead th {\n",
              "        text-align: right;\n",
              "    }\n",
              "</style>\n",
              "<table border=\"1\" class=\"dataframe\">\n",
              "  <thead>\n",
              "    <tr style=\"text-align: right;\">\n",
              "      <th></th>\n",
              "      <th>Close</th>\n",
              "    </tr>\n",
              "  </thead>\n",
              "  <tbody>\n",
              "    <tr>\n",
              "      <th>0</th>\n",
              "      <td>129.410004</td>\n",
              "    </tr>\n",
              "    <tr>\n",
              "      <th>1</th>\n",
              "      <td>131.009995</td>\n",
              "    </tr>\n",
              "    <tr>\n",
              "      <th>2</th>\n",
              "      <td>126.599998</td>\n",
              "    </tr>\n",
              "    <tr>\n",
              "      <th>3</th>\n",
              "      <td>130.919998</td>\n",
              "    </tr>\n",
              "    <tr>\n",
              "      <th>4</th>\n",
              "      <td>132.050003</td>\n",
              "    </tr>\n",
              "  </tbody>\n",
              "</table>\n",
              "</div>"
            ],
            "text/plain": [
              "        Close\n",
              "0  129.410004\n",
              "1  131.009995\n",
              "2  126.599998\n",
              "3  130.919998\n",
              "4  132.050003"
            ]
          },
          "execution_count": 25,
          "metadata": {},
          "output_type": "execute_result"
        }
      ],
      "source": [
        "#pvg7698\n",
        "data_train.head(5)"
      ]
    },
    {
      "cell_type": "code",
      "execution_count": null,
      "id": "d5259759-e84f-4e55-9e87-50a82b60e042",
      "metadata": {
        "tags": [],
        "id": "d5259759-e84f-4e55-9e87-50a82b60e042",
        "outputId": "02e51e13-62fd-4b6a-d82f-de557e379afe"
      },
      "outputs": [
        {
          "data": {
            "text/html": [
              "<div>\n",
              "<style scoped>\n",
              "    .dataframe tbody tr th:only-of-type {\n",
              "        vertical-align: middle;\n",
              "    }\n",
              "\n",
              "    .dataframe tbody tr th {\n",
              "        vertical-align: top;\n",
              "    }\n",
              "\n",
              "    .dataframe thead th {\n",
              "        text-align: right;\n",
              "    }\n",
              "</style>\n",
              "<table border=\"1\" class=\"dataframe\">\n",
              "  <thead>\n",
              "    <tr style=\"text-align: right;\">\n",
              "      <th></th>\n",
              "      <th>Close</th>\n",
              "    </tr>\n",
              "  </thead>\n",
              "  <tbody>\n",
              "    <tr>\n",
              "      <th>818</th>\n",
              "      <td>169.580002</td>\n",
              "    </tr>\n",
              "    <tr>\n",
              "      <th>819</th>\n",
              "      <td>168.449997</td>\n",
              "    </tr>\n",
              "    <tr>\n",
              "      <th>820</th>\n",
              "      <td>169.669998</td>\n",
              "    </tr>\n",
              "    <tr>\n",
              "      <th>821</th>\n",
              "      <td>167.779999</td>\n",
              "    </tr>\n",
              "    <tr>\n",
              "      <th>822</th>\n",
              "      <td>175.039993</td>\n",
              "    </tr>\n",
              "  </tbody>\n",
              "</table>\n",
              "</div>"
            ],
            "text/plain": [
              "          Close\n",
              "818  169.580002\n",
              "819  168.449997\n",
              "820  169.669998\n",
              "821  167.779999\n",
              "822  175.039993"
            ]
          },
          "execution_count": 26,
          "metadata": {},
          "output_type": "execute_result"
        }
      ],
      "source": [
        "data_train.tail()"
      ]
    },
    {
      "cell_type": "code",
      "execution_count": null,
      "id": "16b6abc1-f424-46fc-b158-a3b88e50eefd",
      "metadata": {
        "tags": [],
        "id": "16b6abc1-f424-46fc-b158-a3b88e50eefd",
        "outputId": "a8cc52c0-0447-4cb4-dc70-780938fcdcf6"
      },
      "outputs": [
        {
          "data": {
            "text/html": [
              "<div>\n",
              "<style scoped>\n",
              "    .dataframe tbody tr th:only-of-type {\n",
              "        vertical-align: middle;\n",
              "    }\n",
              "\n",
              "    .dataframe tbody tr th {\n",
              "        vertical-align: top;\n",
              "    }\n",
              "\n",
              "    .dataframe thead th {\n",
              "        text-align: right;\n",
              "    }\n",
              "</style>\n",
              "<table border=\"1\" class=\"dataframe\">\n",
              "  <thead>\n",
              "    <tr style=\"text-align: right;\">\n",
              "      <th></th>\n",
              "      <th>Close</th>\n",
              "    </tr>\n",
              "  </thead>\n",
              "  <tbody>\n",
              "    <tr>\n",
              "      <th>763</th>\n",
              "      <td>182.679993</td>\n",
              "    </tr>\n",
              "    <tr>\n",
              "      <th>764</th>\n",
              "      <td>188.630005</td>\n",
              "    </tr>\n",
              "    <tr>\n",
              "      <th>765</th>\n",
              "      <td>191.559998</td>\n",
              "    </tr>\n",
              "    <tr>\n",
              "      <th>766</th>\n",
              "      <td>193.889999</td>\n",
              "    </tr>\n",
              "    <tr>\n",
              "      <th>767</th>\n",
              "      <td>195.179993</td>\n",
              "    </tr>\n",
              "  </tbody>\n",
              "</table>\n",
              "</div>"
            ],
            "text/plain": [
              "          Close\n",
              "763  182.679993\n",
              "764  188.630005\n",
              "765  191.559998\n",
              "766  193.889999\n",
              "767  195.179993"
            ]
          },
          "execution_count": 27,
          "metadata": {},
          "output_type": "execute_result"
        }
      ],
      "source": [
        "data_test.head()"
      ]
    },
    {
      "cell_type": "code",
      "execution_count": null,
      "id": "90ad0bd7-e359-4497-8d4e-1ce004662fd4",
      "metadata": {
        "tags": [],
        "id": "90ad0bd7-e359-4497-8d4e-1ce004662fd4",
        "outputId": "33ce3d09-84be-4fd9-f5c3-2f5918e45293"
      },
      "outputs": [
        {
          "data": {
            "text/html": [
              "<div>\n",
              "<style scoped>\n",
              "    .dataframe tbody tr th:only-of-type {\n",
              "        vertical-align: middle;\n",
              "    }\n",
              "\n",
              "    .dataframe tbody tr th {\n",
              "        vertical-align: top;\n",
              "    }\n",
              "\n",
              "    .dataframe thead th {\n",
              "        text-align: right;\n",
              "    }\n",
              "</style>\n",
              "<table border=\"1\" class=\"dataframe\">\n",
              "  <thead>\n",
              "    <tr style=\"text-align: right;\">\n",
              "      <th></th>\n",
              "      <th>Close</th>\n",
              "    </tr>\n",
              "  </thead>\n",
              "  <tbody>\n",
              "    <tr>\n",
              "      <th>909</th>\n",
              "      <td>224.720001</td>\n",
              "    </tr>\n",
              "    <tr>\n",
              "      <th>910</th>\n",
              "      <td>226.050003</td>\n",
              "    </tr>\n",
              "    <tr>\n",
              "      <th>911</th>\n",
              "      <td>225.889999</td>\n",
              "    </tr>\n",
              "    <tr>\n",
              "      <th>912</th>\n",
              "      <td>226.509995</td>\n",
              "    </tr>\n",
              "    <tr>\n",
              "      <th>913</th>\n",
              "      <td>225.901199</td>\n",
              "    </tr>\n",
              "  </tbody>\n",
              "</table>\n",
              "</div>"
            ],
            "text/plain": [
              "          Close\n",
              "909  224.720001\n",
              "910  226.050003\n",
              "911  225.889999\n",
              "912  226.509995\n",
              "913  225.901199"
            ]
          },
          "execution_count": 28,
          "metadata": {},
          "output_type": "execute_result"
        }
      ],
      "source": [
        "data_test.tail()"
      ]
    },
    {
      "cell_type": "markdown",
      "id": "7f59c1a8-5020-477b-80ce-cb666791657a",
      "metadata": {
        "tags": [],
        "id": "7f59c1a8-5020-477b-80ce-cb666791657a"
      },
      "source": [
        "### Normalize data"
      ]
    },
    {
      "cell_type": "code",
      "execution_count": null,
      "id": "66831667-9eec-4b6a-9ba9-a1c24cf78814",
      "metadata": {
        "tags": [],
        "id": "66831667-9eec-4b6a-9ba9-a1c24cf78814"
      },
      "outputs": [],
      "source": [
        "#pvg7698\n",
        "# Create a MinMaxScaler to normalize the data\n",
        "scaler = MinMaxScaler()\n"
      ]
    },
    {
      "cell_type": "code",
      "execution_count": null,
      "id": "ae5033e6-7a71-4a30-bedb-166a32258286",
      "metadata": {
        "tags": [],
        "id": "ae5033e6-7a71-4a30-bedb-166a32258286",
        "outputId": "d28bcb8f-f18a-4d47-e9f6-9b0bc24cf79c"
      },
      "outputs": [
        {
          "data": {
            "text/html": [
              "<style>#sk-container-id-1 {\n",
              "  /* Definition of color scheme common for light and dark mode */\n",
              "  --sklearn-color-text: black;\n",
              "  --sklearn-color-line: gray;\n",
              "  /* Definition of color scheme for unfitted estimators */\n",
              "  --sklearn-color-unfitted-level-0: #fff5e6;\n",
              "  --sklearn-color-unfitted-level-1: #f6e4d2;\n",
              "  --sklearn-color-unfitted-level-2: #ffe0b3;\n",
              "  --sklearn-color-unfitted-level-3: chocolate;\n",
              "  /* Definition of color scheme for fitted estimators */\n",
              "  --sklearn-color-fitted-level-0: #f0f8ff;\n",
              "  --sklearn-color-fitted-level-1: #d4ebff;\n",
              "  --sklearn-color-fitted-level-2: #b3dbfd;\n",
              "  --sklearn-color-fitted-level-3: cornflowerblue;\n",
              "\n",
              "  /* Specific color for light theme */\n",
              "  --sklearn-color-text-on-default-background: var(--sg-text-color, var(--theme-code-foreground, var(--jp-content-font-color1, black)));\n",
              "  --sklearn-color-background: var(--sg-background-color, var(--theme-background, var(--jp-layout-color0, white)));\n",
              "  --sklearn-color-border-box: var(--sg-text-color, var(--theme-code-foreground, var(--jp-content-font-color1, black)));\n",
              "  --sklearn-color-icon: #696969;\n",
              "\n",
              "  @media (prefers-color-scheme: dark) {\n",
              "    /* Redefinition of color scheme for dark theme */\n",
              "    --sklearn-color-text-on-default-background: var(--sg-text-color, var(--theme-code-foreground, var(--jp-content-font-color1, white)));\n",
              "    --sklearn-color-background: var(--sg-background-color, var(--theme-background, var(--jp-layout-color0, #111)));\n",
              "    --sklearn-color-border-box: var(--sg-text-color, var(--theme-code-foreground, var(--jp-content-font-color1, white)));\n",
              "    --sklearn-color-icon: #878787;\n",
              "  }\n",
              "}\n",
              "\n",
              "#sk-container-id-1 {\n",
              "  color: var(--sklearn-color-text);\n",
              "}\n",
              "\n",
              "#sk-container-id-1 pre {\n",
              "  padding: 0;\n",
              "}\n",
              "\n",
              "#sk-container-id-1 input.sk-hidden--visually {\n",
              "  border: 0;\n",
              "  clip: rect(1px 1px 1px 1px);\n",
              "  clip: rect(1px, 1px, 1px, 1px);\n",
              "  height: 1px;\n",
              "  margin: -1px;\n",
              "  overflow: hidden;\n",
              "  padding: 0;\n",
              "  position: absolute;\n",
              "  width: 1px;\n",
              "}\n",
              "\n",
              "#sk-container-id-1 div.sk-dashed-wrapped {\n",
              "  border: 1px dashed var(--sklearn-color-line);\n",
              "  margin: 0 0.4em 0.5em 0.4em;\n",
              "  box-sizing: border-box;\n",
              "  padding-bottom: 0.4em;\n",
              "  background-color: var(--sklearn-color-background);\n",
              "}\n",
              "\n",
              "#sk-container-id-1 div.sk-container {\n",
              "  /* jupyter's `normalize.less` sets `[hidden] { display: none; }`\n",
              "     but bootstrap.min.css set `[hidden] { display: none !important; }`\n",
              "     so we also need the `!important` here to be able to override the\n",
              "     default hidden behavior on the sphinx rendered scikit-learn.org.\n",
              "     See: https://github.com/scikit-learn/scikit-learn/issues/21755 */\n",
              "  display: inline-block !important;\n",
              "  position: relative;\n",
              "}\n",
              "\n",
              "#sk-container-id-1 div.sk-text-repr-fallback {\n",
              "  display: none;\n",
              "}\n",
              "\n",
              "div.sk-parallel-item,\n",
              "div.sk-serial,\n",
              "div.sk-item {\n",
              "  /* draw centered vertical line to link estimators */\n",
              "  background-image: linear-gradient(var(--sklearn-color-text-on-default-background), var(--sklearn-color-text-on-default-background));\n",
              "  background-size: 2px 100%;\n",
              "  background-repeat: no-repeat;\n",
              "  background-position: center center;\n",
              "}\n",
              "\n",
              "/* Parallel-specific style estimator block */\n",
              "\n",
              "#sk-container-id-1 div.sk-parallel-item::after {\n",
              "  content: \"\";\n",
              "  width: 100%;\n",
              "  border-bottom: 2px solid var(--sklearn-color-text-on-default-background);\n",
              "  flex-grow: 1;\n",
              "}\n",
              "\n",
              "#sk-container-id-1 div.sk-parallel {\n",
              "  display: flex;\n",
              "  align-items: stretch;\n",
              "  justify-content: center;\n",
              "  background-color: var(--sklearn-color-background);\n",
              "  position: relative;\n",
              "}\n",
              "\n",
              "#sk-container-id-1 div.sk-parallel-item {\n",
              "  display: flex;\n",
              "  flex-direction: column;\n",
              "}\n",
              "\n",
              "#sk-container-id-1 div.sk-parallel-item:first-child::after {\n",
              "  align-self: flex-end;\n",
              "  width: 50%;\n",
              "}\n",
              "\n",
              "#sk-container-id-1 div.sk-parallel-item:last-child::after {\n",
              "  align-self: flex-start;\n",
              "  width: 50%;\n",
              "}\n",
              "\n",
              "#sk-container-id-1 div.sk-parallel-item:only-child::after {\n",
              "  width: 0;\n",
              "}\n",
              "\n",
              "/* Serial-specific style estimator block */\n",
              "\n",
              "#sk-container-id-1 div.sk-serial {\n",
              "  display: flex;\n",
              "  flex-direction: column;\n",
              "  align-items: center;\n",
              "  background-color: var(--sklearn-color-background);\n",
              "  padding-right: 1em;\n",
              "  padding-left: 1em;\n",
              "}\n",
              "\n",
              "\n",
              "/* Toggleable style: style used for estimator/Pipeline/ColumnTransformer box that is\n",
              "clickable and can be expanded/collapsed.\n",
              "- Pipeline and ColumnTransformer use this feature and define the default style\n",
              "- Estimators will overwrite some part of the style using the `sk-estimator` class\n",
              "*/\n",
              "\n",
              "/* Pipeline and ColumnTransformer style (default) */\n",
              "\n",
              "#sk-container-id-1 div.sk-toggleable {\n",
              "  /* Default theme specific background. It is overwritten whether we have a\n",
              "  specific estimator or a Pipeline/ColumnTransformer */\n",
              "  background-color: var(--sklearn-color-background);\n",
              "}\n",
              "\n",
              "/* Toggleable label */\n",
              "#sk-container-id-1 label.sk-toggleable__label {\n",
              "  cursor: pointer;\n",
              "  display: block;\n",
              "  width: 100%;\n",
              "  margin-bottom: 0;\n",
              "  padding: 0.5em;\n",
              "  box-sizing: border-box;\n",
              "  text-align: center;\n",
              "}\n",
              "\n",
              "#sk-container-id-1 label.sk-toggleable__label-arrow:before {\n",
              "  /* Arrow on the left of the label */\n",
              "  content: \"▸\";\n",
              "  float: left;\n",
              "  margin-right: 0.25em;\n",
              "  color: var(--sklearn-color-icon);\n",
              "}\n",
              "\n",
              "#sk-container-id-1 label.sk-toggleable__label-arrow:hover:before {\n",
              "  color: var(--sklearn-color-text);\n",
              "}\n",
              "\n",
              "/* Toggleable content - dropdown */\n",
              "\n",
              "#sk-container-id-1 div.sk-toggleable__content {\n",
              "  max-height: 0;\n",
              "  max-width: 0;\n",
              "  overflow: hidden;\n",
              "  text-align: left;\n",
              "  /* unfitted */\n",
              "  background-color: var(--sklearn-color-unfitted-level-0);\n",
              "}\n",
              "\n",
              "#sk-container-id-1 div.sk-toggleable__content.fitted {\n",
              "  /* fitted */\n",
              "  background-color: var(--sklearn-color-fitted-level-0);\n",
              "}\n",
              "\n",
              "#sk-container-id-1 div.sk-toggleable__content pre {\n",
              "  margin: 0.2em;\n",
              "  border-radius: 0.25em;\n",
              "  color: var(--sklearn-color-text);\n",
              "  /* unfitted */\n",
              "  background-color: var(--sklearn-color-unfitted-level-0);\n",
              "}\n",
              "\n",
              "#sk-container-id-1 div.sk-toggleable__content.fitted pre {\n",
              "  /* unfitted */\n",
              "  background-color: var(--sklearn-color-fitted-level-0);\n",
              "}\n",
              "\n",
              "#sk-container-id-1 input.sk-toggleable__control:checked~div.sk-toggleable__content {\n",
              "  /* Expand drop-down */\n",
              "  max-height: 200px;\n",
              "  max-width: 100%;\n",
              "  overflow: auto;\n",
              "}\n",
              "\n",
              "#sk-container-id-1 input.sk-toggleable__control:checked~label.sk-toggleable__label-arrow:before {\n",
              "  content: \"▾\";\n",
              "}\n",
              "\n",
              "/* Pipeline/ColumnTransformer-specific style */\n",
              "\n",
              "#sk-container-id-1 div.sk-label input.sk-toggleable__control:checked~label.sk-toggleable__label {\n",
              "  color: var(--sklearn-color-text);\n",
              "  background-color: var(--sklearn-color-unfitted-level-2);\n",
              "}\n",
              "\n",
              "#sk-container-id-1 div.sk-label.fitted input.sk-toggleable__control:checked~label.sk-toggleable__label {\n",
              "  background-color: var(--sklearn-color-fitted-level-2);\n",
              "}\n",
              "\n",
              "/* Estimator-specific style */\n",
              "\n",
              "/* Colorize estimator box */\n",
              "#sk-container-id-1 div.sk-estimator input.sk-toggleable__control:checked~label.sk-toggleable__label {\n",
              "  /* unfitted */\n",
              "  background-color: var(--sklearn-color-unfitted-level-2);\n",
              "}\n",
              "\n",
              "#sk-container-id-1 div.sk-estimator.fitted input.sk-toggleable__control:checked~label.sk-toggleable__label {\n",
              "  /* fitted */\n",
              "  background-color: var(--sklearn-color-fitted-level-2);\n",
              "}\n",
              "\n",
              "#sk-container-id-1 div.sk-label label.sk-toggleable__label,\n",
              "#sk-container-id-1 div.sk-label label {\n",
              "  /* The background is the default theme color */\n",
              "  color: var(--sklearn-color-text-on-default-background);\n",
              "}\n",
              "\n",
              "/* On hover, darken the color of the background */\n",
              "#sk-container-id-1 div.sk-label:hover label.sk-toggleable__label {\n",
              "  color: var(--sklearn-color-text);\n",
              "  background-color: var(--sklearn-color-unfitted-level-2);\n",
              "}\n",
              "\n",
              "/* Label box, darken color on hover, fitted */\n",
              "#sk-container-id-1 div.sk-label.fitted:hover label.sk-toggleable__label.fitted {\n",
              "  color: var(--sklearn-color-text);\n",
              "  background-color: var(--sklearn-color-fitted-level-2);\n",
              "}\n",
              "\n",
              "/* Estimator label */\n",
              "\n",
              "#sk-container-id-1 div.sk-label label {\n",
              "  font-family: monospace;\n",
              "  font-weight: bold;\n",
              "  display: inline-block;\n",
              "  line-height: 1.2em;\n",
              "}\n",
              "\n",
              "#sk-container-id-1 div.sk-label-container {\n",
              "  text-align: center;\n",
              "}\n",
              "\n",
              "/* Estimator-specific */\n",
              "#sk-container-id-1 div.sk-estimator {\n",
              "  font-family: monospace;\n",
              "  border: 1px dotted var(--sklearn-color-border-box);\n",
              "  border-radius: 0.25em;\n",
              "  box-sizing: border-box;\n",
              "  margin-bottom: 0.5em;\n",
              "  /* unfitted */\n",
              "  background-color: var(--sklearn-color-unfitted-level-0);\n",
              "}\n",
              "\n",
              "#sk-container-id-1 div.sk-estimator.fitted {\n",
              "  /* fitted */\n",
              "  background-color: var(--sklearn-color-fitted-level-0);\n",
              "}\n",
              "\n",
              "/* on hover */\n",
              "#sk-container-id-1 div.sk-estimator:hover {\n",
              "  /* unfitted */\n",
              "  background-color: var(--sklearn-color-unfitted-level-2);\n",
              "}\n",
              "\n",
              "#sk-container-id-1 div.sk-estimator.fitted:hover {\n",
              "  /* fitted */\n",
              "  background-color: var(--sklearn-color-fitted-level-2);\n",
              "}\n",
              "\n",
              "/* Specification for estimator info (e.g. \"i\" and \"?\") */\n",
              "\n",
              "/* Common style for \"i\" and \"?\" */\n",
              "\n",
              ".sk-estimator-doc-link,\n",
              "a:link.sk-estimator-doc-link,\n",
              "a:visited.sk-estimator-doc-link {\n",
              "  float: right;\n",
              "  font-size: smaller;\n",
              "  line-height: 1em;\n",
              "  font-family: monospace;\n",
              "  background-color: var(--sklearn-color-background);\n",
              "  border-radius: 1em;\n",
              "  height: 1em;\n",
              "  width: 1em;\n",
              "  text-decoration: none !important;\n",
              "  margin-left: 1ex;\n",
              "  /* unfitted */\n",
              "  border: var(--sklearn-color-unfitted-level-1) 1pt solid;\n",
              "  color: var(--sklearn-color-unfitted-level-1);\n",
              "}\n",
              "\n",
              ".sk-estimator-doc-link.fitted,\n",
              "a:link.sk-estimator-doc-link.fitted,\n",
              "a:visited.sk-estimator-doc-link.fitted {\n",
              "  /* fitted */\n",
              "  border: var(--sklearn-color-fitted-level-1) 1pt solid;\n",
              "  color: var(--sklearn-color-fitted-level-1);\n",
              "}\n",
              "\n",
              "/* On hover */\n",
              "div.sk-estimator:hover .sk-estimator-doc-link:hover,\n",
              ".sk-estimator-doc-link:hover,\n",
              "div.sk-label-container:hover .sk-estimator-doc-link:hover,\n",
              ".sk-estimator-doc-link:hover {\n",
              "  /* unfitted */\n",
              "  background-color: var(--sklearn-color-unfitted-level-3);\n",
              "  color: var(--sklearn-color-background);\n",
              "  text-decoration: none;\n",
              "}\n",
              "\n",
              "div.sk-estimator.fitted:hover .sk-estimator-doc-link.fitted:hover,\n",
              ".sk-estimator-doc-link.fitted:hover,\n",
              "div.sk-label-container:hover .sk-estimator-doc-link.fitted:hover,\n",
              ".sk-estimator-doc-link.fitted:hover {\n",
              "  /* fitted */\n",
              "  background-color: var(--sklearn-color-fitted-level-3);\n",
              "  color: var(--sklearn-color-background);\n",
              "  text-decoration: none;\n",
              "}\n",
              "\n",
              "/* Span, style for the box shown on hovering the info icon */\n",
              ".sk-estimator-doc-link span {\n",
              "  display: none;\n",
              "  z-index: 9999;\n",
              "  position: relative;\n",
              "  font-weight: normal;\n",
              "  right: .2ex;\n",
              "  padding: .5ex;\n",
              "  margin: .5ex;\n",
              "  width: min-content;\n",
              "  min-width: 20ex;\n",
              "  max-width: 50ex;\n",
              "  color: var(--sklearn-color-text);\n",
              "  box-shadow: 2pt 2pt 4pt #999;\n",
              "  /* unfitted */\n",
              "  background: var(--sklearn-color-unfitted-level-0);\n",
              "  border: .5pt solid var(--sklearn-color-unfitted-level-3);\n",
              "}\n",
              "\n",
              ".sk-estimator-doc-link.fitted span {\n",
              "  /* fitted */\n",
              "  background: var(--sklearn-color-fitted-level-0);\n",
              "  border: var(--sklearn-color-fitted-level-3);\n",
              "}\n",
              "\n",
              ".sk-estimator-doc-link:hover span {\n",
              "  display: block;\n",
              "}\n",
              "\n",
              "/* \"?\"-specific style due to the `<a>` HTML tag */\n",
              "\n",
              "#sk-container-id-1 a.estimator_doc_link {\n",
              "  float: right;\n",
              "  font-size: 1rem;\n",
              "  line-height: 1em;\n",
              "  font-family: monospace;\n",
              "  background-color: var(--sklearn-color-background);\n",
              "  border-radius: 1rem;\n",
              "  height: 1rem;\n",
              "  width: 1rem;\n",
              "  text-decoration: none;\n",
              "  /* unfitted */\n",
              "  color: var(--sklearn-color-unfitted-level-1);\n",
              "  border: var(--sklearn-color-unfitted-level-1) 1pt solid;\n",
              "}\n",
              "\n",
              "#sk-container-id-1 a.estimator_doc_link.fitted {\n",
              "  /* fitted */\n",
              "  border: var(--sklearn-color-fitted-level-1) 1pt solid;\n",
              "  color: var(--sklearn-color-fitted-level-1);\n",
              "}\n",
              "\n",
              "/* On hover */\n",
              "#sk-container-id-1 a.estimator_doc_link:hover {\n",
              "  /* unfitted */\n",
              "  background-color: var(--sklearn-color-unfitted-level-3);\n",
              "  color: var(--sklearn-color-background);\n",
              "  text-decoration: none;\n",
              "}\n",
              "\n",
              "#sk-container-id-1 a.estimator_doc_link.fitted:hover {\n",
              "  /* fitted */\n",
              "  background-color: var(--sklearn-color-fitted-level-3);\n",
              "}\n",
              "</style><div id=\"sk-container-id-1\" class=\"sk-top-container\"><div class=\"sk-text-repr-fallback\"><pre>MinMaxScaler()</pre><b>In a Jupyter environment, please rerun this cell to show the HTML representation or trust the notebook. <br />On GitHub, the HTML representation is unable to render, please try loading this page with nbviewer.org.</b></div><div class=\"sk-container\" hidden><div class=\"sk-item\"><div class=\"sk-estimator fitted sk-toggleable\"><input class=\"sk-toggleable__control sk-hidden--visually\" id=\"sk-estimator-id-1\" type=\"checkbox\" checked><label for=\"sk-estimator-id-1\" class=\"sk-toggleable__label fitted sk-toggleable__label-arrow fitted\">&nbsp;&nbsp;MinMaxScaler<a class=\"sk-estimator-doc-link fitted\" rel=\"noreferrer\" target=\"_blank\" href=\"https://scikit-learn.org/1.5/modules/generated/sklearn.preprocessing.MinMaxScaler.html\">?<span>Documentation for MinMaxScaler</span></a><span class=\"sk-estimator-doc-link fitted\">i<span>Fitted</span></span></label><div class=\"sk-toggleable__content fitted\"><pre>MinMaxScaler()</pre></div> </div></div></div></div>"
            ],
            "text/plain": [
              "MinMaxScaler()"
            ]
          },
          "execution_count": 30,
          "metadata": {},
          "output_type": "execute_result"
        }
      ],
      "source": [
        "# IGNORE the warning: Just converting the data to floats\n",
        "# ONLY scale the TRAINING dat - NOT scale testing data\n",
        "# Train the scaler to perform the normalization\n",
        "#pvg7698\n",
        "scaler.fit(data_train)\n"
      ]
    },
    {
      "cell_type": "code",
      "execution_count": null,
      "id": "9b4e901e-82fe-4694-b499-db28d3eb3b57",
      "metadata": {
        "tags": [],
        "id": "9b4e901e-82fe-4694-b499-db28d3eb3b57"
      },
      "outputs": [],
      "source": [
        "# Normalize the training dataset\n",
        "#pvg7698\n",
        "normalized_train = scaler.transform(data_train)"
      ]
    },
    {
      "cell_type": "code",
      "execution_count": null,
      "id": "c311a899-a1dd-41c7-9353-090ded8523a2",
      "metadata": {
        "tags": [],
        "id": "c311a899-a1dd-41c7-9353-090ded8523a2"
      },
      "outputs": [],
      "source": [
        "# Normalize the testing dataset\n",
        "#pvg7698\n",
        "normalized_test = scaler.transform(data_test)\n"
      ]
    },
    {
      "cell_type": "markdown",
      "id": "2de31e57-0901-4d64-9463-de320a0044e5",
      "metadata": {
        "id": "2de31e57-0901-4d64-9463-de320a0044e5"
      },
      "source": [
        "## Create Timeseries Generator for Training"
      ]
    },
    {
      "cell_type": "code",
      "execution_count": null,
      "id": "c9aeed23-37d9-4e93-8dfa-c9602f227672",
      "metadata": {
        "tags": [],
        "id": "c9aeed23-37d9-4e93-8dfa-c9602f227672"
      },
      "outputs": [],
      "source": [
        "# Timeseries Generator: Generate time series batches for training/testing\n",
        "# Set the length of the input sequence as above\n",
        "# Length60\n",
        "# batch_size: Number of time series samples in each batch\n",
        "# Sample: A single time series input that has 60 historical data points\n",
        "batch_size32 = 32\n",
        "# Create a Time Series Generator for training: train_tsGenerator\n",
        "#--) This time series generator produces time series batches used to train the model\n",
        "# TimeseriesGenerator (inputs, outputs, length, batch_size)\n",
        "#--) Normally: INPUTS & OUTPUTS are the same datset during training & testing/validation\n",
        "train_tsGenerator60 = TimeseriesGenerator(normalized_train, normalized_train, length=length60, batch_size=batch_size32)"
      ]
    },
    {
      "cell_type": "code",
      "execution_count": null,
      "id": "6d207e51-91a1-4818-8c63-0fe42628e6d8",
      "metadata": {
        "tags": [],
        "id": "6d207e51-91a1-4818-8c63-0fe42628e6d8",
        "outputId": "4e0dbccc-8fbd-4898-c2aa-ea5482558c53"
      },
      "outputs": [
        {
          "data": {
            "text/plain": [
              "823"
            ]
          },
          "execution_count": 34,
          "metadata": {},
          "output_type": "execute_result"
        }
      ],
      "source": [
        "len(normalized_train)"
      ]
    },
    {
      "cell_type": "code",
      "execution_count": null,
      "id": "6bacbcdd-9e48-4592-87d4-13cf0b1a05ad",
      "metadata": {
        "tags": [],
        "id": "6bacbcdd-9e48-4592-87d4-13cf0b1a05ad",
        "outputId": "5edf8c22-7f5c-4ab7-b8cc-cf7443b4945d"
      },
      "outputs": [
        {
          "data": {
            "text/plain": [
              "24"
            ]
          },
          "execution_count": 35,
          "metadata": {},
          "output_type": "execute_result"
        }
      ],
      "source": [
        "len(train_tsGenerator60)"
      ]
    },
    {
      "cell_type": "code",
      "execution_count": null,
      "id": "39528b1a-5898-4a13-8573-e7a76ce5af5e",
      "metadata": {
        "tags": [],
        "id": "39528b1a-5898-4a13-8573-e7a76ce5af5e"
      },
      "outputs": [],
      "source": [
        "# What does the first batch Look Like?\n",
        "#pvg7698\n",
        "X,y = train_tsGenerator60[0]"
      ]
    },
    {
      "cell_type": "code",
      "execution_count": null,
      "id": "167c48b1-9e75-467b-9805-f121a7b414cb",
      "metadata": {
        "tags": [],
        "id": "167c48b1-9e75-467b-9805-f121a7b414cb",
        "outputId": "38064e49-67ec-4204-defa-f5394a049c73"
      },
      "outputs": [
        {
          "name": "stdout",
          "output_type": "stream",
          "text": [
            "[[[0.15963306]\n",
            "  [0.17920482]\n",
            "  [0.1252599 ]\n",
            "  ...\n",
            "  [0.05932719]\n",
            "  [0.06152903]\n",
            "  [0.04330276]]\n",
            "\n",
            " [[0.17920482]\n",
            "  [0.1252599 ]\n",
            "  [0.17810394]\n",
            "  ...\n",
            "  [0.06152903]\n",
            "  [0.04330276]\n",
            "  [0.0708257 ]]\n",
            "\n",
            " [[0.1252599 ]\n",
            "  [0.17810394]\n",
            "  [0.19192663]\n",
            "  ...\n",
            "  [0.04330276]\n",
            "  [0.0708257 ]\n",
            "  [0.08122323]]\n",
            "\n",
            " ...\n",
            "\n",
            " [[0.20587157]\n",
            "  [0.17712532]\n",
            "  [0.16330283]\n",
            "  ...\n",
            "  [0.16941903]\n",
            "  [0.12831801]\n",
            "  [0.11681961]]\n",
            "\n",
            " [[0.17712532]\n",
            "  [0.16330283]\n",
            "  [0.16525987]\n",
            "  ...\n",
            "  [0.12831801]\n",
            "  [0.11681961]\n",
            "  [0.07840974]]\n",
            "\n",
            " [[0.16330283]\n",
            "  [0.16525987]\n",
            "  [0.11792048]\n",
            "  ...\n",
            "  [0.11681961]\n",
            "  [0.07840974]\n",
            "  [0.1053211 ]]]\n"
          ]
        }
      ],
      "source": [
        "print(X)"
      ]
    },
    {
      "cell_type": "code",
      "execution_count": null,
      "id": "ff13c6ac-f59e-4209-8947-108e06ffddb8",
      "metadata": {
        "tags": [],
        "id": "ff13c6ac-f59e-4209-8947-108e06ffddb8",
        "outputId": "4f51de7e-0242-4bc7-c665-284b01a51512"
      },
      "outputs": [
        {
          "name": "stdout",
          "output_type": "stream",
          "text": [
            "[[0.0708257 ]\n",
            " [0.08122323]\n",
            " [0.11669726]\n",
            " [0.12048927]\n",
            " [0.14116209]\n",
            " [0.17125382]\n",
            " [0.20354739]\n",
            " [0.1820184 ]\n",
            " [0.22103966]\n",
            " [0.19168193]\n",
            " [0.22189601]\n",
            " [0.21773704]\n",
            " [0.22605498]\n",
            " [0.20489297]\n",
            " [0.2096636 ]\n",
            " [0.19058105]\n",
            " [0.21969426]\n",
            " [0.22458716]\n",
            " [0.22055043]\n",
            " [0.21064221]\n",
            " [0.2094189 ]\n",
            " [0.18470955]\n",
            " [0.19792039]\n",
            " [0.14055042]\n",
            " [0.14360862]\n",
            " [0.16366977]\n",
            " [0.16941903]\n",
            " [0.12831801]\n",
            " [0.11681961]\n",
            " [0.07840974]\n",
            " [0.1053211 ]\n",
            " [0.13565744]]\n"
          ]
        }
      ],
      "source": [
        "#pvg7698\n",
        "print(y)"
      ]
    },
    {
      "cell_type": "markdown",
      "id": "fbb364ce-e1da-4c2c-8b1b-4e5224afafa0",
      "metadata": {
        "id": "fbb364ce-e1da-4c2c-8b1b-4e5224afafa0"
      },
      "source": [
        "## Build, Train, and Test Model"
      ]
    },
    {
      "cell_type": "markdown",
      "id": "68e8aebf-9511-45b6-b102-eb22b402dadc",
      "metadata": {
        "id": "68e8aebf-9511-45b6-b102-eb22b402dadc"
      },
      "source": [
        "### Building LSTM Model"
      ]
    },
    {
      "cell_type": "code",
      "execution_count": null,
      "id": "003bc11c-907e-4bd9-8efc-90ac71cd228b",
      "metadata": {
        "tags": [],
        "id": "003bc11c-907e-4bd9-8efc-90ac71cd228b"
      },
      "outputs": [],
      "source": [
        "#Only using one feature: Close price\n",
        "#pvg7698\n",
        "n_features = 1"
      ]
    },
    {
      "cell_type": "code",
      "execution_count": null,
      "id": "394ee29d-960c-43c4-8c80-71aa797180fd",
      "metadata": {
        "tags": [],
        "id": "394ee29d-960c-43c4-8c80-71aa797180fd",
        "outputId": "933bc272-ec5c-42e3-b5c8-89d8759f78f2"
      },
      "outputs": [
        {
          "name": "stderr",
          "output_type": "stream",
          "text": [
            "/opt/conda/lib/python3.10/site-packages/keras/src/layers/rnn/rnn.py:204: UserWarning: Do not pass an `input_shape`/`input_dim` argument to a layer. When using Sequential models, prefer using an `Input(shape)` object as the first layer in the model instead.\n",
            "  super().__init__(**kwargs)\n"
          ]
        }
      ],
      "source": [
        "# define model\n",
        "model =  Sequential()\n",
        "\n",
        "# Add an LSTM Layer\n",
        "# This layer has 50 LSTM cells\n",
        "# Activation function: relu\n",
        "# MUST: return_sequences=True\n",
        "#--) Because of multiple LSTM Layers: the Layers are stacked\n",
        "#--) Outputs inputs of the next LSTM Layer\n",
        "\n",
        "model.add(LSTM(50, activation='relu', return_sequences=True, input_shape=(length60, n_features)))\n",
        "\n",
        "# Dropout Layer\n",
        "model.add(Dropout (0.2))\n",
        "\n",
        "# Add 2nd LSTM Layer\n",
        "# MUST: return_sequences=True\n",
        "#--) Because of multiple LSTM Layers: the layers are stacked\n",
        "#--) Outputs = inputs of the next LSTM Layer\n",
        "\n",
        "model.add(LSTM(units=50, activation='relu', return_sequences =True))\n",
        "\n",
        "# Dropout Layer\n",
        "model.add(Dropout (0.2))\n",
        "\n",
        "# Add 3rd LSTM Layer\n",
        "model.add(LSTM(units=50, activation='relu'))\n",
        "\n",
        "# Add a FC (fully-connected) Layer for the final prediction\n",
        "model.add(Dense(1))"
      ]
    },
    {
      "cell_type": "markdown",
      "id": "43552a92-b57f-41db-b251-46db6b93e317",
      "metadata": {
        "id": "43552a92-b57f-41db-b251-46db6b93e317"
      },
      "source": [
        "### Compile Model"
      ]
    },
    {
      "cell_type": "code",
      "execution_count": null,
      "id": "239d4710-80e5-4a6f-8fac-e03e54a6be13",
      "metadata": {
        "tags": [],
        "id": "239d4710-80e5-4a6f-8fac-e03e54a6be13",
        "outputId": "c27547de-6294-422d-f0bd-5c5c07141db0"
      },
      "outputs": [
        {
          "data": {
            "text/html": [
              "<pre style=\"white-space:pre;overflow-x:auto;line-height:normal;font-family:Menlo,'DejaVu Sans Mono',consolas,'Courier New',monospace\"><span style=\"font-weight: bold\">Model: \"sequential\"</span>\n",
              "</pre>\n"
            ],
            "text/plain": [
              "\u001b[1mModel: \"sequential\"\u001b[0m\n"
            ]
          },
          "metadata": {},
          "output_type": "display_data"
        },
        {
          "data": {
            "text/html": [
              "<pre style=\"white-space:pre;overflow-x:auto;line-height:normal;font-family:Menlo,'DejaVu Sans Mono',consolas,'Courier New',monospace\">┏━━━━━━━━━━━━━━━━━━━━━━━━━━━━━━━━━┳━━━━━━━━━━━━━━━━━━━━━━━━┳━━━━━━━━━━━━━━━┓\n",
              "┃<span style=\"font-weight: bold\"> Layer (type)                    </span>┃<span style=\"font-weight: bold\"> Output Shape           </span>┃<span style=\"font-weight: bold\">       Param # </span>┃\n",
              "┡━━━━━━━━━━━━━━━━━━━━━━━━━━━━━━━━━╇━━━━━━━━━━━━━━━━━━━━━━━━╇━━━━━━━━━━━━━━━┩\n",
              "│ lstm (<span style=\"color: #0087ff; text-decoration-color: #0087ff\">LSTM</span>)                     │ (<span style=\"color: #00d7ff; text-decoration-color: #00d7ff\">None</span>, <span style=\"color: #00af00; text-decoration-color: #00af00\">60</span>, <span style=\"color: #00af00; text-decoration-color: #00af00\">50</span>)         │        <span style=\"color: #00af00; text-decoration-color: #00af00\">10,400</span> │\n",
              "├─────────────────────────────────┼────────────────────────┼───────────────┤\n",
              "│ dropout (<span style=\"color: #0087ff; text-decoration-color: #0087ff\">Dropout</span>)               │ (<span style=\"color: #00d7ff; text-decoration-color: #00d7ff\">None</span>, <span style=\"color: #00af00; text-decoration-color: #00af00\">60</span>, <span style=\"color: #00af00; text-decoration-color: #00af00\">50</span>)         │             <span style=\"color: #00af00; text-decoration-color: #00af00\">0</span> │\n",
              "├─────────────────────────────────┼────────────────────────┼───────────────┤\n",
              "│ lstm_1 (<span style=\"color: #0087ff; text-decoration-color: #0087ff\">LSTM</span>)                   │ (<span style=\"color: #00d7ff; text-decoration-color: #00d7ff\">None</span>, <span style=\"color: #00af00; text-decoration-color: #00af00\">60</span>, <span style=\"color: #00af00; text-decoration-color: #00af00\">50</span>)         │        <span style=\"color: #00af00; text-decoration-color: #00af00\">20,200</span> │\n",
              "├─────────────────────────────────┼────────────────────────┼───────────────┤\n",
              "│ dropout_1 (<span style=\"color: #0087ff; text-decoration-color: #0087ff\">Dropout</span>)             │ (<span style=\"color: #00d7ff; text-decoration-color: #00d7ff\">None</span>, <span style=\"color: #00af00; text-decoration-color: #00af00\">60</span>, <span style=\"color: #00af00; text-decoration-color: #00af00\">50</span>)         │             <span style=\"color: #00af00; text-decoration-color: #00af00\">0</span> │\n",
              "├─────────────────────────────────┼────────────────────────┼───────────────┤\n",
              "│ lstm_2 (<span style=\"color: #0087ff; text-decoration-color: #0087ff\">LSTM</span>)                   │ (<span style=\"color: #00d7ff; text-decoration-color: #00d7ff\">None</span>, <span style=\"color: #00af00; text-decoration-color: #00af00\">50</span>)             │        <span style=\"color: #00af00; text-decoration-color: #00af00\">20,200</span> │\n",
              "├─────────────────────────────────┼────────────────────────┼───────────────┤\n",
              "│ dense (<span style=\"color: #0087ff; text-decoration-color: #0087ff\">Dense</span>)                   │ (<span style=\"color: #00d7ff; text-decoration-color: #00d7ff\">None</span>, <span style=\"color: #00af00; text-decoration-color: #00af00\">1</span>)              │            <span style=\"color: #00af00; text-decoration-color: #00af00\">51</span> │\n",
              "└─────────────────────────────────┴────────────────────────┴───────────────┘\n",
              "</pre>\n"
            ],
            "text/plain": [
              "┏━━━━━━━━━━━━━━━━━━━━━━━━━━━━━━━━━┳━━━━━━━━━━━━━━━━━━━━━━━━┳━━━━━━━━━━━━━━━┓\n",
              "┃\u001b[1m \u001b[0m\u001b[1mLayer (type)                   \u001b[0m\u001b[1m \u001b[0m┃\u001b[1m \u001b[0m\u001b[1mOutput Shape          \u001b[0m\u001b[1m \u001b[0m┃\u001b[1m \u001b[0m\u001b[1m      Param #\u001b[0m\u001b[1m \u001b[0m┃\n",
              "┡━━━━━━━━━━━━━━━━━━━━━━━━━━━━━━━━━╇━━━━━━━━━━━━━━━━━━━━━━━━╇━━━━━━━━━━━━━━━┩\n",
              "│ lstm (\u001b[38;5;33mLSTM\u001b[0m)                     │ (\u001b[38;5;45mNone\u001b[0m, \u001b[38;5;34m60\u001b[0m, \u001b[38;5;34m50\u001b[0m)         │        \u001b[38;5;34m10,400\u001b[0m │\n",
              "├─────────────────────────────────┼────────────────────────┼───────────────┤\n",
              "│ dropout (\u001b[38;5;33mDropout\u001b[0m)               │ (\u001b[38;5;45mNone\u001b[0m, \u001b[38;5;34m60\u001b[0m, \u001b[38;5;34m50\u001b[0m)         │             \u001b[38;5;34m0\u001b[0m │\n",
              "├─────────────────────────────────┼────────────────────────┼───────────────┤\n",
              "│ lstm_1 (\u001b[38;5;33mLSTM\u001b[0m)                   │ (\u001b[38;5;45mNone\u001b[0m, \u001b[38;5;34m60\u001b[0m, \u001b[38;5;34m50\u001b[0m)         │        \u001b[38;5;34m20,200\u001b[0m │\n",
              "├─────────────────────────────────┼────────────────────────┼───────────────┤\n",
              "│ dropout_1 (\u001b[38;5;33mDropout\u001b[0m)             │ (\u001b[38;5;45mNone\u001b[0m, \u001b[38;5;34m60\u001b[0m, \u001b[38;5;34m50\u001b[0m)         │             \u001b[38;5;34m0\u001b[0m │\n",
              "├─────────────────────────────────┼────────────────────────┼───────────────┤\n",
              "│ lstm_2 (\u001b[38;5;33mLSTM\u001b[0m)                   │ (\u001b[38;5;45mNone\u001b[0m, \u001b[38;5;34m50\u001b[0m)             │        \u001b[38;5;34m20,200\u001b[0m │\n",
              "├─────────────────────────────────┼────────────────────────┼───────────────┤\n",
              "│ dense (\u001b[38;5;33mDense\u001b[0m)                   │ (\u001b[38;5;45mNone\u001b[0m, \u001b[38;5;34m1\u001b[0m)              │            \u001b[38;5;34m51\u001b[0m │\n",
              "└─────────────────────────────────┴────────────────────────┴───────────────┘\n"
            ]
          },
          "metadata": {},
          "output_type": "display_data"
        },
        {
          "data": {
            "text/html": [
              "<pre style=\"white-space:pre;overflow-x:auto;line-height:normal;font-family:Menlo,'DejaVu Sans Mono',consolas,'Courier New',monospace\"><span style=\"font-weight: bold\"> Total params: </span><span style=\"color: #00af00; text-decoration-color: #00af00\">50,851</span> (198.64 KB)\n",
              "</pre>\n"
            ],
            "text/plain": [
              "\u001b[1m Total params: \u001b[0m\u001b[38;5;34m50,851\u001b[0m (198.64 KB)\n"
            ]
          },
          "metadata": {},
          "output_type": "display_data"
        },
        {
          "data": {
            "text/html": [
              "<pre style=\"white-space:pre;overflow-x:auto;line-height:normal;font-family:Menlo,'DejaVu Sans Mono',consolas,'Courier New',monospace\"><span style=\"font-weight: bold\"> Trainable params: </span><span style=\"color: #00af00; text-decoration-color: #00af00\">50,851</span> (198.64 KB)\n",
              "</pre>\n"
            ],
            "text/plain": [
              "\u001b[1m Trainable params: \u001b[0m\u001b[38;5;34m50,851\u001b[0m (198.64 KB)\n"
            ]
          },
          "metadata": {},
          "output_type": "display_data"
        },
        {
          "data": {
            "text/html": [
              "<pre style=\"white-space:pre;overflow-x:auto;line-height:normal;font-family:Menlo,'DejaVu Sans Mono',consolas,'Courier New',monospace\"><span style=\"font-weight: bold\"> Non-trainable params: </span><span style=\"color: #00af00; text-decoration-color: #00af00\">0</span> (0.00 B)\n",
              "</pre>\n"
            ],
            "text/plain": [
              "\u001b[1m Non-trainable params: \u001b[0m\u001b[38;5;34m0\u001b[0m (0.00 B)\n"
            ]
          },
          "metadata": {},
          "output_type": "display_data"
        }
      ],
      "source": [
        "# Compile the model\n",
        "model.compile(optimizer='adam', loss='mse')\n",
        "model.summary()"
      ]
    },
    {
      "cell_type": "markdown",
      "id": "af816b2f-b2c3-4cd5-ad86-6f73091fc534",
      "metadata": {
        "id": "af816b2f-b2c3-4cd5-ad86-6f73091fc534"
      },
      "source": [
        "### Train (Fit) Model Using fit_generator()"
      ]
    },
    {
      "cell_type": "code",
      "execution_count": null,
      "id": "6d23a3d4-3e4c-4934-b8da-66399fa028cf",
      "metadata": {
        "tags": [],
        "id": "6d23a3d4-3e4c-4934-b8da-66399fa028cf",
        "outputId": "b6cc6c7c-a500-4925-8f01-b9ea602b0fcf"
      },
      "outputs": [
        {
          "name": "stdout",
          "output_type": "stream",
          "text": [
            "Epoch 1/100\n",
            "\u001b[1m 2/24\u001b[0m \u001b[32m━\u001b[0m\u001b[37m━━━━━━━━━━━━━━━━━━━\u001b[0m \u001b[1m1s\u001b[0m 70ms/step - loss: 0.1246"
          ]
        },
        {
          "name": "stderr",
          "output_type": "stream",
          "text": [
            "/opt/conda/lib/python3.10/site-packages/keras/src/trainers/data_adapters/py_dataset_adapter.py:122: UserWarning: Your `PyDataset` class should call `super().__init__(**kwargs)` in its constructor. `**kwargs` can include `workers`, `use_multiprocessing`, `max_queue_size`. Do not pass these arguments to `fit()`, as they will be ignored.\n",
            "  self._warn_if_super_not_called()\n"
          ]
        },
        {
          "name": "stdout",
          "output_type": "stream",
          "text": [
            "\u001b[1m24/24\u001b[0m \u001b[32m━━━━━━━━━━━━━━━━━━━━\u001b[0m\u001b[37m\u001b[0m \u001b[1m6s\u001b[0m 62ms/step - loss: 0.2287\n",
            "Epoch 2/100\n",
            "\u001b[1m24/24\u001b[0m \u001b[32m━━━━━━━━━━━━━━━━━━━━\u001b[0m\u001b[37m\u001b[0m \u001b[1m1s\u001b[0m 62ms/step - loss: 0.0308\n",
            "Epoch 3/100\n",
            "\u001b[1m24/24\u001b[0m \u001b[32m━━━━━━━━━━━━━━━━━━━━\u001b[0m\u001b[37m\u001b[0m \u001b[1m1s\u001b[0m 61ms/step - loss: 0.0202\n",
            "Epoch 4/100\n",
            "\u001b[1m24/24\u001b[0m \u001b[32m━━━━━━━━━━━━━━━━━━━━\u001b[0m\u001b[37m\u001b[0m \u001b[1m2s\u001b[0m 62ms/step - loss: 0.0153\n",
            "Epoch 5/100\n",
            "\u001b[1m24/24\u001b[0m \u001b[32m━━━━━━━━━━━━━━━━━━━━\u001b[0m\u001b[37m\u001b[0m \u001b[1m1s\u001b[0m 61ms/step - loss: 0.0183\n",
            "Epoch 6/100\n",
            "\u001b[1m24/24\u001b[0m \u001b[32m━━━━━━━━━━━━━━━━━━━━\u001b[0m\u001b[37m\u001b[0m \u001b[1m2s\u001b[0m 63ms/step - loss: 0.0096\n",
            "Epoch 7/100\n",
            "\u001b[1m24/24\u001b[0m \u001b[32m━━━━━━━━━━━━━━━━━━━━\u001b[0m\u001b[37m\u001b[0m \u001b[1m1s\u001b[0m 62ms/step - loss: 0.0099\n",
            "Epoch 8/100\n",
            "\u001b[1m24/24\u001b[0m \u001b[32m━━━━━━━━━━━━━━━━━━━━\u001b[0m\u001b[37m\u001b[0m \u001b[1m1s\u001b[0m 61ms/step - loss: 0.0125\n",
            "Epoch 9/100\n",
            "\u001b[1m24/24\u001b[0m \u001b[32m━━━━━━━━━━━━━━━━━━━━\u001b[0m\u001b[37m\u001b[0m \u001b[1m1s\u001b[0m 61ms/step - loss: 0.0087\n",
            "Epoch 10/100\n",
            "\u001b[1m24/24\u001b[0m \u001b[32m━━━━━━━━━━━━━━━━━━━━\u001b[0m\u001b[37m\u001b[0m \u001b[1m1s\u001b[0m 61ms/step - loss: 0.0105\n",
            "Epoch 11/100\n",
            "\u001b[1m24/24\u001b[0m \u001b[32m━━━━━━━━━━━━━━━━━━━━\u001b[0m\u001b[37m\u001b[0m \u001b[1m1s\u001b[0m 61ms/step - loss: 0.0081\n",
            "Epoch 12/100\n",
            "\u001b[1m24/24\u001b[0m \u001b[32m━━━━━━━━━━━━━━━━━━━━\u001b[0m\u001b[37m\u001b[0m \u001b[1m1s\u001b[0m 62ms/step - loss: 0.0078\n",
            "Epoch 13/100\n",
            "\u001b[1m24/24\u001b[0m \u001b[32m━━━━━━━━━━━━━━━━━━━━\u001b[0m\u001b[37m\u001b[0m \u001b[1m1s\u001b[0m 61ms/step - loss: 0.0069\n",
            "Epoch 14/100\n",
            "\u001b[1m24/24\u001b[0m \u001b[32m━━━━━━━━━━━━━━━━━━━━\u001b[0m\u001b[37m\u001b[0m \u001b[1m1s\u001b[0m 61ms/step - loss: 0.0091\n",
            "Epoch 15/100\n",
            "\u001b[1m24/24\u001b[0m \u001b[32m━━━━━━━━━━━━━━━━━━━━\u001b[0m\u001b[37m\u001b[0m \u001b[1m1s\u001b[0m 60ms/step - loss: 0.0083\n",
            "Epoch 16/100\n",
            "\u001b[1m24/24\u001b[0m \u001b[32m━━━━━━━━━━━━━━━━━━━━\u001b[0m\u001b[37m\u001b[0m \u001b[1m1s\u001b[0m 61ms/step - loss: 0.0066\n",
            "Epoch 17/100\n",
            "\u001b[1m24/24\u001b[0m \u001b[32m━━━━━━━━━━━━━━━━━━━━\u001b[0m\u001b[37m\u001b[0m \u001b[1m2s\u001b[0m 62ms/step - loss: 0.0072\n",
            "Epoch 18/100\n",
            "\u001b[1m24/24\u001b[0m \u001b[32m━━━━━━━━━━━━━━━━━━━━\u001b[0m\u001b[37m\u001b[0m \u001b[1m2s\u001b[0m 62ms/step - loss: 0.0056\n",
            "Epoch 19/100\n",
            "\u001b[1m24/24\u001b[0m \u001b[32m━━━━━━━━━━━━━━━━━━━━\u001b[0m\u001b[37m\u001b[0m \u001b[1m1s\u001b[0m 61ms/step - loss: 0.0078\n",
            "Epoch 20/100\n",
            "\u001b[1m24/24\u001b[0m \u001b[32m━━━━━━━━━━━━━━━━━━━━\u001b[0m\u001b[37m\u001b[0m \u001b[1m2s\u001b[0m 62ms/step - loss: 0.0075\n",
            "Epoch 21/100\n",
            "\u001b[1m24/24\u001b[0m \u001b[32m━━━━━━━━━━━━━━━━━━━━\u001b[0m\u001b[37m\u001b[0m \u001b[1m1s\u001b[0m 60ms/step - loss: 0.0051\n",
            "Epoch 22/100\n",
            "\u001b[1m24/24\u001b[0m \u001b[32m━━━━━━━━━━━━━━━━━━━━\u001b[0m\u001b[37m\u001b[0m \u001b[1m1s\u001b[0m 61ms/step - loss: 0.0057\n",
            "Epoch 23/100\n",
            "\u001b[1m24/24\u001b[0m \u001b[32m━━━━━━━━━━━━━━━━━━━━\u001b[0m\u001b[37m\u001b[0m \u001b[1m1s\u001b[0m 60ms/step - loss: 0.0057\n",
            "Epoch 24/100\n",
            "\u001b[1m24/24\u001b[0m \u001b[32m━━━━━━━━━━━━━━━━━━━━\u001b[0m\u001b[37m\u001b[0m \u001b[1m1s\u001b[0m 62ms/step - loss: 0.0059\n",
            "Epoch 25/100\n",
            "\u001b[1m24/24\u001b[0m \u001b[32m━━━━━━━━━━━━━━━━━━━━\u001b[0m\u001b[37m\u001b[0m \u001b[1m1s\u001b[0m 61ms/step - loss: 0.0054\n",
            "Epoch 26/100\n",
            "\u001b[1m24/24\u001b[0m \u001b[32m━━━━━━━━━━━━━━━━━━━━\u001b[0m\u001b[37m\u001b[0m \u001b[1m1s\u001b[0m 61ms/step - loss: 0.0061\n",
            "Epoch 27/100\n",
            "\u001b[1m24/24\u001b[0m \u001b[32m━━━━━━━━━━━━━━━━━━━━\u001b[0m\u001b[37m\u001b[0m \u001b[1m2s\u001b[0m 63ms/step - loss: 0.0065\n",
            "Epoch 28/100\n",
            "\u001b[1m24/24\u001b[0m \u001b[32m━━━━━━━━━━━━━━━━━━━━\u001b[0m\u001b[37m\u001b[0m \u001b[1m2s\u001b[0m 65ms/step - loss: 0.0049\n",
            "Epoch 29/100\n",
            "\u001b[1m24/24\u001b[0m \u001b[32m━━━━━━━━━━━━━━━━━━━━\u001b[0m\u001b[37m\u001b[0m \u001b[1m2s\u001b[0m 63ms/step - loss: 0.0043\n",
            "Epoch 30/100\n",
            "\u001b[1m24/24\u001b[0m \u001b[32m━━━━━━━━━━━━━━━━━━━━\u001b[0m\u001b[37m\u001b[0m \u001b[1m1s\u001b[0m 61ms/step - loss: 0.0062\n",
            "Epoch 31/100\n",
            "\u001b[1m24/24\u001b[0m \u001b[32m━━━━━━━━━━━━━━━━━━━━\u001b[0m\u001b[37m\u001b[0m \u001b[1m1s\u001b[0m 61ms/step - loss: 0.0050\n",
            "Epoch 32/100\n",
            "\u001b[1m24/24\u001b[0m \u001b[32m━━━━━━━━━━━━━━━━━━━━\u001b[0m\u001b[37m\u001b[0m \u001b[1m1s\u001b[0m 61ms/step - loss: 0.0049\n",
            "Epoch 33/100\n",
            "\u001b[1m24/24\u001b[0m \u001b[32m━━━━━━━━━━━━━━━━━━━━\u001b[0m\u001b[37m\u001b[0m \u001b[1m1s\u001b[0m 62ms/step - loss: 0.0059\n",
            "Epoch 34/100\n",
            "\u001b[1m24/24\u001b[0m \u001b[32m━━━━━━━━━━━━━━━━━━━━\u001b[0m\u001b[37m\u001b[0m \u001b[1m1s\u001b[0m 61ms/step - loss: 0.0070\n",
            "Epoch 35/100\n",
            "\u001b[1m24/24\u001b[0m \u001b[32m━━━━━━━━━━━━━━━━━━━━\u001b[0m\u001b[37m\u001b[0m \u001b[1m1s\u001b[0m 61ms/step - loss: 0.0054\n",
            "Epoch 36/100\n",
            "\u001b[1m24/24\u001b[0m \u001b[32m━━━━━━━━━━━━━━━━━━━━\u001b[0m\u001b[37m\u001b[0m \u001b[1m1s\u001b[0m 61ms/step - loss: 0.0048\n",
            "Epoch 37/100\n",
            "\u001b[1m24/24\u001b[0m \u001b[32m━━━━━━━━━━━━━━━━━━━━\u001b[0m\u001b[37m\u001b[0m \u001b[1m1s\u001b[0m 61ms/step - loss: 0.0044\n",
            "Epoch 38/100\n",
            "\u001b[1m24/24\u001b[0m \u001b[32m━━━━━━━━━━━━━━━━━━━━\u001b[0m\u001b[37m\u001b[0m \u001b[1m1s\u001b[0m 61ms/step - loss: 0.0068\n",
            "Epoch 39/100\n",
            "\u001b[1m24/24\u001b[0m \u001b[32m━━━━━━━━━━━━━━━━━━━━\u001b[0m\u001b[37m\u001b[0m \u001b[1m1s\u001b[0m 61ms/step - loss: 0.0046\n",
            "Epoch 40/100\n",
            "\u001b[1m24/24\u001b[0m \u001b[32m━━━━━━━━━━━━━━━━━━━━\u001b[0m\u001b[37m\u001b[0m \u001b[1m1s\u001b[0m 61ms/step - loss: 0.0082\n",
            "Epoch 41/100\n",
            "\u001b[1m24/24\u001b[0m \u001b[32m━━━━━━━━━━━━━━━━━━━━\u001b[0m\u001b[37m\u001b[0m \u001b[1m1s\u001b[0m 60ms/step - loss: 0.0052\n",
            "Epoch 42/100\n",
            "\u001b[1m24/24\u001b[0m \u001b[32m━━━━━━━━━━━━━━━━━━━━\u001b[0m\u001b[37m\u001b[0m \u001b[1m1s\u001b[0m 61ms/step - loss: 0.0044\n",
            "Epoch 43/100\n",
            "\u001b[1m24/24\u001b[0m \u001b[32m━━━━━━━━━━━━━━━━━━━━\u001b[0m\u001b[37m\u001b[0m \u001b[1m1s\u001b[0m 61ms/step - loss: 0.0037\n",
            "Epoch 44/100\n",
            "\u001b[1m24/24\u001b[0m \u001b[32m━━━━━━━━━━━━━━━━━━━━\u001b[0m\u001b[37m\u001b[0m \u001b[1m2s\u001b[0m 62ms/step - loss: 0.0046\n",
            "Epoch 45/100\n",
            "\u001b[1m24/24\u001b[0m \u001b[32m━━━━━━━━━━━━━━━━━━━━\u001b[0m\u001b[37m\u001b[0m \u001b[1m1s\u001b[0m 61ms/step - loss: 0.0046\n",
            "Epoch 46/100\n",
            "\u001b[1m24/24\u001b[0m \u001b[32m━━━━━━━━━━━━━━━━━━━━\u001b[0m\u001b[37m\u001b[0m \u001b[1m1s\u001b[0m 62ms/step - loss: 0.0047\n",
            "Epoch 47/100\n",
            "\u001b[1m24/24\u001b[0m \u001b[32m━━━━━━━━━━━━━━━━━━━━\u001b[0m\u001b[37m\u001b[0m \u001b[1m1s\u001b[0m 61ms/step - loss: 0.0045\n",
            "Epoch 48/100\n",
            "\u001b[1m24/24\u001b[0m \u001b[32m━━━━━━━━━━━━━━━━━━━━\u001b[0m\u001b[37m\u001b[0m \u001b[1m1s\u001b[0m 61ms/step - loss: 0.0039\n",
            "Epoch 49/100\n",
            "\u001b[1m24/24\u001b[0m \u001b[32m━━━━━━━━━━━━━━━━━━━━\u001b[0m\u001b[37m\u001b[0m \u001b[1m1s\u001b[0m 61ms/step - loss: 0.0040\n",
            "Epoch 50/100\n",
            "\u001b[1m24/24\u001b[0m \u001b[32m━━━━━━━━━━━━━━━━━━━━\u001b[0m\u001b[37m\u001b[0m \u001b[1m2s\u001b[0m 62ms/step - loss: 0.0041\n",
            "Epoch 51/100\n",
            "\u001b[1m24/24\u001b[0m \u001b[32m━━━━━━━━━━━━━━━━━━━━\u001b[0m\u001b[37m\u001b[0m \u001b[1m1s\u001b[0m 62ms/step - loss: 0.0033\n",
            "Epoch 52/100\n",
            "\u001b[1m24/24\u001b[0m \u001b[32m━━━━━━━━━━━━━━━━━━━━\u001b[0m\u001b[37m\u001b[0m \u001b[1m2s\u001b[0m 62ms/step - loss: 0.0040\n",
            "Epoch 53/100\n",
            "\u001b[1m24/24\u001b[0m \u001b[32m━━━━━━━━━━━━━━━━━━━━\u001b[0m\u001b[37m\u001b[0m \u001b[1m1s\u001b[0m 61ms/step - loss: 0.0030\n",
            "Epoch 54/100\n",
            "\u001b[1m24/24\u001b[0m \u001b[32m━━━━━━━━━━━━━━━━━━━━\u001b[0m\u001b[37m\u001b[0m \u001b[1m1s\u001b[0m 62ms/step - loss: 0.0038\n",
            "Epoch 55/100\n",
            "\u001b[1m24/24\u001b[0m \u001b[32m━━━━━━━━━━━━━━━━━━━━\u001b[0m\u001b[37m\u001b[0m \u001b[1m1s\u001b[0m 60ms/step - loss: 0.0036\n",
            "Epoch 56/100\n",
            "\u001b[1m24/24\u001b[0m \u001b[32m━━━━━━━━━━━━━━━━━━━━\u001b[0m\u001b[37m\u001b[0m \u001b[1m1s\u001b[0m 60ms/step - loss: 0.0034\n",
            "Epoch 57/100\n",
            "\u001b[1m24/24\u001b[0m \u001b[32m━━━━━━━━━━━━━━━━━━━━\u001b[0m\u001b[37m\u001b[0m \u001b[1m1s\u001b[0m 62ms/step - loss: 0.0044\n",
            "Epoch 58/100\n",
            "\u001b[1m24/24\u001b[0m \u001b[32m━━━━━━━━━━━━━━━━━━━━\u001b[0m\u001b[37m\u001b[0m \u001b[1m1s\u001b[0m 61ms/step - loss: 0.0042\n",
            "Epoch 59/100\n",
            "\u001b[1m24/24\u001b[0m \u001b[32m━━━━━━━━━━━━━━━━━━━━\u001b[0m\u001b[37m\u001b[0m \u001b[1m1s\u001b[0m 61ms/step - loss: 0.0064\n",
            "Epoch 60/100\n",
            "\u001b[1m24/24\u001b[0m \u001b[32m━━━━━━━━━━━━━━━━━━━━\u001b[0m\u001b[37m\u001b[0m \u001b[1m1s\u001b[0m 62ms/step - loss: 0.0047\n",
            "Epoch 61/100\n",
            "\u001b[1m24/24\u001b[0m \u001b[32m━━━━━━━━━━━━━━━━━━━━\u001b[0m\u001b[37m\u001b[0m \u001b[1m2s\u001b[0m 62ms/step - loss: 0.0042\n",
            "Epoch 62/100\n",
            "\u001b[1m24/24\u001b[0m \u001b[32m━━━━━━━━━━━━━━━━━━━━\u001b[0m\u001b[37m\u001b[0m \u001b[1m1s\u001b[0m 62ms/step - loss: 0.0043\n",
            "Epoch 63/100\n",
            "\u001b[1m24/24\u001b[0m \u001b[32m━━━━━━━━━━━━━━━━━━━━\u001b[0m\u001b[37m\u001b[0m \u001b[1m2s\u001b[0m 62ms/step - loss: 0.0039\n",
            "Epoch 64/100\n",
            "\u001b[1m24/24\u001b[0m \u001b[32m━━━━━━━━━━━━━━━━━━━━\u001b[0m\u001b[37m\u001b[0m \u001b[1m2s\u001b[0m 62ms/step - loss: 0.0040\n",
            "Epoch 65/100\n",
            "\u001b[1m24/24\u001b[0m \u001b[32m━━━━━━━━━━━━━━━━━━━━\u001b[0m\u001b[37m\u001b[0m \u001b[1m1s\u001b[0m 62ms/step - loss: 0.0031\n",
            "Epoch 66/100\n",
            "\u001b[1m24/24\u001b[0m \u001b[32m━━━━━━━━━━━━━━━━━━━━\u001b[0m\u001b[37m\u001b[0m \u001b[1m1s\u001b[0m 61ms/step - loss: 0.0031\n",
            "Epoch 67/100\n",
            "\u001b[1m24/24\u001b[0m \u001b[32m━━━━━━━━━━━━━━━━━━━━\u001b[0m\u001b[37m\u001b[0m \u001b[1m1s\u001b[0m 62ms/step - loss: 0.0036\n",
            "Epoch 68/100\n",
            "\u001b[1m24/24\u001b[0m \u001b[32m━━━━━━━━━━━━━━━━━━━━\u001b[0m\u001b[37m\u001b[0m \u001b[1m2s\u001b[0m 65ms/step - loss: 0.0034\n",
            "Epoch 69/100\n",
            "\u001b[1m24/24\u001b[0m \u001b[32m━━━━━━━━━━━━━━━━━━━━\u001b[0m\u001b[37m\u001b[0m \u001b[1m2s\u001b[0m 65ms/step - loss: 0.0035\n",
            "Epoch 70/100\n",
            "\u001b[1m24/24\u001b[0m \u001b[32m━━━━━━━━━━━━━━━━━━━━\u001b[0m\u001b[37m\u001b[0m \u001b[1m2s\u001b[0m 62ms/step - loss: 0.0027\n",
            "Epoch 71/100\n",
            "\u001b[1m24/24\u001b[0m \u001b[32m━━━━━━━━━━━━━━━━━━━━\u001b[0m\u001b[37m\u001b[0m \u001b[1m1s\u001b[0m 61ms/step - loss: 0.0029\n",
            "Epoch 72/100\n",
            "\u001b[1m24/24\u001b[0m \u001b[32m━━━━━━━━━━━━━━━━━━━━\u001b[0m\u001b[37m\u001b[0m \u001b[1m1s\u001b[0m 61ms/step - loss: 0.0033\n",
            "Epoch 73/100\n",
            "\u001b[1m24/24\u001b[0m \u001b[32m━━━━━━━━━━━━━━━━━━━━\u001b[0m\u001b[37m\u001b[0m \u001b[1m2s\u001b[0m 63ms/step - loss: 0.0034\n",
            "Epoch 74/100\n",
            "\u001b[1m24/24\u001b[0m \u001b[32m━━━━━━━━━━━━━━━━━━━━\u001b[0m\u001b[37m\u001b[0m \u001b[1m1s\u001b[0m 62ms/step - loss: 0.0042\n",
            "Epoch 75/100\n",
            "\u001b[1m24/24\u001b[0m \u001b[32m━━━━━━━━━━━━━━━━━━━━\u001b[0m\u001b[37m\u001b[0m \u001b[1m1s\u001b[0m 61ms/step - loss: 0.0026\n",
            "Epoch 76/100\n",
            "\u001b[1m24/24\u001b[0m \u001b[32m━━━━━━━━━━━━━━━━━━━━\u001b[0m\u001b[37m\u001b[0m \u001b[1m1s\u001b[0m 60ms/step - loss: 0.0029\n",
            "Epoch 77/100\n",
            "\u001b[1m24/24\u001b[0m \u001b[32m━━━━━━━━━━━━━━━━━━━━\u001b[0m\u001b[37m\u001b[0m \u001b[1m1s\u001b[0m 61ms/step - loss: 0.0025\n",
            "Epoch 78/100\n",
            "\u001b[1m24/24\u001b[0m \u001b[32m━━━━━━━━━━━━━━━━━━━━\u001b[0m\u001b[37m\u001b[0m \u001b[1m1s\u001b[0m 61ms/step - loss: 0.0033\n",
            "Epoch 79/100\n",
            "\u001b[1m24/24\u001b[0m \u001b[32m━━━━━━━━━━━━━━━━━━━━\u001b[0m\u001b[37m\u001b[0m \u001b[1m1s\u001b[0m 62ms/step - loss: 0.0028\n",
            "Epoch 80/100\n",
            "\u001b[1m24/24\u001b[0m \u001b[32m━━━━━━━━━━━━━━━━━━━━\u001b[0m\u001b[37m\u001b[0m \u001b[1m1s\u001b[0m 62ms/step - loss: 0.0030\n",
            "Epoch 81/100\n"
          ]
        },
        {
          "name": "stdout",
          "output_type": "stream",
          "text": [
            "\u001b[1m24/24\u001b[0m \u001b[32m━━━━━━━━━━━━━━━━━━━━\u001b[0m\u001b[37m\u001b[0m \u001b[1m1s\u001b[0m 61ms/step - loss: 0.0042\n",
            "Epoch 82/100\n",
            "\u001b[1m24/24\u001b[0m \u001b[32m━━━━━━━━━━━━━━━━━━━━\u001b[0m\u001b[37m\u001b[0m \u001b[1m1s\u001b[0m 60ms/step - loss: 0.0039\n",
            "Epoch 83/100\n",
            "\u001b[1m24/24\u001b[0m \u001b[32m━━━━━━━━━━━━━━━━━━━━\u001b[0m\u001b[37m\u001b[0m \u001b[1m1s\u001b[0m 60ms/step - loss: 0.0029\n",
            "Epoch 84/100\n",
            "\u001b[1m24/24\u001b[0m \u001b[32m━━━━━━━━━━━━━━━━━━━━\u001b[0m\u001b[37m\u001b[0m \u001b[1m2s\u001b[0m 62ms/step - loss: 0.0023\n",
            "Epoch 85/100\n",
            "\u001b[1m24/24\u001b[0m \u001b[32m━━━━━━━━━━━━━━━━━━━━\u001b[0m\u001b[37m\u001b[0m \u001b[1m2s\u001b[0m 62ms/step - loss: 0.0030\n",
            "Epoch 86/100\n",
            "\u001b[1m24/24\u001b[0m \u001b[32m━━━━━━━━━━━━━━━━━━━━\u001b[0m\u001b[37m\u001b[0m \u001b[1m2s\u001b[0m 62ms/step - loss: 0.0028\n",
            "Epoch 87/100\n",
            "\u001b[1m24/24\u001b[0m \u001b[32m━━━━━━━━━━━━━━━━━━━━\u001b[0m\u001b[37m\u001b[0m \u001b[1m2s\u001b[0m 62ms/step - loss: 0.0028\n",
            "Epoch 88/100\n",
            "\u001b[1m24/24\u001b[0m \u001b[32m━━━━━━━━━━━━━━━━━━━━\u001b[0m\u001b[37m\u001b[0m \u001b[1m1s\u001b[0m 60ms/step - loss: 0.0033\n",
            "Epoch 89/100\n",
            "\u001b[1m24/24\u001b[0m \u001b[32m━━━━━━━━━━━━━━━━━━━━\u001b[0m\u001b[37m\u001b[0m \u001b[1m1s\u001b[0m 61ms/step - loss: 0.0039\n",
            "Epoch 90/100\n",
            "\u001b[1m24/24\u001b[0m \u001b[32m━━━━━━━━━━━━━━━━━━━━\u001b[0m\u001b[37m\u001b[0m \u001b[1m1s\u001b[0m 61ms/step - loss: 0.0032\n",
            "Epoch 91/100\n",
            "\u001b[1m24/24\u001b[0m \u001b[32m━━━━━━━━━━━━━━━━━━━━\u001b[0m\u001b[37m\u001b[0m \u001b[1m1s\u001b[0m 61ms/step - loss: 0.0030\n",
            "Epoch 92/100\n",
            "\u001b[1m24/24\u001b[0m \u001b[32m━━━━━━━━━━━━━━━━━━━━\u001b[0m\u001b[37m\u001b[0m \u001b[1m1s\u001b[0m 62ms/step - loss: 0.0028\n",
            "Epoch 93/100\n",
            "\u001b[1m24/24\u001b[0m \u001b[32m━━━━━━━━━━━━━━━━━━━━\u001b[0m\u001b[37m\u001b[0m \u001b[1m2s\u001b[0m 63ms/step - loss: 0.0028\n",
            "Epoch 94/100\n",
            "\u001b[1m24/24\u001b[0m \u001b[32m━━━━━━━━━━━━━━━━━━━━\u001b[0m\u001b[37m\u001b[0m \u001b[1m1s\u001b[0m 61ms/step - loss: 0.0032\n",
            "Epoch 95/100\n",
            "\u001b[1m24/24\u001b[0m \u001b[32m━━━━━━━━━━━━━━━━━━━━\u001b[0m\u001b[37m\u001b[0m \u001b[1m2s\u001b[0m 64ms/step - loss: 0.0034\n",
            "Epoch 96/100\n",
            "\u001b[1m24/24\u001b[0m \u001b[32m━━━━━━━━━━━━━━━━━━━━\u001b[0m\u001b[37m\u001b[0m \u001b[1m2s\u001b[0m 64ms/step - loss: 0.0033\n",
            "Epoch 97/100\n",
            "\u001b[1m24/24\u001b[0m \u001b[32m━━━━━━━━━━━━━━━━━━━━\u001b[0m\u001b[37m\u001b[0m \u001b[1m2s\u001b[0m 65ms/step - loss: 0.0043\n",
            "Epoch 98/100\n",
            "\u001b[1m24/24\u001b[0m \u001b[32m━━━━━━━━━━━━━━━━━━━━\u001b[0m\u001b[37m\u001b[0m \u001b[1m2s\u001b[0m 63ms/step - loss: 0.0029\n",
            "Epoch 99/100\n",
            "\u001b[1m24/24\u001b[0m \u001b[32m━━━━━━━━━━━━━━━━━━━━\u001b[0m\u001b[37m\u001b[0m \u001b[1m2s\u001b[0m 63ms/step - loss: 0.0024\n",
            "Epoch 100/100\n",
            "\u001b[1m24/24\u001b[0m \u001b[32m━━━━━━━━━━━━━━━━━━━━\u001b[0m\u001b[37m\u001b[0m \u001b[1m2s\u001b[0m 62ms/step - loss: 0.0025\n"
          ]
        },
        {
          "data": {
            "text/plain": [
              "<keras.src.callbacks.history.History at 0x7f322acac670>"
            ]
          },
          "execution_count": 42,
          "metadata": {},
          "output_type": "execute_result"
        }
      ],
      "source": [
        "# Train the model\n",
        "model.fit(train_tsGenerator60, epochs=100)"
      ]
    },
    {
      "cell_type": "markdown",
      "id": "3ac2af8e-53f7-4a5b-a11b-4f15a53be766",
      "metadata": {
        "id": "3ac2af8e-53f7-4a5b-a11b-4f15a53be766"
      },
      "source": [
        "### Visualize Model's Performance after Training"
      ]
    },
    {
      "cell_type": "code",
      "execution_count": null,
      "id": "3fe69164-ef3c-4e77-9f1a-36e2d9fc9f27",
      "metadata": {
        "tags": [],
        "id": "3fe69164-ef3c-4e77-9f1a-36e2d9fc9f27",
        "outputId": "4560912e-3293-48d7-d63e-1cebd148b070"
      },
      "outputs": [
        {
          "data": {
            "text/plain": [
              "dict_keys(['loss'])"
            ]
          },
          "execution_count": 43,
          "metadata": {},
          "output_type": "execute_result"
        }
      ],
      "source": [
        "loss_history_keys = model.history.history.keys()\n",
        "#model.history.history is a dict\n",
        "# 'loss': its key\n",
        "# 'Loss': loss during training;\n",
        "loss_history_keys\n"
      ]
    },
    {
      "cell_type": "code",
      "execution_count": null,
      "id": "9d677f1d-09b4-45ce-bc03-c51252750736",
      "metadata": {
        "tags": [],
        "id": "9d677f1d-09b4-45ce-bc03-c51252750736"
      },
      "outputs": [],
      "source": [
        "# Load the loss data (model.history.history) into a data frame\n",
        "df_model_loss = pd.DataFrame(model.history.history)"
      ]
    },
    {
      "cell_type": "code",
      "execution_count": null,
      "id": "6c343b4f-271c-4365-960f-6fae96524865",
      "metadata": {
        "tags": [],
        "id": "6c343b4f-271c-4365-960f-6fae96524865",
        "outputId": "3f42c19b-b9ea-466d-86ba-fb19f8535742"
      },
      "outputs": [
        {
          "data": {
            "text/plain": [
              "<Axes: >"
            ]
          },
          "execution_count": 45,
          "metadata": {},
          "output_type": "execute_result"
        },
        {
          "data": {
            "image/png": "[encoded data removed]",
            "text/plain": [
              "<Figure size 640x480 with 1 Axes>"
            ]
          },
          "metadata": {},
          "output_type": "display_data"
        }
      ],
      "source": [
        "# Visualize the loss data using DataFrame.plot()\n",
        "df_model_loss.plot()"
      ]
    },
    {
      "cell_type": "markdown",
      "id": "35699229-8b63-4dee-9048-25e2c1959478",
      "metadata": {
        "id": "35699229-8b63-4dee-9048-25e2c1959478"
      },
      "source": [
        "### Prediction for Testing: Using Timeseries Generator\n"
      ]
    },
    {
      "cell_type": "code",
      "execution_count": null,
      "id": "f5a1dc46-96e1-4b68-b0dc-15f46dca3726",
      "metadata": {
        "tags": [],
        "id": "f5a1dc46-96e1-4b68-b0dc-15f46dca3726"
      },
      "outputs": [],
      "source": [
        "#Create Timeseries Generator for Testing\n",
        "#batch_size MUST be 1\n",
        "batch_size1 = 1\n",
        "# Create a Time Series Generator for testing: test_tsGenerator\n",
        "test_tsGenerator60 = TimeseriesGenerator(normalized_test, normalized_test, length=length60, batch_size=batch_size1)\n"
      ]
    },
    {
      "cell_type": "markdown",
      "id": "738071cc-d5d6-4eab-a66a-8c1546b1cb1d",
      "metadata": {
        "id": "738071cc-d5d6-4eab-a66a-8c1546b1cb1d"
      },
      "source": [
        "### Predict Future Data Points for Testing"
      ]
    },
    {
      "cell_type": "code",
      "execution_count": null,
      "id": "41814a4f-c63b-4dd1-860f-3980c3775a51",
      "metadata": {
        "tags": [],
        "id": "41814a4f-c63b-4dd1-860f-3980c3775a51",
        "outputId": "6da02e58-b5c9-4b0a-d8bb-f0d168b38992"
      },
      "outputs": [
        {
          "name": "stderr",
          "output_type": "stream",
          "text": [
            "/opt/conda/lib/python3.10/site-packages/keras/src/trainers/data_adapters/py_dataset_adapter.py:122: UserWarning: Your `PyDataset` class should call `super().__init__(**kwargs)` in its constructor. `**kwargs` can include `workers`, `use_multiprocessing`, `max_queue_size`. Do not pass these arguments to `fit()`, as they will be ignored.\n",
            "  self._warn_if_super_not_called()\n"
          ]
        },
        {
          "name": "stdout",
          "output_type": "stream",
          "text": [
            "\u001b[1m91/91\u001b[0m \u001b[32m━━━━━━━━━━━━━━━━━━━━\u001b[0m\u001b[37m\u001b[0m \u001b[1m1s\u001b[0m 8ms/step\n"
          ]
        }
      ],
      "source": [
        "normalized_prediction = model.predict(test_tsGenerator60)"
      ]
    },
    {
      "cell_type": "code",
      "execution_count": null,
      "id": "b2a8b5c5-2248-41c4-880a-34d1fe058e9a",
      "metadata": {
        "tags": [],
        "id": "b2a8b5c5-2248-41c4-880a-34d1fe058e9a",
        "outputId": "9d388a85-51a8-449d-ecb7-25e2802f332b"
      },
      "outputs": [
        {
          "data": {
            "text/plain": [
              "array([[0.64479965],\n",
              "       [0.66810006],\n",
              "       [0.6789779 ],\n",
              "       [0.6637095 ],\n",
              "       [0.63478386],\n",
              "       [0.6079889 ],\n",
              "       [0.5842467 ],\n",
              "       [0.57500315],\n",
              "       [0.58144295],\n",
              "       [0.6021822 ],\n",
              "       [0.62408966],\n",
              "       [0.63568026],\n",
              "       [0.6497605 ],\n",
              "       [0.65532416],\n",
              "       [0.64873624],\n",
              "       [0.6544921 ],\n",
              "       [0.6793987 ],\n",
              "       [0.7074149 ],\n",
              "       [0.7325546 ],\n",
              "       [0.75196016],\n",
              "       [0.76810086],\n",
              "       [0.77580255],\n",
              "       [0.7853255 ],\n",
              "       [0.79636097],\n",
              "       [0.8097685 ],\n",
              "       [0.82161623],\n",
              "       [0.8302082 ],\n",
              "       [0.8382672 ],\n",
              "       [0.8473038 ],\n",
              "       [0.8503511 ],\n",
              "       [0.8278292 ],\n",
              "       [0.82228464],\n",
              "       [0.8286467 ],\n",
              "       [0.83723176],\n",
              "       [0.8477928 ],\n",
              "       [0.85738045],\n",
              "       [0.86838394],\n",
              "       [0.8776588 ],\n",
              "       [0.8869442 ],\n",
              "       [0.8912046 ],\n",
              "       [0.8978825 ],\n",
              "       [0.8874342 ],\n",
              "       [0.9093656 ],\n",
              "       [0.939749  ],\n",
              "       [0.96903753],\n",
              "       [0.98907644],\n",
              "       [1.007959  ],\n",
              "       [1.019256  ],\n",
              "       [1.0158068 ],\n",
              "       [1.0019984 ],\n",
              "       [0.9960506 ],\n",
              "       [0.99906784],\n",
              "       [1.0124073 ],\n",
              "       [1.0238463 ],\n",
              "       [1.0243263 ],\n",
              "       [1.0379987 ],\n",
              "       [1.0526252 ],\n",
              "       [1.0670197 ],\n",
              "       [1.0854629 ],\n",
              "       [1.102847  ],\n",
              "       [1.1171291 ],\n",
              "       [1.1342335 ],\n",
              "       [1.1392449 ],\n",
              "       [1.1459745 ],\n",
              "       [1.1589277 ],\n",
              "       [1.1698344 ],\n",
              "       [1.1682142 ],\n",
              "       [1.1459348 ],\n",
              "       [1.1345468 ],\n",
              "       [1.1367782 ],\n",
              "       [1.1420696 ],\n",
              "       [1.1120669 ],\n",
              "       [1.0959789 ],\n",
              "       [1.0982825 ],\n",
              "       [1.1012778 ],\n",
              "       [1.1016814 ],\n",
              "       [1.1074545 ],\n",
              "       [1.1015399 ],\n",
              "       [1.1013826 ],\n",
              "       [1.0502927 ],\n",
              "       [1.0153068 ],\n",
              "       [1.0235265 ],\n",
              "       [1.0457071 ],\n",
              "       [1.0555174 ],\n",
              "       [1.0600106 ],\n",
              "       [1.0688424 ],\n",
              "       [1.0781056 ],\n",
              "       [1.0908946 ],\n",
              "       [1.1037358 ],\n",
              "       [1.1132646 ],\n",
              "       [1.1204597 ]], dtype=float32)"
            ]
          },
          "execution_count": 48,
          "metadata": {},
          "output_type": "execute_result"
        }
      ],
      "source": [
        "# Prediction is a numpy 2D array with only one column\n",
        "normalized_prediction"
      ]
    },
    {
      "cell_type": "code",
      "execution_count": null,
      "id": "6f376b64-809c-4eff-bf02-59749841567e",
      "metadata": {
        "tags": [],
        "id": "6f376b64-809c-4eff-bf02-59749841567e",
        "outputId": "02ff9bf9-c341-4fed-a872-179fc09ef074"
      },
      "outputs": [
        {
          "data": {
            "text/plain": [
              "91"
            ]
          },
          "execution_count": 49,
          "metadata": {},
          "output_type": "execute_result"
        }
      ],
      "source": [
        "len(normalized_prediction)"
      ]
    },
    {
      "cell_type": "code",
      "execution_count": null,
      "id": "26f66854-7e82-45a4-a5d5-bfc1da1d1762",
      "metadata": {
        "tags": [],
        "id": "26f66854-7e82-45a4-a5d5-bfc1da1d1762"
      },
      "outputs": [],
      "source": [
        "# Convert normalized predictions back to the true values\n",
        "prediction = scaler.inverse_transform(normalized_prediction)"
      ]
    },
    {
      "cell_type": "code",
      "execution_count": null,
      "id": "be6fb895-b92f-49a0-aaf2-ab25a7b4c8be",
      "metadata": {
        "tags": [],
        "id": "be6fb895-b92f-49a0-aaf2-ab25a7b4c8be"
      },
      "outputs": [],
      "source": [
        "# Flatten all the 2D array\n",
        "#data_train = data_train.reshape((-1))\n",
        "# data_test-data_test.reshape((-1))\n",
        "# prediction = prediction.reshape((-1))\n",
        "prediction_index = np.arange(823, 914, step=1)\n",
        "df_prediction = pd.DataFrame(data=prediction, index=prediction_index, columns=['Prediction'])\n"
      ]
    },
    {
      "cell_type": "code",
      "execution_count": null,
      "id": "9847f06e-736e-413f-a809-0acbd51c9cd2",
      "metadata": {
        "tags": [],
        "id": "9847f06e-736e-413f-a809-0acbd51c9cd2",
        "outputId": "0fc1e22a-4c5a-409e-a3b6-b56db541ee65"
      },
      "outputs": [
        {
          "data": {
            "text/html": [
              "<div>\n",
              "<style scoped>\n",
              "    .dataframe tbody tr th:only-of-type {\n",
              "        vertical-align: middle;\n",
              "    }\n",
              "\n",
              "    .dataframe tbody tr th {\n",
              "        vertical-align: top;\n",
              "    }\n",
              "\n",
              "    .dataframe thead th {\n",
              "        text-align: right;\n",
              "    }\n",
              "</style>\n",
              "<table border=\"1\" class=\"dataframe\">\n",
              "  <thead>\n",
              "    <tr style=\"text-align: right;\">\n",
              "      <th></th>\n",
              "      <th>Prediction</th>\n",
              "    </tr>\n",
              "  </thead>\n",
              "  <tbody>\n",
              "    <tr>\n",
              "      <th>823</th>\n",
              "      <td>169.072372</td>\n",
              "    </tr>\n",
              "    <tr>\n",
              "      <th>824</th>\n",
              "      <td>170.977188</td>\n",
              "    </tr>\n",
              "    <tr>\n",
              "      <th>825</th>\n",
              "      <td>171.866455</td>\n",
              "    </tr>\n",
              "    <tr>\n",
              "      <th>826</th>\n",
              "      <td>170.618271</td>\n",
              "    </tr>\n",
              "    <tr>\n",
              "      <th>827</th>\n",
              "      <td>168.253586</td>\n",
              "    </tr>\n",
              "    <tr>\n",
              "      <th>...</th>\n",
              "      <td>...</td>\n",
              "    </tr>\n",
              "    <tr>\n",
              "      <th>909</th>\n",
              "      <td>204.495148</td>\n",
              "    </tr>\n",
              "    <tr>\n",
              "      <th>910</th>\n",
              "      <td>205.540649</td>\n",
              "    </tr>\n",
              "    <tr>\n",
              "      <th>911</th>\n",
              "      <td>206.590408</td>\n",
              "    </tr>\n",
              "    <tr>\n",
              "      <th>912</th>\n",
              "      <td>207.369385</td>\n",
              "    </tr>\n",
              "    <tr>\n",
              "      <th>913</th>\n",
              "      <td>207.957596</td>\n",
              "    </tr>\n",
              "  </tbody>\n",
              "</table>\n",
              "<p>91 rows × 1 columns</p>\n",
              "</div>"
            ],
            "text/plain": [
              "     Prediction\n",
              "823  169.072372\n",
              "824  170.977188\n",
              "825  171.866455\n",
              "826  170.618271\n",
              "827  168.253586\n",
              "..          ...\n",
              "909  204.495148\n",
              "910  205.540649\n",
              "911  206.590408\n",
              "912  207.369385\n",
              "913  207.957596\n",
              "\n",
              "[91 rows x 1 columns]"
            ]
          },
          "execution_count": 52,
          "metadata": {},
          "output_type": "execute_result"
        }
      ],
      "source": [
        "df_prediction"
      ]
    },
    {
      "cell_type": "markdown",
      "id": "3c5a30be-1c0f-4221-bc98-702ae6a5b6ff",
      "metadata": {
        "id": "3c5a30be-1c0f-4221-bc98-702ae6a5b6ff"
      },
      "source": [
        "## Visualize Prediction"
      ]
    },
    {
      "cell_type": "code",
      "execution_count": null,
      "id": "c9f82da2-2039-4d01-8a67-007a28794c75",
      "metadata": {
        "tags": [],
        "id": "c9f82da2-2039-4d01-8a67-007a28794c75",
        "outputId": "7c547b28-d64f-46fe-aebb-79dd05766882"
      },
      "outputs": [
        {
          "data": {
            "text/plain": [
              "<Axes: >"
            ]
          },
          "execution_count": 53,
          "metadata": {},
          "output_type": "execute_result"
        },
        {
          "data": {
            "image/png": "[encoded data removed]",
            "text/plain": [
              "<Figure size 800x1200 with 1 Axes>"
            ]
          },
          "metadata": {},
          "output_type": "display_data"
        }
      ],
      "source": [
        "ax = data_train.plot()\n",
        "df_prediction.plot(ax=ax, figsize=(8, 12))"
      ]
    },
    {
      "cell_type": "markdown",
      "id": "bc196208-5b99-4ec7-a7fb-fa9abef0e4d8",
      "metadata": {
        "id": "bc196208-5b99-4ec7-a7fb-fa9abef0e4d8"
      },
      "source": [
        "### Visualize Prediction and Compare Actual Close Price"
      ]
    },
    {
      "cell_type": "code",
      "execution_count": null,
      "id": "940c81b0-3ce3-49fb-b1fc-8f0e639b1af2",
      "metadata": {
        "tags": [],
        "id": "940c81b0-3ce3-49fb-b1fc-8f0e639b1af2",
        "outputId": "466fdbe2-52cf-4cab-ecc9-6d3beb03a843"
      },
      "outputs": [
        {
          "data": {
            "text/plain": [
              "<Axes: >"
            ]
          },
          "execution_count": 54,
          "metadata": {},
          "output_type": "execute_result"
        },
        {
          "data": {
            "image/png": "[encoded data removed]",
            "text/plain": [
              "<Figure size 800x1200 with 1 Axes>"
            ]
          },
          "metadata": {},
          "output_type": "display_data"
        }
      ],
      "source": [
        "ax = df.plot()\n",
        "df_prediction.plot(ax=ax, figsize=(8, 12))"
      ]
    },
    {
      "cell_type": "markdown",
      "id": "e2dafd55-0a8b-4b72-a40f-a61c6ef48cc5",
      "metadata": {
        "id": "e2dafd55-0a8b-4b72-a40f-a61c6ef48cc5"
      },
      "source": [
        "# Time Series Forecasting with LSTM\n",
        "### Overview\n",
        "### Time series forecasting:\n",
        "### --) Forecast into the \"future\" or unknown range\n",
        "### --) Should employ all the available data\n",
        "### --) i.e., NOT split the data into training/testing\n",
        "### Preprocess Full Input Dataset\n"
      ]
    },
    {
      "cell_type": "code",
      "execution_count": null,
      "id": "3bda1295-0e56-483f-a616-6c753cff1e3a",
      "metadata": {
        "tags": [],
        "id": "3bda1295-0e56-483f-a616-6c753cff1e3a"
      },
      "outputs": [],
      "source": [
        "# Still use MinMaxScaler to normalize the full input dataset df\n",
        "full_scaler= MinMaxScaler()\n",
        "normalized_full_data = full_scaler.fit_transform(df)\n"
      ]
    },
    {
      "cell_type": "markdown",
      "id": "f6007e1d-f954-483d-a690-4f4ee2a46ccf",
      "metadata": {
        "id": "f6007e1d-f954-483d-a690-4f4ee2a46ccf"
      },
      "source": [
        "### Create TimeSeries Generastor for Forecasting"
      ]
    },
    {
      "cell_type": "code",
      "execution_count": null,
      "id": "8f097bde-b51e-4f6a-916e-807582a43f9a",
      "metadata": {
        "tags": [],
        "id": "8f097bde-b51e-4f6a-916e-807582a43f9a",
        "outputId": "071e654e-f64c-45b8-921f-38026715462c"
      },
      "outputs": [
        {
          "data": {
            "text/plain": [
              "60"
            ]
          },
          "execution_count": 56,
          "metadata": {},
          "output_type": "execute_result"
        }
      ],
      "source": [
        "\n",
        "# Number of time steps of the input time series\n",
        "# Still use length60:\n",
        "length60\n"
      ]
    },
    {
      "cell_type": "code",
      "execution_count": null,
      "id": "a3289838-3e28-47a6-b2d0-d7094bc20617",
      "metadata": {
        "tags": [],
        "id": "a3289838-3e28-47a6-b2d0-d7094bc20617"
      },
      "outputs": [],
      "source": [
        "# Create Timeseries Generator for forecasting\n",
        "forecast_tsGenerator = TimeseriesGenerator(normalized_full_data, normalized_full_data, length=length60, batch_size=32)"
      ]
    },
    {
      "cell_type": "markdown",
      "id": "eb522d2f-bd1a-416c-97ca-ed25b591a852",
      "metadata": {
        "id": "eb522d2f-bd1a-416c-97ca-ed25b591a852"
      },
      "source": [
        "## Build, Compile, and Fit LSTM Model for Forecasting\n"
      ]
    },
    {
      "cell_type": "code",
      "execution_count": null,
      "id": "b1b989dd-9505-4af2-a0a0-1a72379b1ab1",
      "metadata": {
        "tags": [],
        "id": "b1b989dd-9505-4af2-a0a0-1a72379b1ab1",
        "outputId": "6ac8d1de-6a8f-432d-c7c6-b7753d87d34d"
      },
      "outputs": [
        {
          "name": "stdout",
          "output_type": "stream",
          "text": [
            "Epoch 1/100\n",
            "\u001b[1m 3/27\u001b[0m \u001b[32m━━\u001b[0m\u001b[37m━━━━━━━━━━━━━━━━━━\u001b[0m \u001b[1m1s\u001b[0m 59ms/step - loss: 0.0013"
          ]
        },
        {
          "name": "stderr",
          "output_type": "stream",
          "text": [
            "/opt/conda/lib/python3.10/site-packages/keras/src/trainers/data_adapters/py_dataset_adapter.py:122: UserWarning: Your `PyDataset` class should call `super().__init__(**kwargs)` in its constructor. `**kwargs` can include `workers`, `use_multiprocessing`, `max_queue_size`. Do not pass these arguments to `fit()`, as they will be ignored.\n",
            "  self._warn_if_super_not_called()\n"
          ]
        },
        {
          "name": "stdout",
          "output_type": "stream",
          "text": [
            "\u001b[1m27/27\u001b[0m \u001b[32m━━━━━━━━━━━━━━━━━━━━\u001b[0m\u001b[37m\u001b[0m \u001b[1m2s\u001b[0m 63ms/step - loss: 0.0015\n",
            "Epoch 2/100\n",
            "\u001b[1m27/27\u001b[0m \u001b[32m━━━━━━━━━━━━━━━━━━━━\u001b[0m\u001b[37m\u001b[0m \u001b[1m2s\u001b[0m 61ms/step - loss: 0.0018\n",
            "Epoch 3/100\n",
            "\u001b[1m27/27\u001b[0m \u001b[32m━━━━━━━━━━━━━━━━━━━━\u001b[0m\u001b[37m\u001b[0m \u001b[1m2s\u001b[0m 61ms/step - loss: 0.0022\n",
            "Epoch 4/100\n",
            "\u001b[1m27/27\u001b[0m \u001b[32m━━━━━━━━━━━━━━━━━━━━\u001b[0m\u001b[37m\u001b[0m \u001b[1m2s\u001b[0m 61ms/step - loss: 0.0013\n",
            "Epoch 5/100\n",
            "\u001b[1m27/27\u001b[0m \u001b[32m━━━━━━━━━━━━━━━━━━━━\u001b[0m\u001b[37m\u001b[0m \u001b[1m2s\u001b[0m 63ms/step - loss: 0.0015\n",
            "Epoch 6/100\n",
            "\u001b[1m27/27\u001b[0m \u001b[32m━━━━━━━━━━━━━━━━━━━━\u001b[0m\u001b[37m\u001b[0m \u001b[1m2s\u001b[0m 64ms/step - loss: 0.0016\n",
            "Epoch 7/100\n",
            "\u001b[1m27/27\u001b[0m \u001b[32m━━━━━━━━━━━━━━━━━━━━\u001b[0m\u001b[37m\u001b[0m \u001b[1m2s\u001b[0m 62ms/step - loss: 0.0022\n",
            "Epoch 8/100\n",
            "\u001b[1m27/27\u001b[0m \u001b[32m━━━━━━━━━━━━━━━━━━━━\u001b[0m\u001b[37m\u001b[0m \u001b[1m2s\u001b[0m 61ms/step - loss: 0.0019\n",
            "Epoch 9/100\n",
            "\u001b[1m27/27\u001b[0m \u001b[32m━━━━━━━━━━━━━━━━━━━━\u001b[0m\u001b[37m\u001b[0m \u001b[1m2s\u001b[0m 61ms/step - loss: 0.0017\n",
            "Epoch 10/100\n",
            "\u001b[1m27/27\u001b[0m \u001b[32m━━━━━━━━━━━━━━━━━━━━\u001b[0m\u001b[37m\u001b[0m \u001b[1m2s\u001b[0m 60ms/step - loss: 0.0013\n",
            "Epoch 11/100\n",
            "\u001b[1m27/27\u001b[0m \u001b[32m━━━━━━━━━━━━━━━━━━━━\u001b[0m\u001b[37m\u001b[0m \u001b[1m2s\u001b[0m 61ms/step - loss: 0.0015\n",
            "Epoch 12/100\n",
            "\u001b[1m27/27\u001b[0m \u001b[32m━━━━━━━━━━━━━━━━━━━━\u001b[0m\u001b[37m\u001b[0m \u001b[1m2s\u001b[0m 61ms/step - loss: 0.0014\n",
            "Epoch 13/100\n",
            "\u001b[1m27/27\u001b[0m \u001b[32m━━━━━━━━━━━━━━━━━━━━\u001b[0m\u001b[37m\u001b[0m \u001b[1m2s\u001b[0m 61ms/step - loss: 0.0018\n",
            "Epoch 14/100\n",
            "\u001b[1m27/27\u001b[0m \u001b[32m━━━━━━━━━━━━━━━━━━━━\u001b[0m\u001b[37m\u001b[0m \u001b[1m2s\u001b[0m 60ms/step - loss: 0.0020\n",
            "Epoch 15/100\n",
            "\u001b[1m27/27\u001b[0m \u001b[32m━━━━━━━━━━━━━━━━━━━━\u001b[0m\u001b[37m\u001b[0m \u001b[1m2s\u001b[0m 61ms/step - loss: 0.0014\n",
            "Epoch 16/100\n",
            "\u001b[1m27/27\u001b[0m \u001b[32m━━━━━━━━━━━━━━━━━━━━\u001b[0m\u001b[37m\u001b[0m \u001b[1m2s\u001b[0m 61ms/step - loss: 0.0019\n",
            "Epoch 17/100\n",
            "\u001b[1m27/27\u001b[0m \u001b[32m━━━━━━━━━━━━━━━━━━━━\u001b[0m\u001b[37m\u001b[0m \u001b[1m2s\u001b[0m 61ms/step - loss: 0.0021\n",
            "Epoch 18/100\n",
            "\u001b[1m27/27\u001b[0m \u001b[32m━━━━━━━━━━━━━━━━━━━━\u001b[0m\u001b[37m\u001b[0m \u001b[1m2s\u001b[0m 60ms/step - loss: 0.0017\n",
            "Epoch 19/100\n",
            "\u001b[1m27/27\u001b[0m \u001b[32m━━━━━━━━━━━━━━━━━━━━\u001b[0m\u001b[37m\u001b[0m \u001b[1m2s\u001b[0m 61ms/step - loss: 0.0015\n",
            "Epoch 20/100\n",
            "\u001b[1m27/27\u001b[0m \u001b[32m━━━━━━━━━━━━━━━━━━━━\u001b[0m\u001b[37m\u001b[0m \u001b[1m2s\u001b[0m 61ms/step - loss: 0.0014\n",
            "Epoch 21/100\n",
            "\u001b[1m27/27\u001b[0m \u001b[32m━━━━━━━━━━━━━━━━━━━━\u001b[0m\u001b[37m\u001b[0m \u001b[1m2s\u001b[0m 61ms/step - loss: 0.0013\n",
            "Epoch 22/100\n",
            "\u001b[1m27/27\u001b[0m \u001b[32m━━━━━━━━━━━━━━━━━━━━\u001b[0m\u001b[37m\u001b[0m \u001b[1m2s\u001b[0m 61ms/step - loss: 0.0014\n",
            "Epoch 23/100\n",
            "\u001b[1m27/27\u001b[0m \u001b[32m━━━━━━━━━━━━━━━━━━━━\u001b[0m\u001b[37m\u001b[0m \u001b[1m2s\u001b[0m 61ms/step - loss: 0.0015\n",
            "Epoch 24/100\n",
            "\u001b[1m27/27\u001b[0m \u001b[32m━━━━━━━━━━━━━━━━━━━━\u001b[0m\u001b[37m\u001b[0m \u001b[1m2s\u001b[0m 60ms/step - loss: 0.0016\n",
            "Epoch 25/100\n",
            "\u001b[1m27/27\u001b[0m \u001b[32m━━━━━━━━━━━━━━━━━━━━\u001b[0m\u001b[37m\u001b[0m \u001b[1m2s\u001b[0m 61ms/step - loss: 0.0017\n",
            "Epoch 26/100\n",
            "\u001b[1m27/27\u001b[0m \u001b[32m━━━━━━━━━━━━━━━━━━━━\u001b[0m\u001b[37m\u001b[0m \u001b[1m2s\u001b[0m 61ms/step - loss: 0.0012\n",
            "Epoch 27/100\n",
            "\u001b[1m27/27\u001b[0m \u001b[32m━━━━━━━━━━━━━━━━━━━━\u001b[0m\u001b[37m\u001b[0m \u001b[1m2s\u001b[0m 63ms/step - loss: 0.0018\n",
            "Epoch 28/100\n",
            "\u001b[1m27/27\u001b[0m \u001b[32m━━━━━━━━━━━━━━━━━━━━\u001b[0m\u001b[37m\u001b[0m \u001b[1m2s\u001b[0m 62ms/step - loss: 0.0016\n",
            "Epoch 29/100\n",
            "\u001b[1m27/27\u001b[0m \u001b[32m━━━━━━━━━━━━━━━━━━━━\u001b[0m\u001b[37m\u001b[0m \u001b[1m2s\u001b[0m 62ms/step - loss: 0.0021\n",
            "Epoch 30/100\n",
            "\u001b[1m27/27\u001b[0m \u001b[32m━━━━━━━━━━━━━━━━━━━━\u001b[0m\u001b[37m\u001b[0m \u001b[1m2s\u001b[0m 61ms/step - loss: 0.0018\n",
            "Epoch 31/100\n",
            "\u001b[1m27/27\u001b[0m \u001b[32m━━━━━━━━━━━━━━━━━━━━\u001b[0m\u001b[37m\u001b[0m \u001b[1m2s\u001b[0m 60ms/step - loss: 0.0019\n",
            "Epoch 32/100\n",
            "\u001b[1m27/27\u001b[0m \u001b[32m━━━━━━━━━━━━━━━━━━━━\u001b[0m\u001b[37m\u001b[0m \u001b[1m2s\u001b[0m 62ms/step - loss: 0.0015\n",
            "Epoch 33/100\n",
            "\u001b[1m27/27\u001b[0m \u001b[32m━━━━━━━━━━━━━━━━━━━━\u001b[0m\u001b[37m\u001b[0m \u001b[1m2s\u001b[0m 61ms/step - loss: 0.0018\n",
            "Epoch 34/100\n",
            "\u001b[1m27/27\u001b[0m \u001b[32m━━━━━━━━━━━━━━━━━━━━\u001b[0m\u001b[37m\u001b[0m \u001b[1m2s\u001b[0m 61ms/step - loss: 0.0015\n",
            "Epoch 35/100\n",
            "\u001b[1m27/27\u001b[0m \u001b[32m━━━━━━━━━━━━━━━━━━━━\u001b[0m\u001b[37m\u001b[0m \u001b[1m2s\u001b[0m 61ms/step - loss: 0.0014\n",
            "Epoch 36/100\n",
            "\u001b[1m27/27\u001b[0m \u001b[32m━━━━━━━━━━━━━━━━━━━━\u001b[0m\u001b[37m\u001b[0m \u001b[1m2s\u001b[0m 62ms/step - loss: 0.0013\n",
            "Epoch 37/100\n",
            "\u001b[1m27/27\u001b[0m \u001b[32m━━━━━━━━━━━━━━━━━━━━\u001b[0m\u001b[37m\u001b[0m \u001b[1m2s\u001b[0m 61ms/step - loss: 0.0017\n",
            "Epoch 38/100\n",
            "\u001b[1m27/27\u001b[0m \u001b[32m━━━━━━━━━━━━━━━━━━━━\u001b[0m\u001b[37m\u001b[0m \u001b[1m2s\u001b[0m 61ms/step - loss: 0.0016\n",
            "Epoch 39/100\n",
            "\u001b[1m27/27\u001b[0m \u001b[32m━━━━━━━━━━━━━━━━━━━━\u001b[0m\u001b[37m\u001b[0m \u001b[1m2s\u001b[0m 60ms/step - loss: 0.0020\n",
            "Epoch 40/100\n",
            "\u001b[1m27/27\u001b[0m \u001b[32m━━━━━━━━━━━━━━━━━━━━\u001b[0m\u001b[37m\u001b[0m \u001b[1m2s\u001b[0m 61ms/step - loss: 0.0021\n",
            "Epoch 41/100\n",
            "\u001b[1m27/27\u001b[0m \u001b[32m━━━━━━━━━━━━━━━━━━━━\u001b[0m\u001b[37m\u001b[0m \u001b[1m2s\u001b[0m 64ms/step - loss: 0.0014\n",
            "Epoch 42/100\n",
            "\u001b[1m27/27\u001b[0m \u001b[32m━━━━━━━━━━━━━━━━━━━━\u001b[0m\u001b[37m\u001b[0m \u001b[1m2s\u001b[0m 66ms/step - loss: 0.0014\n",
            "Epoch 43/100\n",
            "\u001b[1m27/27\u001b[0m \u001b[32m━━━━━━━━━━━━━━━━━━━━\u001b[0m\u001b[37m\u001b[0m \u001b[1m2s\u001b[0m 62ms/step - loss: 0.0013\n",
            "Epoch 44/100\n",
            "\u001b[1m27/27\u001b[0m \u001b[32m━━━━━━━━━━━━━━━━━━━━\u001b[0m\u001b[37m\u001b[0m \u001b[1m2s\u001b[0m 65ms/step - loss: 0.0016\n",
            "Epoch 45/100\n",
            "\u001b[1m27/27\u001b[0m \u001b[32m━━━━━━━━━━━━━━━━━━━━\u001b[0m\u001b[37m\u001b[0m \u001b[1m2s\u001b[0m 61ms/step - loss: 0.0015\n",
            "Epoch 46/100\n",
            "\u001b[1m27/27\u001b[0m \u001b[32m━━━━━━━━━━━━━━━━━━━━\u001b[0m\u001b[37m\u001b[0m \u001b[1m2s\u001b[0m 62ms/step - loss: 0.0021\n",
            "Epoch 47/100\n",
            "\u001b[1m27/27\u001b[0m \u001b[32m━━━━━━━━━━━━━━━━━━━━\u001b[0m\u001b[37m\u001b[0m \u001b[1m2s\u001b[0m 62ms/step - loss: 0.0016\n",
            "Epoch 48/100\n",
            "\u001b[1m27/27\u001b[0m \u001b[32m━━━━━━━━━━━━━━━━━━━━\u001b[0m\u001b[37m\u001b[0m \u001b[1m2s\u001b[0m 61ms/step - loss: 0.0014\n",
            "Epoch 49/100\n",
            "\u001b[1m27/27\u001b[0m \u001b[32m━━━━━━━━━━━━━━━━━━━━\u001b[0m\u001b[37m\u001b[0m \u001b[1m2s\u001b[0m 61ms/step - loss: 0.0013\n",
            "Epoch 50/100\n",
            "\u001b[1m27/27\u001b[0m \u001b[32m━━━━━━━━━━━━━━━━━━━━\u001b[0m\u001b[37m\u001b[0m \u001b[1m2s\u001b[0m 60ms/step - loss: 0.0013\n",
            "Epoch 51/100\n",
            "\u001b[1m27/27\u001b[0m \u001b[32m━━━━━━━━━━━━━━━━━━━━\u001b[0m\u001b[37m\u001b[0m \u001b[1m2s\u001b[0m 61ms/step - loss: 0.0017\n",
            "Epoch 52/100\n",
            "\u001b[1m27/27\u001b[0m \u001b[32m━━━━━━━━━━━━━━━━━━━━\u001b[0m\u001b[37m\u001b[0m \u001b[1m2s\u001b[0m 61ms/step - loss: 0.0019\n",
            "Epoch 53/100\n",
            "\u001b[1m27/27\u001b[0m \u001b[32m━━━━━━━━━━━━━━━━━━━━\u001b[0m\u001b[37m\u001b[0m \u001b[1m2s\u001b[0m 62ms/step - loss: 0.0016\n",
            "Epoch 54/100\n",
            "\u001b[1m27/27\u001b[0m \u001b[32m━━━━━━━━━━━━━━━━━━━━\u001b[0m\u001b[37m\u001b[0m \u001b[1m2s\u001b[0m 61ms/step - loss: 0.0015\n",
            "Epoch 55/100\n",
            "\u001b[1m27/27\u001b[0m \u001b[32m━━━━━━━━━━━━━━━━━━━━\u001b[0m\u001b[37m\u001b[0m \u001b[1m2s\u001b[0m 60ms/step - loss: 0.0017\n",
            "Epoch 56/100\n",
            "\u001b[1m27/27\u001b[0m \u001b[32m━━━━━━━━━━━━━━━━━━━━\u001b[0m\u001b[37m\u001b[0m \u001b[1m2s\u001b[0m 61ms/step - loss: 0.0028\n",
            "Epoch 57/100\n",
            "\u001b[1m27/27\u001b[0m \u001b[32m━━━━━━━━━━━━━━━━━━━━\u001b[0m\u001b[37m\u001b[0m \u001b[1m2s\u001b[0m 61ms/step - loss: 0.0021\n",
            "Epoch 58/100\n",
            "\u001b[1m27/27\u001b[0m \u001b[32m━━━━━━━━━━━━━━━━━━━━\u001b[0m\u001b[37m\u001b[0m \u001b[1m2s\u001b[0m 62ms/step - loss: 0.0016\n",
            "Epoch 59/100\n",
            "\u001b[1m27/27\u001b[0m \u001b[32m━━━━━━━━━━━━━━━━━━━━\u001b[0m\u001b[37m\u001b[0m \u001b[1m2s\u001b[0m 61ms/step - loss: 0.0021\n",
            "Epoch 60/100\n",
            "\u001b[1m27/27\u001b[0m \u001b[32m━━━━━━━━━━━━━━━━━━━━\u001b[0m\u001b[37m\u001b[0m \u001b[1m2s\u001b[0m 60ms/step - loss: 0.0013\n",
            "Epoch 61/100\n",
            "\u001b[1m27/27\u001b[0m \u001b[32m━━━━━━━━━━━━━━━━━━━━\u001b[0m\u001b[37m\u001b[0m \u001b[1m2s\u001b[0m 61ms/step - loss: 0.0019\n",
            "Epoch 62/100\n",
            "\u001b[1m27/27\u001b[0m \u001b[32m━━━━━━━━━━━━━━━━━━━━\u001b[0m\u001b[37m\u001b[0m \u001b[1m2s\u001b[0m 60ms/step - loss: 0.0012\n",
            "Epoch 63/100\n",
            "\u001b[1m27/27\u001b[0m \u001b[32m━━━━━━━━━━━━━━━━━━━━\u001b[0m\u001b[37m\u001b[0m \u001b[1m2s\u001b[0m 61ms/step - loss: 0.0013\n",
            "Epoch 64/100\n",
            "\u001b[1m27/27\u001b[0m \u001b[32m━━━━━━━━━━━━━━━━━━━━\u001b[0m\u001b[37m\u001b[0m \u001b[1m2s\u001b[0m 62ms/step - loss: 0.0013\n",
            "Epoch 65/100\n",
            "\u001b[1m27/27\u001b[0m \u001b[32m━━━━━━━━━━━━━━━━━━━━\u001b[0m\u001b[37m\u001b[0m \u001b[1m2s\u001b[0m 61ms/step - loss: 0.0020\n",
            "Epoch 66/100\n",
            "\u001b[1m27/27\u001b[0m \u001b[32m━━━━━━━━━━━━━━━━━━━━\u001b[0m\u001b[37m\u001b[0m \u001b[1m2s\u001b[0m 61ms/step - loss: 0.0023\n",
            "Epoch 67/100\n",
            "\u001b[1m27/27\u001b[0m \u001b[32m━━━━━━━━━━━━━━━━━━━━\u001b[0m\u001b[37m\u001b[0m \u001b[1m2s\u001b[0m 61ms/step - loss: 0.0020\n",
            "Epoch 68/100\n",
            "\u001b[1m27/27\u001b[0m \u001b[32m━━━━━━━━━━━━━━━━━━━━\u001b[0m\u001b[37m\u001b[0m \u001b[1m2s\u001b[0m 62ms/step - loss: 0.0013\n",
            "Epoch 69/100\n",
            "\u001b[1m27/27\u001b[0m \u001b[32m━━━━━━━━━━━━━━━━━━━━\u001b[0m\u001b[37m\u001b[0m \u001b[1m2s\u001b[0m 61ms/step - loss: 0.0015\n",
            "Epoch 70/100\n",
            "\u001b[1m27/27\u001b[0m \u001b[32m━━━━━━━━━━━━━━━━━━━━\u001b[0m\u001b[37m\u001b[0m \u001b[1m2s\u001b[0m 62ms/step - loss: 0.0013\n",
            "Epoch 71/100\n",
            "\u001b[1m27/27\u001b[0m \u001b[32m━━━━━━━━━━━━━━━━━━━━\u001b[0m\u001b[37m\u001b[0m \u001b[1m2s\u001b[0m 62ms/step - loss: 0.0017\n",
            "Epoch 72/100\n",
            "\u001b[1m27/27\u001b[0m \u001b[32m━━━━━━━━━━━━━━━━━━━━\u001b[0m\u001b[37m\u001b[0m \u001b[1m2s\u001b[0m 61ms/step - loss: 0.0015\n",
            "Epoch 73/100\n",
            "\u001b[1m27/27\u001b[0m \u001b[32m━━━━━━━━━━━━━━━━━━━━\u001b[0m\u001b[37m\u001b[0m \u001b[1m2s\u001b[0m 61ms/step - loss: 0.0014\n",
            "Epoch 74/100\n",
            "\u001b[1m27/27\u001b[0m \u001b[32m━━━━━━━━━━━━━━━━━━━━\u001b[0m\u001b[37m\u001b[0m \u001b[1m2s\u001b[0m 61ms/step - loss: 0.0012\n",
            "Epoch 75/100\n",
            "\u001b[1m27/27\u001b[0m \u001b[32m━━━━━━━━━━━━━━━━━━━━\u001b[0m\u001b[37m\u001b[0m \u001b[1m2s\u001b[0m 61ms/step - loss: 0.0014\n",
            "Epoch 76/100\n",
            "\u001b[1m27/27\u001b[0m \u001b[32m━━━━━━━━━━━━━━━━━━━━\u001b[0m\u001b[37m\u001b[0m \u001b[1m2s\u001b[0m 61ms/step - loss: 0.0018\n",
            "Epoch 77/100\n",
            "\u001b[1m27/27\u001b[0m \u001b[32m━━━━━━━━━━━━━━━━━━━━\u001b[0m\u001b[37m\u001b[0m \u001b[1m2s\u001b[0m 65ms/step - loss: 0.0013\n",
            "Epoch 78/100\n",
            "\u001b[1m27/27\u001b[0m \u001b[32m━━━━━━━━━━━━━━━━━━━━\u001b[0m\u001b[37m\u001b[0m \u001b[1m2s\u001b[0m 64ms/step - loss: 0.0013\n",
            "Epoch 79/100\n",
            "\u001b[1m27/27\u001b[0m \u001b[32m━━━━━━━━━━━━━━━━━━━━\u001b[0m\u001b[37m\u001b[0m \u001b[1m2s\u001b[0m 61ms/step - loss: 0.0012\n",
            "Epoch 80/100\n",
            "\u001b[1m27/27\u001b[0m \u001b[32m━━━━━━━━━━━━━━━━━━━━\u001b[0m\u001b[37m\u001b[0m \u001b[1m2s\u001b[0m 62ms/step - loss: 0.0012\n",
            "Epoch 81/100\n"
          ]
        },
        {
          "name": "stdout",
          "output_type": "stream",
          "text": [
            "\u001b[1m27/27\u001b[0m \u001b[32m━━━━━━━━━━━━━━━━━━━━\u001b[0m\u001b[37m\u001b[0m \u001b[1m2s\u001b[0m 62ms/step - loss: 0.0011\n",
            "Epoch 82/100\n",
            "\u001b[1m27/27\u001b[0m \u001b[32m━━━━━━━━━━━━━━━━━━━━\u001b[0m\u001b[37m\u001b[0m \u001b[1m2s\u001b[0m 62ms/step - loss: 0.0015\n",
            "Epoch 83/100\n",
            "\u001b[1m27/27\u001b[0m \u001b[32m━━━━━━━━━━━━━━━━━━━━\u001b[0m\u001b[37m\u001b[0m \u001b[1m2s\u001b[0m 61ms/step - loss: 0.0016\n",
            "Epoch 84/100\n",
            "\u001b[1m27/27\u001b[0m \u001b[32m━━━━━━━━━━━━━━━━━━━━\u001b[0m\u001b[37m\u001b[0m \u001b[1m2s\u001b[0m 61ms/step - loss: 0.0013\n",
            "Epoch 85/100\n",
            "\u001b[1m27/27\u001b[0m \u001b[32m━━━━━━━━━━━━━━━━━━━━\u001b[0m\u001b[37m\u001b[0m \u001b[1m2s\u001b[0m 61ms/step - loss: 0.0021\n",
            "Epoch 86/100\n",
            "\u001b[1m27/27\u001b[0m \u001b[32m━━━━━━━━━━━━━━━━━━━━\u001b[0m\u001b[37m\u001b[0m \u001b[1m2s\u001b[0m 61ms/step - loss: 0.0022\n",
            "Epoch 87/100\n",
            "\u001b[1m27/27\u001b[0m \u001b[32m━━━━━━━━━━━━━━━━━━━━\u001b[0m\u001b[37m\u001b[0m \u001b[1m2s\u001b[0m 61ms/step - loss: 0.0017\n",
            "Epoch 88/100\n",
            "\u001b[1m27/27\u001b[0m \u001b[32m━━━━━━━━━━━━━━━━━━━━\u001b[0m\u001b[37m\u001b[0m \u001b[1m2s\u001b[0m 61ms/step - loss: 0.0017\n",
            "Epoch 89/100\n",
            "\u001b[1m27/27\u001b[0m \u001b[32m━━━━━━━━━━━━━━━━━━━━\u001b[0m\u001b[37m\u001b[0m \u001b[1m2s\u001b[0m 62ms/step - loss: 0.0014\n",
            "Epoch 90/100\n",
            "\u001b[1m27/27\u001b[0m \u001b[32m━━━━━━━━━━━━━━━━━━━━\u001b[0m\u001b[37m\u001b[0m \u001b[1m2s\u001b[0m 61ms/step - loss: 0.0012\n",
            "Epoch 91/100\n",
            "\u001b[1m27/27\u001b[0m \u001b[32m━━━━━━━━━━━━━━━━━━━━\u001b[0m\u001b[37m\u001b[0m \u001b[1m2s\u001b[0m 62ms/step - loss: 0.0014\n",
            "Epoch 92/100\n",
            "\u001b[1m27/27\u001b[0m \u001b[32m━━━━━━━━━━━━━━━━━━━━\u001b[0m\u001b[37m\u001b[0m \u001b[1m2s\u001b[0m 61ms/step - loss: 0.0012\n",
            "Epoch 93/100\n",
            "\u001b[1m27/27\u001b[0m \u001b[32m━━━━━━━━━━━━━━━━━━━━\u001b[0m\u001b[37m\u001b[0m \u001b[1m2s\u001b[0m 61ms/step - loss: 0.0012\n",
            "Epoch 94/100\n",
            "\u001b[1m27/27\u001b[0m \u001b[32m━━━━━━━━━━━━━━━━━━━━\u001b[0m\u001b[37m\u001b[0m \u001b[1m2s\u001b[0m 61ms/step - loss: 0.0013\n",
            "Epoch 95/100\n",
            "\u001b[1m27/27\u001b[0m \u001b[32m━━━━━━━━━━━━━━━━━━━━\u001b[0m\u001b[37m\u001b[0m \u001b[1m2s\u001b[0m 61ms/step - loss: 0.0016\n",
            "Epoch 96/100\n",
            "\u001b[1m27/27\u001b[0m \u001b[32m━━━━━━━━━━━━━━━━━━━━\u001b[0m\u001b[37m\u001b[0m \u001b[1m2s\u001b[0m 61ms/step - loss: 0.0012\n",
            "Epoch 97/100\n",
            "\u001b[1m27/27\u001b[0m \u001b[32m━━━━━━━━━━━━━━━━━━━━\u001b[0m\u001b[37m\u001b[0m \u001b[1m2s\u001b[0m 61ms/step - loss: 0.0013\n",
            "Epoch 98/100\n",
            "\u001b[1m27/27\u001b[0m \u001b[32m━━━━━━━━━━━━━━━━━━━━\u001b[0m\u001b[37m\u001b[0m \u001b[1m2s\u001b[0m 61ms/step - loss: 0.0016\n",
            "Epoch 99/100\n",
            "\u001b[1m27/27\u001b[0m \u001b[32m━━━━━━━━━━━━━━━━━━━━\u001b[0m\u001b[37m\u001b[0m \u001b[1m2s\u001b[0m 61ms/step - loss: 0.0013\n",
            "Epoch 100/100\n",
            "\u001b[1m27/27\u001b[0m \u001b[32m━━━━━━━━━━━━━━━━━━━━\u001b[0m\u001b[37m\u001b[0m \u001b[1m2s\u001b[0m 62ms/step - loss: 0.0011\n"
          ]
        },
        {
          "data": {
            "text/plain": [
              "<keras.src.callbacks.history.History at 0x7f32045a5c00>"
            ]
          },
          "execution_count": 58,
          "metadata": {},
          "output_type": "execute_result"
        }
      ],
      "source": [
        "# Train/Fit LSTM model\n",
        "# In forecasting, we don't validate, only FORECAST\n",
        "# So, not need Earlystop; Not need validation_generator\n",
        "model.fit(forecast_tsGenerator, epochs = 100)"
      ]
    },
    {
      "cell_type": "markdown",
      "id": "fab3de52-33d5-4036-947d-71fc80731fc4",
      "metadata": {
        "id": "fab3de52-33d5-4036-947d-71fc80731fc4"
      },
      "source": [
        "## Time Series Forecast Using LSTM Neural Network:\n"
      ]
    },
    {
      "cell_type": "code",
      "execution_count": null,
      "id": "3eecab28-a3e6-4e63-a656-e67ff2a93906",
      "metadata": {
        "tags": [],
        "id": "3eecab28-a3e6-4e63-a656-e67ff2a93906",
        "outputId": "1861aca2-744f-43bb-8e64-4d7842c2d871"
      },
      "outputs": [
        {
          "name": "stdout",
          "output_type": "stream",
          "text": [
            "\u001b[1m1/1\u001b[0m \u001b[32m━━━━━━━━━━━━━━━━━━━━\u001b[0m\u001b[37m\u001b[0m \u001b[1m0s\u001b[0m 367ms/step\n",
            "\u001b[1m1/1\u001b[0m \u001b[32m━━━━━━━━━━━━━━━━━━━━\u001b[0m\u001b[37m\u001b[0m \u001b[1m0s\u001b[0m 30ms/step\n",
            "\u001b[1m1/1\u001b[0m \u001b[32m━━━━━━━━━━━━━━━━━━━━\u001b[0m\u001b[37m\u001b[0m \u001b[1m0s\u001b[0m 27ms/step\n",
            "\u001b[1m1/1\u001b[0m \u001b[32m━━━━━━━━━━━━━━━━━━━━\u001b[0m\u001b[37m\u001b[0m \u001b[1m0s\u001b[0m 27ms/step\n",
            "\u001b[1m1/1\u001b[0m \u001b[32m━━━━━━━━━━━━━━━━━━━━\u001b[0m\u001b[37m\u001b[0m \u001b[1m0s\u001b[0m 25ms/step\n",
            "\u001b[1m1/1\u001b[0m \u001b[32m━━━━━━━━━━━━━━━━━━━━\u001b[0m\u001b[37m\u001b[0m \u001b[1m0s\u001b[0m 26ms/step\n",
            "\u001b[1m1/1\u001b[0m \u001b[32m━━━━━━━━━━━━━━━━━━━━\u001b[0m\u001b[37m\u001b[0m \u001b[1m0s\u001b[0m 25ms/step\n",
            "\u001b[1m1/1\u001b[0m \u001b[32m━━━━━━━━━━━━━━━━━━━━\u001b[0m\u001b[37m\u001b[0m \u001b[1m0s\u001b[0m 25ms/step\n",
            "\u001b[1m1/1\u001b[0m \u001b[32m━━━━━━━━━━━━━━━━━━━━\u001b[0m\u001b[37m\u001b[0m \u001b[1m0s\u001b[0m 25ms/step\n",
            "\u001b[1m1/1\u001b[0m \u001b[32m━━━━━━━━━━━━━━━━━━━━\u001b[0m\u001b[37m\u001b[0m \u001b[1m0s\u001b[0m 25ms/step\n",
            "\u001b[1m1/1\u001b[0m \u001b[32m━━━━━━━━━━━━━━━━━━━━\u001b[0m\u001b[37m\u001b[0m \u001b[1m0s\u001b[0m 25ms/step\n",
            "\u001b[1m1/1\u001b[0m \u001b[32m━━━━━━━━━━━━━━━━━━━━\u001b[0m\u001b[37m\u001b[0m \u001b[1m0s\u001b[0m 25ms/step\n",
            "\u001b[1m1/1\u001b[0m \u001b[32m━━━━━━━━━━━━━━━━━━━━\u001b[0m\u001b[37m\u001b[0m \u001b[1m0s\u001b[0m 25ms/step\n",
            "\u001b[1m1/1\u001b[0m \u001b[32m━━━━━━━━━━━━━━━━━━━━\u001b[0m\u001b[37m\u001b[0m \u001b[1m0s\u001b[0m 25ms/step\n",
            "\u001b[1m1/1\u001b[0m \u001b[32m━━━━━━━━━━━━━━━━━━━━\u001b[0m\u001b[37m\u001b[0m \u001b[1m0s\u001b[0m 25ms/step\n",
            "\u001b[1m1/1\u001b[0m \u001b[32m━━━━━━━━━━━━━━━━━━━━\u001b[0m\u001b[37m\u001b[0m \u001b[1m0s\u001b[0m 25ms/step\n",
            "\u001b[1m1/1\u001b[0m \u001b[32m━━━━━━━━━━━━━━━━━━━━\u001b[0m\u001b[37m\u001b[0m \u001b[1m0s\u001b[0m 25ms/step\n",
            "\u001b[1m1/1\u001b[0m \u001b[32m━━━━━━━━━━━━━━━━━━━━\u001b[0m\u001b[37m\u001b[0m \u001b[1m0s\u001b[0m 26ms/step\n",
            "\u001b[1m1/1\u001b[0m \u001b[32m━━━━━━━━━━━━━━━━━━━━\u001b[0m\u001b[37m\u001b[0m \u001b[1m0s\u001b[0m 25ms/step\n",
            "\u001b[1m1/1\u001b[0m \u001b[32m━━━━━━━━━━━━━━━━━━━━\u001b[0m\u001b[37m\u001b[0m \u001b[1m0s\u001b[0m 26ms/step\n",
            "\u001b[1m1/1\u001b[0m \u001b[32m━━━━━━━━━━━━━━━━━━━━\u001b[0m\u001b[37m\u001b[0m \u001b[1m0s\u001b[0m 26ms/step\n",
            "\u001b[1m1/1\u001b[0m \u001b[32m━━━━━━━━━━━━━━━━━━━━\u001b[0m\u001b[37m\u001b[0m \u001b[1m0s\u001b[0m 25ms/step\n",
            "\u001b[1m1/1\u001b[0m \u001b[32m━━━━━━━━━━━━━━━━━━━━\u001b[0m\u001b[37m\u001b[0m \u001b[1m0s\u001b[0m 26ms/step\n",
            "\u001b[1m1/1\u001b[0m \u001b[32m━━━━━━━━━━━━━━━━━━━━\u001b[0m\u001b[37m\u001b[0m \u001b[1m0s\u001b[0m 25ms/step\n",
            "\u001b[1m1/1\u001b[0m \u001b[32m━━━━━━━━━━━━━━━━━━━━\u001b[0m\u001b[37m\u001b[0m \u001b[1m0s\u001b[0m 25ms/step\n",
            "\u001b[1m1/1\u001b[0m \u001b[32m━━━━━━━━━━━━━━━━━━━━\u001b[0m\u001b[37m\u001b[0m \u001b[1m0s\u001b[0m 25ms/step\n",
            "\u001b[1m1/1\u001b[0m \u001b[32m━━━━━━━━━━━━━━━━━━━━\u001b[0m\u001b[37m\u001b[0m \u001b[1m0s\u001b[0m 25ms/step\n",
            "\u001b[1m1/1\u001b[0m \u001b[32m━━━━━━━━━━━━━━━━━━━━\u001b[0m\u001b[37m\u001b[0m \u001b[1m0s\u001b[0m 25ms/step\n",
            "\u001b[1m1/1\u001b[0m \u001b[32m━━━━━━━━━━━━━━━━━━━━\u001b[0m\u001b[37m\u001b[0m \u001b[1m0s\u001b[0m 25ms/step\n",
            "\u001b[1m1/1\u001b[0m \u001b[32m━━━━━━━━━━━━━━━━━━━━\u001b[0m\u001b[37m\u001b[0m \u001b[1m0s\u001b[0m 26ms/step\n",
            "\u001b[1m1/1\u001b[0m \u001b[32m━━━━━━━━━━━━━━━━━━━━\u001b[0m\u001b[37m\u001b[0m \u001b[1m0s\u001b[0m 26ms/step\n",
            "\u001b[1m1/1\u001b[0m \u001b[32m━━━━━━━━━━━━━━━━━━━━\u001b[0m\u001b[37m\u001b[0m \u001b[1m0s\u001b[0m 26ms/step\n",
            "\u001b[1m1/1\u001b[0m \u001b[32m━━━━━━━━━━━━━━━━━━━━\u001b[0m\u001b[37m\u001b[0m \u001b[1m0s\u001b[0m 25ms/step\n",
            "\u001b[1m1/1\u001b[0m \u001b[32m━━━━━━━━━━━━━━━━━━━━\u001b[0m\u001b[37m\u001b[0m \u001b[1m0s\u001b[0m 25ms/step\n",
            "\u001b[1m1/1\u001b[0m \u001b[32m━━━━━━━━━━━━━━━━━━━━\u001b[0m\u001b[37m\u001b[0m \u001b[1m0s\u001b[0m 25ms/step\n",
            "\u001b[1m1/1\u001b[0m \u001b[32m━━━━━━━━━━━━━━━━━━━━\u001b[0m\u001b[37m\u001b[0m \u001b[1m0s\u001b[0m 25ms/step\n",
            "\u001b[1m1/1\u001b[0m \u001b[32m━━━━━━━━━━━━━━━━━━━━\u001b[0m\u001b[37m\u001b[0m \u001b[1m0s\u001b[0m 26ms/step\n",
            "\u001b[1m1/1\u001b[0m \u001b[32m━━━━━━━━━━━━━━━━━━━━\u001b[0m\u001b[37m\u001b[0m \u001b[1m0s\u001b[0m 25ms/step\n",
            "\u001b[1m1/1\u001b[0m \u001b[32m━━━━━━━━━━━━━━━━━━━━\u001b[0m\u001b[37m\u001b[0m \u001b[1m0s\u001b[0m 25ms/step\n",
            "\u001b[1m1/1\u001b[0m \u001b[32m━━━━━━━━━━━━━━━━━━━━\u001b[0m\u001b[37m\u001b[0m \u001b[1m0s\u001b[0m 24ms/step\n",
            "\u001b[1m1/1\u001b[0m \u001b[32m━━━━━━━━━━━━━━━━━━━━\u001b[0m\u001b[37m\u001b[0m \u001b[1m0s\u001b[0m 25ms/step\n",
            "\u001b[1m1/1\u001b[0m \u001b[32m━━━━━━━━━━━━━━━━━━━━\u001b[0m\u001b[37m\u001b[0m \u001b[1m0s\u001b[0m 26ms/step\n",
            "\u001b[1m1/1\u001b[0m \u001b[32m━━━━━━━━━━━━━━━━━━━━\u001b[0m\u001b[37m\u001b[0m \u001b[1m0s\u001b[0m 26ms/step\n",
            "\u001b[1m1/1\u001b[0m \u001b[32m━━━━━━━━━━━━━━━━━━━━\u001b[0m\u001b[37m\u001b[0m \u001b[1m0s\u001b[0m 25ms/step\n",
            "\u001b[1m1/1\u001b[0m \u001b[32m━━━━━━━━━━━━━━━━━━━━\u001b[0m\u001b[37m\u001b[0m \u001b[1m0s\u001b[0m 25ms/step\n",
            "\u001b[1m1/1\u001b[0m \u001b[32m━━━━━━━━━━━━━━━━━━━━\u001b[0m\u001b[37m\u001b[0m \u001b[1m0s\u001b[0m 25ms/step\n",
            "\u001b[1m1/1\u001b[0m \u001b[32m━━━━━━━━━━━━━━━━━━━━\u001b[0m\u001b[37m\u001b[0m \u001b[1m0s\u001b[0m 25ms/step\n",
            "\u001b[1m1/1\u001b[0m \u001b[32m━━━━━━━━━━━━━━━━━━━━\u001b[0m\u001b[37m\u001b[0m \u001b[1m0s\u001b[0m 25ms/step\n",
            "\u001b[1m1/1\u001b[0m \u001b[32m━━━━━━━━━━━━━━━━━━━━\u001b[0m\u001b[37m\u001b[0m \u001b[1m0s\u001b[0m 25ms/step\n",
            "\u001b[1m1/1\u001b[0m \u001b[32m━━━━━━━━━━━━━━━━━━━━\u001b[0m\u001b[37m\u001b[0m \u001b[1m0s\u001b[0m 25ms/step\n",
            "\u001b[1m1/1\u001b[0m \u001b[32m━━━━━━━━━━━━━━━━━━━━\u001b[0m\u001b[37m\u001b[0m \u001b[1m0s\u001b[0m 25ms/step\n",
            "\u001b[1m1/1\u001b[0m \u001b[32m━━━━━━━━━━━━━━━━━━━━\u001b[0m\u001b[37m\u001b[0m \u001b[1m0s\u001b[0m 25ms/step\n",
            "\u001b[1m1/1\u001b[0m \u001b[32m━━━━━━━━━━━━━━━━━━━━\u001b[0m\u001b[37m\u001b[0m \u001b[1m0s\u001b[0m 26ms/step\n",
            "\u001b[1m1/1\u001b[0m \u001b[32m━━━━━━━━━━━━━━━━━━━━\u001b[0m\u001b[37m\u001b[0m \u001b[1m0s\u001b[0m 26ms/step\n",
            "\u001b[1m1/1\u001b[0m \u001b[32m━━━━━━━━━━━━━━━━━━━━\u001b[0m\u001b[37m\u001b[0m \u001b[1m0s\u001b[0m 25ms/step\n",
            "\u001b[1m1/1\u001b[0m \u001b[32m━━━━━━━━━━━━━━━━━━━━\u001b[0m\u001b[37m\u001b[0m \u001b[1m0s\u001b[0m 25ms/step\n",
            "\u001b[1m1/1\u001b[0m \u001b[32m━━━━━━━━━━━━━━━━━━━━\u001b[0m\u001b[37m\u001b[0m \u001b[1m0s\u001b[0m 25ms/step\n",
            "\u001b[1m1/1\u001b[0m \u001b[32m━━━━━━━━━━━━━━━━━━━━\u001b[0m\u001b[37m\u001b[0m \u001b[1m0s\u001b[0m 25ms/step\n",
            "\u001b[1m1/1\u001b[0m \u001b[32m━━━━━━━━━━━━━━━━━━━━\u001b[0m\u001b[37m\u001b[0m \u001b[1m0s\u001b[0m 26ms/step\n",
            "\u001b[1m1/1\u001b[0m \u001b[32m━━━━━━━━━━━━━━━━━━━━\u001b[0m\u001b[37m\u001b[0m \u001b[1m0s\u001b[0m 25ms/step\n"
          ]
        }
      ],
      "source": [
        "forecast = []\n",
        "# Set periods with the time span of forecasting\n",
        "# Let's forecast for the next 60 business days\n",
        "periods = 60\n",
        "first_eval_batch = normalized_full_data[-length60:]\n",
        "current_batch = first_eval_batch.reshape((1, length60, n_features))\n",
        "for i in range(periods):\n",
        "    # get prediction 1 time stamp ahead ([0] is for grabbing just the number instead of [array])\n",
        "    current_pred = model.predict(current_batch)[0]\n",
        "    #store prediction\n",
        "    forecast.append(current_pred)\n",
        "    # update batch to now include prediction and drop first value\n",
        "    current_batch = np.append(current_batch[:,1:,:],[[current_pred]],axis=1)\n"
      ]
    },
    {
      "cell_type": "markdown",
      "id": "6467874b-9daa-4e9b-a3e0-5788c4900e8a",
      "metadata": {
        "id": "6467874b-9daa-4e9b-a3e0-5788c4900e8a"
      },
      "source": [
        "### Inverse to Transform Normalized Data Back into True Values"
      ]
    },
    {
      "cell_type": "code",
      "execution_count": null,
      "id": "b11bdf97-ade2-45fc-acee-19e8ea14f2a9",
      "metadata": {
        "tags": [],
        "id": "b11bdf97-ade2-45fc-acee-19e8ea14f2a9",
        "outputId": "44e20bcd-04a3-46bb-a9a0-369a95fbcae3"
      },
      "outputs": [
        {
          "data": {
            "text/plain": [
              "array([[221.96295829],\n",
              "       [219.90795748],\n",
              "       [217.66120037],\n",
              "       [215.59724651],\n",
              "       [213.77155116],\n",
              "       [212.20295244],\n",
              "       [210.88119812],\n",
              "       [209.78092592],\n",
              "       [208.89030201],\n",
              "       [208.18611764],\n",
              "       [207.6276463 ],\n",
              "       [207.17770601],\n",
              "       [206.80294171],\n",
              "       [206.47503265],\n",
              "       [206.17189275],\n",
              "       [205.87769885],\n",
              "       [205.58086423],\n",
              "       [205.27410216],\n",
              "       [204.95378343],\n",
              "       [204.61906779],\n",
              "       [204.27129679],\n",
              "       [203.9131041 ],\n",
              "       [203.54797774],\n",
              "       [203.17961755],\n",
              "       [202.81197755],\n",
              "       [202.4487929 ],\n",
              "       [202.09297969],\n",
              "       [201.74671264],\n",
              "       [201.41150274],\n",
              "       [201.0881973 ],\n",
              "       [200.77703638],\n",
              "       [200.47788582],\n",
              "       [200.19023725],\n",
              "       [199.91337047],\n",
              "       [199.64646644],\n",
              "       [199.38866373],\n",
              "       [199.13909387],\n",
              "       [198.89935966],\n",
              "       [198.6705414 ],\n",
              "       [198.45189064],\n",
              "       [198.24276486],\n",
              "       [198.04221085],\n",
              "       [197.84928952],\n",
              "       [197.66313241],\n",
              "       [197.48301225],\n",
              "       [197.30830771],\n",
              "       [197.13853157],\n",
              "       [196.97329551],\n",
              "       [196.81585454],\n",
              "       [196.66423164],\n",
              "       [196.51791137],\n",
              "       [196.37633594],\n",
              "       [196.23894755],\n",
              "       [196.10521663],\n",
              "       [195.97469836],\n",
              "       [195.84706088],\n",
              "       [195.72207119],\n",
              "       [195.59960926],\n",
              "       [195.47964683],\n",
              "       [195.3622051 ]])"
            ]
          },
          "execution_count": 60,
          "metadata": {},
          "output_type": "execute_result"
        }
      ],
      "source": [
        "forecast = full_scaler.inverse_transform(forecast)\n",
        "forecast"
      ]
    },
    {
      "cell_type": "code",
      "execution_count": null,
      "id": "5ae7eb57-7c31-4745-b71a-7fae2f6db4c6",
      "metadata": {
        "tags": [],
        "id": "5ae7eb57-7c31-4745-b71a-7fae2f6db4c6",
        "outputId": "9325f1bf-d4d4-4073-d7d3-4b592e2353f6"
      },
      "outputs": [
        {
          "data": {
            "text/html": [
              "<div>\n",
              "<style scoped>\n",
              "    .dataframe tbody tr th:only-of-type {\n",
              "        vertical-align: middle;\n",
              "    }\n",
              "\n",
              "    .dataframe tbody tr th {\n",
              "        vertical-align: top;\n",
              "    }\n",
              "\n",
              "    .dataframe thead th {\n",
              "        text-align: right;\n",
              "    }\n",
              "</style>\n",
              "<table border=\"1\" class=\"dataframe\">\n",
              "  <thead>\n",
              "    <tr style=\"text-align: right;\">\n",
              "      <th></th>\n",
              "      <th>Close</th>\n",
              "    </tr>\n",
              "  </thead>\n",
              "  <tbody>\n",
              "    <tr>\n",
              "      <th>0</th>\n",
              "      <td>129.410004</td>\n",
              "    </tr>\n",
              "    <tr>\n",
              "      <th>1</th>\n",
              "      <td>131.009995</td>\n",
              "    </tr>\n",
              "    <tr>\n",
              "      <th>2</th>\n",
              "      <td>126.599998</td>\n",
              "    </tr>\n",
              "    <tr>\n",
              "      <th>3</th>\n",
              "      <td>130.919998</td>\n",
              "    </tr>\n",
              "    <tr>\n",
              "      <th>4</th>\n",
              "      <td>132.050003</td>\n",
              "    </tr>\n",
              "    <tr>\n",
              "      <th>...</th>\n",
              "      <td>...</td>\n",
              "    </tr>\n",
              "    <tr>\n",
              "      <th>909</th>\n",
              "      <td>224.720001</td>\n",
              "    </tr>\n",
              "    <tr>\n",
              "      <th>910</th>\n",
              "      <td>226.050003</td>\n",
              "    </tr>\n",
              "    <tr>\n",
              "      <th>911</th>\n",
              "      <td>225.889999</td>\n",
              "    </tr>\n",
              "    <tr>\n",
              "      <th>912</th>\n",
              "      <td>226.509995</td>\n",
              "    </tr>\n",
              "    <tr>\n",
              "      <th>913</th>\n",
              "      <td>225.901199</td>\n",
              "    </tr>\n",
              "  </tbody>\n",
              "</table>\n",
              "<p>914 rows × 1 columns</p>\n",
              "</div>"
            ],
            "text/plain": [
              "          Close\n",
              "0    129.410004\n",
              "1    131.009995\n",
              "2    126.599998\n",
              "3    130.919998\n",
              "4    132.050003\n",
              "..          ...\n",
              "909  224.720001\n",
              "910  226.050003\n",
              "911  225.889999\n",
              "912  226.509995\n",
              "913  225.901199\n",
              "\n",
              "[914 rows x 1 columns]"
            ]
          },
          "execution_count": 61,
          "metadata": {},
          "output_type": "execute_result"
        }
      ],
      "source": [
        "df"
      ]
    },
    {
      "cell_type": "markdown",
      "id": "634183ff-d833-40bf-9f8c-5c901ecb9777",
      "metadata": {
        "id": "634183ff-d833-40bf-9f8c-5c901ecb9777"
      },
      "source": [
        "## Creating new timestamp index with pandas"
      ]
    },
    {
      "cell_type": "code",
      "execution_count": null,
      "id": "b2b78456-dadb-4ae2-8639-c571e0cb354f",
      "metadata": {
        "tags": [],
        "id": "b2b78456-dadb-4ae2-8639-c571e0cb354f"
      },
      "outputs": [],
      "source": [
        "# Calculate forecast index\n",
        "forecast_index = np.arange(914, 974, step=1)"
      ]
    },
    {
      "cell_type": "code",
      "execution_count": null,
      "id": "2acfcc74-4807-4ecb-b72c-ef902519f116",
      "metadata": {
        "tags": [],
        "id": "2acfcc74-4807-4ecb-b72c-ef902519f116"
      },
      "outputs": [],
      "source": [
        "forecast_df=pd.DataFrame(data=forecast, index=forecast_index, columns=['Forecast'])"
      ]
    },
    {
      "cell_type": "code",
      "execution_count": null,
      "id": "69a56726-64d9-4c73-b335-15c2c8266d7c",
      "metadata": {
        "tags": [],
        "id": "69a56726-64d9-4c73-b335-15c2c8266d7c",
        "outputId": "c44e19aa-b0ac-4bcf-dfc0-3a304bd05749"
      },
      "outputs": [
        {
          "data": {
            "text/html": [
              "<div>\n",
              "<style scoped>\n",
              "    .dataframe tbody tr th:only-of-type {\n",
              "        vertical-align: middle;\n",
              "    }\n",
              "\n",
              "    .dataframe tbody tr th {\n",
              "        vertical-align: top;\n",
              "    }\n",
              "\n",
              "    .dataframe thead th {\n",
              "        text-align: right;\n",
              "    }\n",
              "</style>\n",
              "<table border=\"1\" class=\"dataframe\">\n",
              "  <thead>\n",
              "    <tr style=\"text-align: right;\">\n",
              "      <th></th>\n",
              "      <th>Forecast</th>\n",
              "    </tr>\n",
              "  </thead>\n",
              "  <tbody>\n",
              "    <tr>\n",
              "      <th>914</th>\n",
              "      <td>221.962958</td>\n",
              "    </tr>\n",
              "    <tr>\n",
              "      <th>915</th>\n",
              "      <td>219.907957</td>\n",
              "    </tr>\n",
              "    <tr>\n",
              "      <th>916</th>\n",
              "      <td>217.661200</td>\n",
              "    </tr>\n",
              "    <tr>\n",
              "      <th>917</th>\n",
              "      <td>215.597247</td>\n",
              "    </tr>\n",
              "    <tr>\n",
              "      <th>918</th>\n",
              "      <td>213.771551</td>\n",
              "    </tr>\n",
              "    <tr>\n",
              "      <th>919</th>\n",
              "      <td>212.202952</td>\n",
              "    </tr>\n",
              "    <tr>\n",
              "      <th>920</th>\n",
              "      <td>210.881198</td>\n",
              "    </tr>\n",
              "    <tr>\n",
              "      <th>921</th>\n",
              "      <td>209.780926</td>\n",
              "    </tr>\n",
              "    <tr>\n",
              "      <th>922</th>\n",
              "      <td>208.890302</td>\n",
              "    </tr>\n",
              "    <tr>\n",
              "      <th>923</th>\n",
              "      <td>208.186118</td>\n",
              "    </tr>\n",
              "    <tr>\n",
              "      <th>924</th>\n",
              "      <td>207.627646</td>\n",
              "    </tr>\n",
              "    <tr>\n",
              "      <th>925</th>\n",
              "      <td>207.177706</td>\n",
              "    </tr>\n",
              "    <tr>\n",
              "      <th>926</th>\n",
              "      <td>206.802942</td>\n",
              "    </tr>\n",
              "    <tr>\n",
              "      <th>927</th>\n",
              "      <td>206.475033</td>\n",
              "    </tr>\n",
              "    <tr>\n",
              "      <th>928</th>\n",
              "      <td>206.171893</td>\n",
              "    </tr>\n",
              "    <tr>\n",
              "      <th>929</th>\n",
              "      <td>205.877699</td>\n",
              "    </tr>\n",
              "    <tr>\n",
              "      <th>930</th>\n",
              "      <td>205.580864</td>\n",
              "    </tr>\n",
              "    <tr>\n",
              "      <th>931</th>\n",
              "      <td>205.274102</td>\n",
              "    </tr>\n",
              "    <tr>\n",
              "      <th>932</th>\n",
              "      <td>204.953783</td>\n",
              "    </tr>\n",
              "    <tr>\n",
              "      <th>933</th>\n",
              "      <td>204.619068</td>\n",
              "    </tr>\n",
              "    <tr>\n",
              "      <th>934</th>\n",
              "      <td>204.271297</td>\n",
              "    </tr>\n",
              "    <tr>\n",
              "      <th>935</th>\n",
              "      <td>203.913104</td>\n",
              "    </tr>\n",
              "    <tr>\n",
              "      <th>936</th>\n",
              "      <td>203.547978</td>\n",
              "    </tr>\n",
              "    <tr>\n",
              "      <th>937</th>\n",
              "      <td>203.179618</td>\n",
              "    </tr>\n",
              "    <tr>\n",
              "      <th>938</th>\n",
              "      <td>202.811978</td>\n",
              "    </tr>\n",
              "    <tr>\n",
              "      <th>939</th>\n",
              "      <td>202.448793</td>\n",
              "    </tr>\n",
              "    <tr>\n",
              "      <th>940</th>\n",
              "      <td>202.092980</td>\n",
              "    </tr>\n",
              "    <tr>\n",
              "      <th>941</th>\n",
              "      <td>201.746713</td>\n",
              "    </tr>\n",
              "    <tr>\n",
              "      <th>942</th>\n",
              "      <td>201.411503</td>\n",
              "    </tr>\n",
              "    <tr>\n",
              "      <th>943</th>\n",
              "      <td>201.088197</td>\n",
              "    </tr>\n",
              "    <tr>\n",
              "      <th>944</th>\n",
              "      <td>200.777036</td>\n",
              "    </tr>\n",
              "    <tr>\n",
              "      <th>945</th>\n",
              "      <td>200.477886</td>\n",
              "    </tr>\n",
              "    <tr>\n",
              "      <th>946</th>\n",
              "      <td>200.190237</td>\n",
              "    </tr>\n",
              "    <tr>\n",
              "      <th>947</th>\n",
              "      <td>199.913370</td>\n",
              "    </tr>\n",
              "    <tr>\n",
              "      <th>948</th>\n",
              "      <td>199.646466</td>\n",
              "    </tr>\n",
              "    <tr>\n",
              "      <th>949</th>\n",
              "      <td>199.388664</td>\n",
              "    </tr>\n",
              "    <tr>\n",
              "      <th>950</th>\n",
              "      <td>199.139094</td>\n",
              "    </tr>\n",
              "    <tr>\n",
              "      <th>951</th>\n",
              "      <td>198.899360</td>\n",
              "    </tr>\n",
              "    <tr>\n",
              "      <th>952</th>\n",
              "      <td>198.670541</td>\n",
              "    </tr>\n",
              "    <tr>\n",
              "      <th>953</th>\n",
              "      <td>198.451891</td>\n",
              "    </tr>\n",
              "    <tr>\n",
              "      <th>954</th>\n",
              "      <td>198.242765</td>\n",
              "    </tr>\n",
              "    <tr>\n",
              "      <th>955</th>\n",
              "      <td>198.042211</td>\n",
              "    </tr>\n",
              "    <tr>\n",
              "      <th>956</th>\n",
              "      <td>197.849290</td>\n",
              "    </tr>\n",
              "    <tr>\n",
              "      <th>957</th>\n",
              "      <td>197.663132</td>\n",
              "    </tr>\n",
              "    <tr>\n",
              "      <th>958</th>\n",
              "      <td>197.483012</td>\n",
              "    </tr>\n",
              "    <tr>\n",
              "      <th>959</th>\n",
              "      <td>197.308308</td>\n",
              "    </tr>\n",
              "    <tr>\n",
              "      <th>960</th>\n",
              "      <td>197.138532</td>\n",
              "    </tr>\n",
              "    <tr>\n",
              "      <th>961</th>\n",
              "      <td>196.973296</td>\n",
              "    </tr>\n",
              "    <tr>\n",
              "      <th>962</th>\n",
              "      <td>196.815855</td>\n",
              "    </tr>\n",
              "    <tr>\n",
              "      <th>963</th>\n",
              "      <td>196.664232</td>\n",
              "    </tr>\n",
              "    <tr>\n",
              "      <th>964</th>\n",
              "      <td>196.517911</td>\n",
              "    </tr>\n",
              "    <tr>\n",
              "      <th>965</th>\n",
              "      <td>196.376336</td>\n",
              "    </tr>\n",
              "    <tr>\n",
              "      <th>966</th>\n",
              "      <td>196.238948</td>\n",
              "    </tr>\n",
              "    <tr>\n",
              "      <th>967</th>\n",
              "      <td>196.105217</td>\n",
              "    </tr>\n",
              "    <tr>\n",
              "      <th>968</th>\n",
              "      <td>195.974698</td>\n",
              "    </tr>\n",
              "    <tr>\n",
              "      <th>969</th>\n",
              "      <td>195.847061</td>\n",
              "    </tr>\n",
              "    <tr>\n",
              "      <th>970</th>\n",
              "      <td>195.722071</td>\n",
              "    </tr>\n",
              "    <tr>\n",
              "      <th>971</th>\n",
              "      <td>195.599609</td>\n",
              "    </tr>\n",
              "    <tr>\n",
              "      <th>972</th>\n",
              "      <td>195.479647</td>\n",
              "    </tr>\n",
              "    <tr>\n",
              "      <th>973</th>\n",
              "      <td>195.362205</td>\n",
              "    </tr>\n",
              "  </tbody>\n",
              "</table>\n",
              "</div>"
            ],
            "text/plain": [
              "       Forecast\n",
              "914  221.962958\n",
              "915  219.907957\n",
              "916  217.661200\n",
              "917  215.597247\n",
              "918  213.771551\n",
              "919  212.202952\n",
              "920  210.881198\n",
              "921  209.780926\n",
              "922  208.890302\n",
              "923  208.186118\n",
              "924  207.627646\n",
              "925  207.177706\n",
              "926  206.802942\n",
              "927  206.475033\n",
              "928  206.171893\n",
              "929  205.877699\n",
              "930  205.580864\n",
              "931  205.274102\n",
              "932  204.953783\n",
              "933  204.619068\n",
              "934  204.271297\n",
              "935  203.913104\n",
              "936  203.547978\n",
              "937  203.179618\n",
              "938  202.811978\n",
              "939  202.448793\n",
              "940  202.092980\n",
              "941  201.746713\n",
              "942  201.411503\n",
              "943  201.088197\n",
              "944  200.777036\n",
              "945  200.477886\n",
              "946  200.190237\n",
              "947  199.913370\n",
              "948  199.646466\n",
              "949  199.388664\n",
              "950  199.139094\n",
              "951  198.899360\n",
              "952  198.670541\n",
              "953  198.451891\n",
              "954  198.242765\n",
              "955  198.042211\n",
              "956  197.849290\n",
              "957  197.663132\n",
              "958  197.483012\n",
              "959  197.308308\n",
              "960  197.138532\n",
              "961  196.973296\n",
              "962  196.815855\n",
              "963  196.664232\n",
              "964  196.517911\n",
              "965  196.376336\n",
              "966  196.238948\n",
              "967  196.105217\n",
              "968  195.974698\n",
              "969  195.847061\n",
              "970  195.722071\n",
              "971  195.599609\n",
              "972  195.479647\n",
              "973  195.362205"
            ]
          },
          "execution_count": 64,
          "metadata": {},
          "output_type": "execute_result"
        }
      ],
      "source": [
        "forecast_df"
      ]
    },
    {
      "cell_type": "markdown",
      "id": "e3095b1c-c33c-48a5-b722-b718bf7ae404",
      "metadata": {
        "id": "e3095b1c-c33c-48a5-b722-b718bf7ae404"
      },
      "source": [
        "### PLot the Forecast\n"
      ]
    },
    {
      "cell_type": "code",
      "execution_count": null,
      "id": "6196edd9-b0fb-4691-9ecd-d083b0e963e3",
      "metadata": {
        "tags": [],
        "id": "6196edd9-b0fb-4691-9ecd-d083b0e963e3",
        "outputId": "bca4ef30-d604-401a-8ff8-adbbda4ef3da"
      },
      "outputs": [
        {
          "data": {
            "text/plain": [
              "<Axes: >"
            ]
          },
          "execution_count": 65,
          "metadata": {},
          "output_type": "execute_result"
        },
        {
          "data": {
            "image/png": "[encoded data removed]",
            "text/plain": [
              "<Figure size 640x480 with 1 Axes>"
            ]
          },
          "metadata": {},
          "output_type": "display_data"
        },
        {
          "data": {
            "image/png": "[encoded data removed]",
            "text/plain": [
              "<Figure size 640x480 with 1 Axes>"
            ]
          },
          "metadata": {},
          "output_type": "display_data"
        }
      ],
      "source": [
        "df.plot()\n",
        "forecast_df.plot()"
      ]
    },
    {
      "cell_type": "code",
      "execution_count": null,
      "id": "7c297050-8d26-4e78-ba31-9238002b6588",
      "metadata": {
        "tags": [],
        "id": "7c297050-8d26-4e78-ba31-9238002b6588",
        "outputId": "544a9ba5-01a6-404f-8ba1-e2b8f3988967"
      },
      "outputs": [
        {
          "data": {
            "text/plain": [
              "<Axes: >"
            ]
          },
          "execution_count": 66,
          "metadata": {},
          "output_type": "execute_result"
        },
        {
          "data": {
            "image/png": "[encoded data removed]",
            "text/plain": [
              "<Figure size 800x1200 with 1 Axes>"
            ]
          },
          "metadata": {},
          "output_type": "display_data"
        }
      ],
      "source": [
        "ax = df.plot()\n",
        "forecast_df.plot(ax=ax, figsize=(8, 12))"
      ]
    },
    {
      "cell_type": "code",
      "execution_count": null,
      "id": "45560ca3-c174-4577-9a7a-45a0db8b24f0",
      "metadata": {
        "tags": [],
        "id": "45560ca3-c174-4577-9a7a-45a0db8b24f0"
      },
      "outputs": [],
      "source": [
        "dir_2 = pd.read_csv(\"AAPL_New.csv\")"
      ]
    },
    {
      "cell_type": "code",
      "execution_count": null,
      "id": "7f7067ec-53d2-4613-af2c-f7536acee6c5",
      "metadata": {
        "tags": [],
        "id": "7f7067ec-53d2-4613-af2c-f7536acee6c5"
      },
      "outputs": [],
      "source": [
        "re_df = dir_2"
      ]
    },
    {
      "cell_type": "code",
      "execution_count": null,
      "id": "4a0a3b7b-8eda-4b67-9d2b-386925aa4967",
      "metadata": {
        "tags": [],
        "id": "4a0a3b7b-8eda-4b67-9d2b-386925aa4967",
        "outputId": "5f12f1ed-b18b-4528-e244-5dd3daf6d692"
      },
      "outputs": [
        {
          "data": {
            "text/html": [
              "<div>\n",
              "<style scoped>\n",
              "    .dataframe tbody tr th:only-of-type {\n",
              "        vertical-align: middle;\n",
              "    }\n",
              "\n",
              "    .dataframe tbody tr th {\n",
              "        vertical-align: top;\n",
              "    }\n",
              "\n",
              "    .dataframe thead th {\n",
              "        text-align: right;\n",
              "    }\n",
              "</style>\n",
              "<table border=\"1\" class=\"dataframe\">\n",
              "  <thead>\n",
              "    <tr style=\"text-align: right;\">\n",
              "      <th></th>\n",
              "      <th>Date</th>\n",
              "      <th>Close</th>\n",
              "    </tr>\n",
              "  </thead>\n",
              "  <tbody>\n",
              "    <tr>\n",
              "      <th>0</th>\n",
              "      <td>08-20-2024</td>\n",
              "      <td>226.51</td>\n",
              "    </tr>\n",
              "    <tr>\n",
              "      <th>1</th>\n",
              "      <td>08-21-2024</td>\n",
              "      <td>226.40</td>\n",
              "    </tr>\n",
              "    <tr>\n",
              "      <th>2</th>\n",
              "      <td>08-22-2024</td>\n",
              "      <td>224.53</td>\n",
              "    </tr>\n",
              "    <tr>\n",
              "      <th>3</th>\n",
              "      <td>08-23-2024</td>\n",
              "      <td>226.84</td>\n",
              "    </tr>\n",
              "    <tr>\n",
              "      <th>4</th>\n",
              "      <td>08-26-2024</td>\n",
              "      <td>227.18</td>\n",
              "    </tr>\n",
              "  </tbody>\n",
              "</table>\n",
              "</div>"
            ],
            "text/plain": [
              "         Date   Close\n",
              "0  08-20-2024  226.51\n",
              "1  08-21-2024  226.40\n",
              "2  08-22-2024  224.53\n",
              "3  08-23-2024  226.84\n",
              "4  08-26-2024  227.18"
            ]
          },
          "execution_count": 84,
          "metadata": {},
          "output_type": "execute_result"
        }
      ],
      "source": [
        "re_df.head()"
      ]
    },
    {
      "cell_type": "code",
      "execution_count": null,
      "id": "7bf4340b-2be0-466d-819e-03fce148556f",
      "metadata": {
        "tags": [],
        "id": "7bf4340b-2be0-466d-819e-03fce148556f"
      },
      "outputs": [],
      "source": [
        "re_df = re_df.drop(columns=['Date'])\n"
      ]
    },
    {
      "cell_type": "code",
      "execution_count": null,
      "id": "9694dce3-2511-4c6e-ab4a-6618c82c9e55",
      "metadata": {
        "tags": [],
        "id": "9694dce3-2511-4c6e-ab4a-6618c82c9e55"
      },
      "outputs": [],
      "source": [
        "re_df = fore_df.drop(index=fore_df.index[0])\n"
      ]
    },
    {
      "cell_type": "code",
      "execution_count": null,
      "id": "a07ce057-e4cd-4bfd-97ca-cd7a8b0ed374",
      "metadata": {
        "tags": [],
        "id": "a07ce057-e4cd-4bfd-97ca-cd7a8b0ed374"
      },
      "outputs": [],
      "source": [
        "# Drop the first row and the last four rows\n",
        "re_df = fore_df.drop(index=fore_df.index[[-1, -2, -3, -4]])\n"
      ]
    },
    {
      "cell_type": "code",
      "execution_count": null,
      "id": "fabed8ad-c438-4d2f-86d4-cb22dae3cd87",
      "metadata": {
        "tags": [],
        "id": "fabed8ad-c438-4d2f-86d4-cb22dae3cd87",
        "outputId": "1e6603bb-6f58-441a-fc8a-ebb03303f7fb"
      },
      "outputs": [
        {
          "data": {
            "text/html": [
              "<div>\n",
              "<style scoped>\n",
              "    .dataframe tbody tr th:only-of-type {\n",
              "        vertical-align: middle;\n",
              "    }\n",
              "\n",
              "    .dataframe tbody tr th {\n",
              "        vertical-align: top;\n",
              "    }\n",
              "\n",
              "    .dataframe thead th {\n",
              "        text-align: right;\n",
              "    }\n",
              "</style>\n",
              "<table border=\"1\" class=\"dataframe\">\n",
              "  <thead>\n",
              "    <tr style=\"text-align: right;\">\n",
              "      <th></th>\n",
              "      <th>Close</th>\n",
              "      <th>Forecast</th>\n",
              "    </tr>\n",
              "  </thead>\n",
              "  <tbody>\n",
              "    <tr>\n",
              "      <th>1</th>\n",
              "      <td>226.40</td>\n",
              "      <td>221.962958</td>\n",
              "    </tr>\n",
              "    <tr>\n",
              "      <th>2</th>\n",
              "      <td>224.53</td>\n",
              "      <td>219.907957</td>\n",
              "    </tr>\n",
              "    <tr>\n",
              "      <th>3</th>\n",
              "      <td>226.84</td>\n",
              "      <td>217.661200</td>\n",
              "    </tr>\n",
              "    <tr>\n",
              "      <th>4</th>\n",
              "      <td>227.18</td>\n",
              "      <td>215.597247</td>\n",
              "    </tr>\n",
              "    <tr>\n",
              "      <th>5</th>\n",
              "      <td>228.03</td>\n",
              "      <td>213.771551</td>\n",
              "    </tr>\n",
              "  </tbody>\n",
              "</table>\n",
              "</div>"
            ],
            "text/plain": [
              "    Close    Forecast\n",
              "1  226.40  221.962958\n",
              "2  224.53  219.907957\n",
              "3  226.84  217.661200\n",
              "4  227.18  215.597247\n",
              "5  228.03  213.771551"
            ]
          },
          "execution_count": 88,
          "metadata": {},
          "output_type": "execute_result"
        }
      ],
      "source": [
        "re_df.head()"
      ]
    },
    {
      "cell_type": "code",
      "execution_count": null,
      "id": "55024df5-1ded-4f03-ad67-e8608f12e4ba",
      "metadata": {
        "tags": [],
        "id": "55024df5-1ded-4f03-ad67-e8608f12e4ba",
        "outputId": "6c8240af-fed1-48f2-9d6a-8188cf9c8577"
      },
      "outputs": [
        {
          "data": {
            "text/plain": [
              "<Axes: >"
            ]
          },
          "execution_count": 89,
          "metadata": {},
          "output_type": "execute_result"
        },
        {
          "data": {
            "image/png": "[encoded data removed]",
            "text/plain": [
              "<Figure size 640x480 with 1 Axes>"
            ]
          },
          "metadata": {},
          "output_type": "display_data"
        }
      ],
      "source": [
        "re_df.plot()"
      ]
    },
    {
      "cell_type": "code",
      "execution_count": null,
      "id": "eabadaba-e9a4-4aa1-900d-a2473b09ad50",
      "metadata": {
        "tags": [],
        "id": "eabadaba-e9a4-4aa1-900d-a2473b09ad50",
        "outputId": "1bfc1d4a-016e-417b-9040-85207ccddb47"
      },
      "outputs": [
        {
          "data": {
            "text/plain": [
              "array([221.96295829, 219.90795748, 217.66120037, 215.59724651,\n",
              "       213.77155116, 212.20295244, 210.88119812, 209.78092592,\n",
              "       208.89030201, 208.18611764, 207.6276463 , 207.17770601,\n",
              "       206.80294171, 206.47503265, 206.17189275, 205.87769885,\n",
              "       205.58086423, 205.27410216, 204.95378343, 204.61906779,\n",
              "       204.27129679, 203.9131041 , 203.54797774, 203.17961755,\n",
              "       202.81197755, 202.4487929 , 202.09297969, 201.74671264,\n",
              "       201.41150274, 201.0881973 , 200.77703638, 200.47788582,\n",
              "       200.19023725, 199.91337047, 199.64646644, 199.38866373,\n",
              "       199.13909387, 198.89935966, 198.6705414 , 198.45189064,\n",
              "       198.24276486, 198.04221085, 197.84928952, 197.66313241,\n",
              "       197.48301225, 197.30830771, 197.13853157, 196.97329551,\n",
              "       196.81585454, 196.66423164, 196.51791137, 196.37633594,\n",
              "       196.23894755, 196.10521663, 195.97469836, 195.84706088])"
            ]
          },
          "execution_count": 91,
          "metadata": {},
          "output_type": "execute_result"
        }
      ],
      "source": [
        "re_df['Forecast'].values"
      ]
    },
    {
      "cell_type": "code",
      "execution_count": null,
      "id": "c62fa11f-7c33-4d7a-844d-c61ee83443f6",
      "metadata": {
        "tags": [],
        "id": "c62fa11f-7c33-4d7a-844d-c61ee83443f6"
      },
      "outputs": [],
      "source": [
        "re_df['Forecast'] = re_df['Forecast'].values"
      ]
    },
    {
      "cell_type": "code",
      "execution_count": null,
      "id": "25269c63-9091-414b-877f-339d643f5897",
      "metadata": {
        "tags": [],
        "id": "25269c63-9091-414b-877f-339d643f5897",
        "outputId": "c2395aa7-e681-4c24-ce8a-0979be6804df"
      },
      "outputs": [
        {
          "data": {
            "text/plain": [
              "<Axes: >"
            ]
          },
          "execution_count": 94,
          "metadata": {},
          "output_type": "execute_result"
        },
        {
          "data": {
            "image/png": "[encoded data removed]",
            "text/plain": [
              "<Figure size 640x480 with 1 Axes>"
            ]
          },
          "metadata": {},
          "output_type": "display_data"
        }
      ],
      "source": [
        "re_df.plot()"
      ]
    },
    {
      "cell_type": "code",
      "execution_count": null,
      "id": "a8433d19-bdd2-43c5-a8a1-285dc89fe3df",
      "metadata": {
        "id": "a8433d19-bdd2-43c5-a8a1-285dc89fe3df"
      },
      "outputs": [],
      "source": []
    }
  ],
  "metadata": {
    "environment": {
      "kernel": "python3",
      "name": "tf2-cpu.2-17.m125",
      "type": "gcloud",
      "uri": "us-docker.pkg.dev/deeplearning-platform-release/gcr.io/tf2-cpu.2-17:m125"
    },
    "kernelspec": {
      "display_name": "Python 3",
      "language": "python",
      "name": "python3"
    },
    "language_info": {
      "codemirror_mode": {
        "name": "ipython",
        "version": 3
      },
      "file_extension": ".py",
      "mimetype": "text/x-python",
      "name": "python",
      "nbconvert_exporter": "python",
      "pygments_lexer": "ipython3",
      "version": "3.10.15"
    },
    "colab": {
      "provenance": []
    }
  },
  "nbformat": 4,
  "nbformat_minor": 5
}